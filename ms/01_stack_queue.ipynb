{
 "cells": [
  {
   "cell_type": "code",
   "execution_count": 26,
   "metadata": {},
   "outputs": [],
   "source": [
    "# code description\n",
    "# Author : minsik.lee\n",
    "# FileName : 01_stack_queue.py\n",
    "# Note \n",
    "\t# @Summary : 코딩테스트 - 프로그래머스\n",
    "\t# @version 1.0 : (2020-11-28) draft\n",
    "\n",
    "# 확성  테스트\n",
    "# 테스트 1 〉\t통과 (0.01ms, 10.1MB)\n",
    "# 테스트 2 〉\t통과 (0.11ms, 10.1MB)\n",
    "# 테스트 3 〉\t통과 (1.73ms, 10.3MB)\n",
    "# 테스트 4 〉\t통과 (2.14ms, 10MB)\n",
    "# 테스트 5 〉\t통과 (2.46ms, 10.3MB)\n",
    "# 테스트 6 〉\t통과 (0.05ms, 10.1MB)\n",
    "# 테스트 7 〉\t통과 (1.08ms, 10.2MB)\n",
    "# 테스트 8 〉\t통과 (1.24ms, 10.2MB)\n",
    "# 테스트 9 〉\t통과 (0.05ms, 10.2MB)\n",
    "# 테스트 10 〉\t통과 (2.74ms, 10.3MB)\n",
    "# 효율성  테스트\n",
    "# 테스트 1 〉\t실패 (시간 초과)\n",
    "# 테스트 2 〉\t실패 (시간 초과)\n",
    "# 테스트 3 〉\t실패 (시간 초과)\n",
    "# 테스트 4 〉\t실패 (시간 초과)\n",
    "# 테스트 5 〉\t실패 (시간 초과)\n",
    "\n",
    "\n",
    "\n",
    "def solution(prices):\n",
    "    answer = []\n",
    "\n",
    "    while prices: # while loop - len(prices)\n",
    "        element = prices.pop(0) # first element\n",
    "        prices_without_first = prices.copy() # Comparative group\n",
    "        count = 0 # check point (next stock price is bigger than now)\n",
    "        while prices_without_first: # Comparative group\n",
    "            sub_element = prices_without_first.pop(0)\n",
    "            if element <= sub_element: # Comparative group's first element\n",
    "                count = count +1\n",
    "            else:\n",
    "                count = count +1\n",
    "                break\n",
    "        answer.extend([count])\n",
    "    return answer"
   ]
  },
  {
   "cell_type": "code",
   "execution_count": null,
   "metadata": {},
   "outputs": [],
   "source": [
    "# code description\n",
    "# Author : minsik.lee\n",
    "# FileName : 01_stack_queue.py\n",
    "# Note \n",
    "\t# @Summary : 코딩테스트 - 프로그래머스\n",
    "\t# @version 1.0 : (2020-11-28) draft\n",
    "\t# @version 2.0 : (2020-11-28) change \"while-loop\" to \"for-loop\"\n",
    "\n",
    "\n",
    "# 채점을 시작합니다.\n",
    "# 정확성  테스트\n",
    "# 테스트 1 〉\t통과 (0.01ms, 10.2MB)\n",
    "# 테스트 2 〉\t통과 (0.05ms, 10.1MB)\n",
    "# 테스트 3 〉\t통과 (0.57ms, 10.2MB)\n",
    "# 테스트 4 〉\t통과 (0.64ms, 10.3MB)\n",
    "# 테스트 5 〉\t통과 (0.87ms, 10.2MB)\n",
    "# 테스트 6 〉\t통과 (0.03ms, 10.3MB)\n",
    "# 테스트 7 〉\t통과 (0.36ms, 10.3MB)\n",
    "# 테스트 8 〉\t통과 (0.41ms, 10.3MB)\n",
    "# 테스트 9 〉\t통과 (0.03ms, 10MB)\n",
    "# 테스트 10 〉\t통과 (0.90ms, 10.2MB)\n",
    "# 효율성  테스트\n",
    "# 테스트 1 〉\t실패 (시간 초과)\n",
    "# 테스트 2 〉\t실패 (시간 초과)\n",
    "# 테스트 3 〉\t실패 (시간 초과)\n",
    "# 테스트 4 〉\t실패 (시간 초과)\n",
    "# 테스트 5 〉\t실패 (시간 초과)\n",
    "\n",
    "def solution(prices):\n",
    "    answer = []\n",
    "\n",
    "    while prices: # while loop - len(prices)\n",
    "        element = prices.pop(0) # first element\n",
    "        count = 0 # check point (next stock price is bigger than now)\n",
    "        for sub_element in prices:\n",
    "            if sub_element >= element:\n",
    "                count = count+1\n",
    "            else:\n",
    "                count = count+1\n",
    "                break\n",
    "        answer.extend([count])\n",
    "    return answer"
   ]
  },
  {
   "cell_type": "code",
   "execution_count": 4,
   "metadata": {},
   "outputs": [],
   "source": [
    "from collections import deque\n",
    "\n",
    "# code description\n",
    "# Author : minsik.lee\n",
    "# FileName : 01_stack_queue.py\n",
    "# Note \n",
    "\t# @Summary : 코딩테스트 - 프로그래머스\n",
    "\t# @version 1.0 : (2020-11-28) draft\n",
    "\t# @version 2.0 : (2020-11-28) change \"while-loop\" to \"for-loop\"\n",
    "\t# @version 3.0 : (2020-11-30) deque (https://huidea.tistory.com/19)\n",
    "    \n",
    "    \n",
    "# 채점을 시작합니다.\n",
    "# 정확성  테스트\n",
    "# 테스트 1 〉\t통과 (0.01ms, 10.1MB)\n",
    "# 테스트 2 〉\t통과 (0.05ms, 10.2MB)\n",
    "# 테스트 3 〉\t통과 (0.65ms, 10.2MB)\n",
    "# 테스트 4 〉\t통과 (0.56ms, 10.4MB)\n",
    "# 테스트 5 〉\t통과 (0.85ms, 10.3MB)\n",
    "# 테스트 6 〉\t통과 (0.03ms, 10.1MB)\n",
    "# 테스트 7 〉\t통과 (0.32ms, 10.2MB)\n",
    "# 테스트 8 〉\t통과 (0.39ms, 10.3MB)\n",
    "# 테스트 9 〉\t통과 (0.03ms, 10.1MB)\n",
    "# 테스트 10 〉\t통과 (0.82ms, 10.3MB)\n",
    "# 효율성  테스트\n",
    "# 테스트 1 〉\t통과 (65.07ms, 18.8MB)\n",
    "# 테스트 2 〉\t통과 (50.27ms, 17.5MB)\n",
    "# 테스트 3 〉\t통과 (76.04ms, 19.5MB)\n",
    "# 테스트 4 〉\t통과 (57.92ms, 18.3MB)\n",
    "# 테스트 5 〉\t통과 (40.96ms, 16.9MB)\n",
    "\n",
    "\n",
    "def solution(prices):\n",
    "    answer = []\n",
    "    prices = deque(prices)\n",
    "\n",
    "    while prices: # while loop - len(prices)\n",
    "        element = prices.popleft() # first element\n",
    "        count = 0 # check point (next stock price is bigger than now)\n",
    "        for sub_element in prices:\n",
    "            if sub_element >= element:\n",
    "                count = count+1\n",
    "            else:\n",
    "                count = count+1\n",
    "                break\n",
    "        answer.extend([count])\n",
    "    return answer"
   ]
  },
  {
   "cell_type": "code",
   "execution_count": 9,
   "metadata": {},
   "outputs": [],
   "source": [
    "prices = [1, 2, 3, 2, 3]\n",
    "answer = [4, 3, 1, 1, 0]"
   ]
  },
  {
   "cell_type": "code",
   "execution_count": null,
   "metadata": {},
   "outputs": [],
   "source": [
    "solution([1, 2, 3, 2, 3])"
   ]
  },
  {
   "cell_type": "code",
   "execution_count": null,
   "metadata": {},
   "outputs": [],
   "source": []
  },
  {
   "cell_type": "markdown",
   "metadata": {},
   "source": [
    "### FIFO (Queue)"
   ]
  },
  {
   "cell_type": "code",
   "execution_count": 20,
   "metadata": {},
   "outputs": [
    {
     "name": "stdout",
     "output_type": "stream",
     "text": [
      "pop 1\n"
     ]
    },
    {
     "data": {
      "text/plain": [
       "[2, 3, 2, 3]"
      ]
     },
     "execution_count": 20,
     "metadata": {},
     "output_type": "execute_result"
    }
   ],
   "source": [
    "# FIFO (Queque) - list\n",
    "prices = [1, 2, 3, 2, 3]\n",
    "print('pop', prices.pop(0)) # O(n)\n",
    "prices"
   ]
  },
  {
   "cell_type": "code",
   "execution_count": 21,
   "metadata": {},
   "outputs": [
    {
     "name": "stdout",
     "output_type": "stream",
     "text": [
      "pop 1\n"
     ]
    },
    {
     "data": {
      "text/plain": [
       "deque([2, 3, 2, 3])"
      ]
     },
     "execution_count": 21,
     "metadata": {},
     "output_type": "execute_result"
    }
   ],
   "source": [
    "# FIFO (Queque) - deque\n",
    "prices = deque([1, 2, 3, 2, 3])\n",
    "print('pop', prices.popleft()) # O(1)\n",
    "prices"
   ]
  },
  {
   "cell_type": "markdown",
   "metadata": {},
   "source": [
    "### FILO (Stack)"
   ]
  },
  {
   "cell_type": "code",
   "execution_count": 22,
   "metadata": {},
   "outputs": [
    {
     "name": "stdout",
     "output_type": "stream",
     "text": [
      "pop 3\n"
     ]
    },
    {
     "data": {
      "text/plain": [
       "[1, 2, 3, 2]"
      ]
     },
     "execution_count": 22,
     "metadata": {},
     "output_type": "execute_result"
    }
   ],
   "source": [
    "# FIFO (Queque) - list\n",
    "prices = [1, 2, 3, 2, 3]\n",
    "print('pop', prices.pop()) # O(1)\n",
    "prices"
   ]
  },
  {
   "cell_type": "code",
   "execution_count": 23,
   "metadata": {},
   "outputs": [
    {
     "name": "stdout",
     "output_type": "stream",
     "text": [
      "pop 3\n"
     ]
    },
    {
     "data": {
      "text/plain": [
       "deque([1, 2, 3, 2])"
      ]
     },
     "execution_count": 23,
     "metadata": {},
     "output_type": "execute_result"
    }
   ],
   "source": [
    "# FIFO (Queque) - deque\n",
    "prices = deque([1, 2, 3, 2, 3])\n",
    "print('pop', prices.pop()) # O(1)\n",
    "prices"
   ]
  },
  {
   "cell_type": "code",
   "execution_count": null,
   "metadata": {},
   "outputs": [],
   "source": []
  },
  {
   "cell_type": "code",
   "execution_count": 146,
   "metadata": {},
   "outputs": [],
   "source": [
    "# https://poorman.tistory.com/412\n",
    "from collections import deque\n",
    "# from queue import Queue\n",
    "bridge_length = 2\n",
    "weight = 10\n",
    "truck_weights = [7,4,5,6]\n",
    "# return_answer = 8\n"
   ]
  },
  {
   "cell_type": "code",
   "execution_count": null,
   "metadata": {},
   "outputs": [],
   "source": []
  },
  {
   "cell_type": "code",
   "execution_count": 147,
   "metadata": {},
   "outputs": [],
   "source": [
    "step = 0\n",
    "\n",
    "bridge_truck = [0] * bridge_length # other : moving zone\n",
    "bridge_truck = deque(bridge_truck)\n",
    "truck_weights = deque(truck_weights)"
   ]
  },
  {
   "cell_type": "code",
   "execution_count": null,
   "metadata": {},
   "outputs": [],
   "source": []
  },
  {
   "cell_type": "code",
   "execution_count": 148,
   "metadata": {},
   "outputs": [
    {
     "name": "stdout",
     "output_type": "stream",
     "text": [
      "[0] truck-deque([7, 4, 5, 6]), wait_truck-None, bridge_truck-deque([0, 0])\n"
     ]
    }
   ],
   "source": [
    "print(f'[{step}] truck-{truck_weights}, wait_truck-{None}, bridge_truck-{bridge_truck}')"
   ]
  },
  {
   "cell_type": "code",
   "execution_count": 149,
   "metadata": {},
   "outputs": [
    {
     "name": "stdout",
     "output_type": "stream",
     "text": [
      "[0] truck-deque([4, 5, 6]), wait_truck-7, bridge_truck-deque([0, 0])\n",
      "[1] truck-deque([4, 5, 6]), wait_truck-7, bridge_truck-deque([7, 0])\n"
     ]
    }
   ],
   "source": [
    "waiting_truck = truck_weights.popleft() # waiting\n",
    "print(f'[{step}] truck-{truck_weights}, wait_truck-{waiting_truck}, bridge_truck-{bridge_truck}')\n",
    "\n",
    "if sum(bridge_truck) + waiting_truck <= weight:\n",
    "    bridge_truck.appendleft(waiting_truck) # on - bridge\n",
    "    bridge_truck.pop() # left - bridge\n",
    "    step += 1\n",
    "    print(f'[{step}] truck-{truck_weights}, wait_truck-{waiting_truck}, bridge_truck-{bridge_truck}')\n",
    "else:\n",
    "    while sum(bridge_truck) != 0:\n",
    "        bridge_truck.appendleft(0)\n",
    "        bridge_truck.pop() # left - bridge\n",
    "        step += 1\n",
    "        print(f'[{step}] truck-{truck_weights}, wait_truck-{waiting_truck}, bridge_truck-{bridge_truck}')"
   ]
  },
  {
   "cell_type": "code",
   "execution_count": 155,
   "metadata": {},
   "outputs": [
    {
     "name": "stdout",
     "output_type": "stream",
     "text": [
      "[0] truck-deque([4, 5, 3]), wait_truck-7, bridge_truck-deque([0, 0])\n",
      "[1] truck-deque([4, 5, 3]), wait_truck-7, bridge_truck-deque([7, 0])\n"
     ]
    }
   ],
   "source": [
    "# https://poorman.tistory.com/412\n",
    "from collections import deque\n",
    "# from queue import Queue\n",
    "bridge_length = 2\n",
    "weight = 10\n",
    "truck_weights = [7,4,5,3]\n",
    "# return_answer = 8\n",
    "\n",
    "step = 0\n",
    "\n",
    "bridge_truck = [0] * bridge_length # other : moving zone\n",
    "bridge_truck = deque(bridge_truck)\n",
    "truck_weights = deque(truck_weights)\n",
    "\n",
    "waiting_truck = truck_weights.popleft() # waiting\n",
    "print(f'[{step}] truck-{truck_weights}, wait_truck-{waiting_truck}, bridge_truck-{bridge_truck}')\n",
    "\n",
    "if sum(bridge_truck) + waiting_truck <= weight:\n",
    "    bridge_truck.appendleft(waiting_truck) # on - bridge\n",
    "    bridge_truck.pop() # left - bridge\n",
    "    step += 1\n",
    "    print(f'[{step}] truck-{truck_weights}, wait_truck-{waiting_truck}, bridge_truck-{bridge_truck}')\n",
    "else:\n",
    "    bridge_truck.appendleft(0)\n",
    "    bridge_truck.pop() # left - bridge\n",
    "    step += 1\n",
    "    print(f'[{step}] truck-{truck_weights}, wait_truck-{waiting_truck}, bridge_truck-{bridge_truck}')\n",
    "\n"
   ]
  },
  {
   "cell_type": "code",
   "execution_count": null,
   "metadata": {},
   "outputs": [],
   "source": []
  },
  {
   "cell_type": "code",
   "execution_count": 267,
   "metadata": {},
   "outputs": [
    {
     "name": "stdout",
     "output_type": "stream",
     "text": [
      "0\n",
      "1\n",
      "2\n",
      "3\n"
     ]
    }
   ],
   "source": [
    "# code description\n",
    "# Author : minsik.lee\n",
    "# FileName : 01_stack_queue.py\n",
    "# Note \n",
    "\t# @Summary : 코딩테스트 - 프로그래머스 Question (3)\n",
    "\t# @version 1.0 : (2020-12-07) draft\n",
    "    \n",
    "    \n",
    "# 테스트 1 〉\t실패 (73.47ms, 10.2MB)\n",
    "# 테스트 2 〉\t통과 (7014.59ms, 10.3MB)\n",
    "# 테스트 3 〉\t통과 (0.09ms, 10.2MB)\n",
    "# 테스트 4 〉\t실패 (1434.96ms, 10.4MB)\n",
    "# 테스트 5 〉\t실패 (시간 초과)\n",
    "# 테스트 6 〉\t실패 (6645.56ms, 10.4MB)\n",
    "# 테스트 7 〉\t통과 (26.85ms, 10.2MB)\n",
    "# 테스트 8 〉\t실패 (0.98ms, 10.2MB)\n",
    "# 테스트 9 〉\t실패 (16.04ms, 10.2MB)\n",
    "# 테스트 10 〉\t실패 (1.16ms, 10.2MB)\n",
    "# 테스트 11 〉\t실패 (0.02ms, 10.2MB)\n",
    "# 테스트 12 〉\t실패 (1.03ms, 10.3MB)\n",
    "# 테스트 13 〉\t실패 (6.68ms, 10.2MB)\n",
    "# 테스트 14 〉\t통과 (0.24ms, 10.3MB)\n",
    "\n",
    "from collections import deque\n",
    "def solution(bridge_length, weight, truck_weights):\n",
    "    \n",
    "    \n",
    "    step = 0\n",
    "    bridge_truck = [0] * (bridge_length + 1) # first : waiting zone, other : moving zone\n",
    "\n",
    "    # insert waiting zone\n",
    "    for idx in range(len(truck_weights)):\n",
    "        on_truck = truck_weights[idx]\n",
    "\n",
    "        bridge_truck = [on_truck] + bridge_truck[:-1] # waiting zone 에 두고 나머지 트럭 옆으로 한 칸씩\n",
    "        if sum(bridge_truck[1:]) != 0: \n",
    "            step += 1 # waiting zone 에만 있는 경우는 step 늘리지 않음\n",
    "        print(step, bridge_truck, on_truck)\n",
    "        while sum(bridge_truck) > weight: # 다리 위에 Full\n",
    "            bridge_truck[1:] = [0] + bridge_truck[1:-1]\n",
    "            if sum(bridge_truck[1:]) != 0:\n",
    "                step += 1 # waiting zone 에만 있는 경우는 step 늘리지 않음\n",
    "            print(step, bridge_truck, on_truck)\n",
    "\n",
    "        if (idx+1) == len(truck_weights):\n",
    "            while sum(bridge_truck) != 0:\n",
    "                bridge_truck = [0] + bridge_truck[:-1]\n",
    "                step += 1 # 마지막 건너는 것 까지 포함해야함\n",
    "                print(step, bridge_truck, on_truck)\n",
    "    return step"
   ]
  },
  {
   "cell_type": "code",
   "execution_count": 48,
   "metadata": {},
   "outputs": [],
   "source": [
    "# code description ***\n",
    "# Author : minsik.lee\n",
    "# FileName : 01_stack_queue.py\n",
    "# Note \n",
    "\t# @Summary : 코딩테스트 - 프로그래머스 Question (3)\n",
    "\t# @version 1.0 : (2020-12-07) draft\n",
    "\t# @version 2.0 : (2020-12-08) deque front/back\n",
    "    \n",
    "    \n",
    "# 테스트 1 〉\t통과 (12.17ms, 10.2MB)\n",
    "# 테스트 2 〉\t통과 (1664.74ms, 10.3MB)\n",
    "# 테스트 3 〉\t통과 (0.02ms, 10.1MB)\n",
    "# 테스트 4 〉\t통과 (326.26ms, 10.2MB)\n",
    "# 테스트 5 〉\t실패 (시간 초과)\n",
    "# 테스트 6 〉\t통과 (1838.31ms, 10.3MB)\n",
    "# 테스트 7 〉\t통과 (6.49ms, 10.2MB)\n",
    "# 테스트 8 〉\t통과 (0.36ms, 10.3MB)\n",
    "# 테스트 9 〉\t통과 (6.50ms, 10.2MB)\n",
    "# 테스트 10 〉\t통과 (0.44ms, 10.2MB)\n",
    "# 테스트 11 〉\t통과 (0.01ms, 10.1MB)\n",
    "# 테스트 12 〉\t통과 (0.47ms, 10.1MB)\n",
    "# 테스트 13 〉\t통과 (2.55ms, 10.2MB)\n",
    "# 테스트 14 〉\t통과 (0.02ms, 10.2MB)\n",
    "\n",
    "from collections import deque\n",
    "def solution(bridge_length, weight, truck_weights):\n",
    "    \n",
    "    step = 0\n",
    "\n",
    "    bridge_truck = [0] * bridge_length # other : moving zone\n",
    "    bridge_truck = deque(bridge_truck)\n",
    "    truck_weights = deque(truck_weights)\n",
    "\n",
    "\n",
    "    print(f'[{step}] truck-{str(truck_weights):20}, bridge_truck-{bridge_truck}')\n",
    "    while bridge_truck: \n",
    "        bridge_truck.pop() # left - bridge\n",
    "        if truck_weights:\n",
    "            if sum(bridge_truck) + truck_weights[0] <= weight:\n",
    "                waiting_truck = truck_weights.popleft() # waiting\n",
    "                bridge_truck.appendleft(waiting_truck) # on - bridge\n",
    "            else:\n",
    "                bridge_truck.appendleft(0)\n",
    "        step += 1\n",
    "        print(f'[{step}] truck-{str(truck_weights):20}, bridge_truck-{bridge_truck}')\n",
    "    \n",
    "    return step"
   ]
  },
  {
   "cell_type": "code",
   "execution_count": null,
   "metadata": {},
   "outputs": [],
   "source": []
  },
  {
   "cell_type": "code",
   "execution_count": 274,
   "metadata": {},
   "outputs": [
    {
     "ename": "SyntaxError",
     "evalue": "invalid syntax (<ipython-input-274-66915c78e571>, line 1)",
     "output_type": "error",
     "traceback": [
      "\u001b[0;36m  File \u001b[0;32m\"<ipython-input-274-66915c78e571>\"\u001b[0;36m, line \u001b[0;32m1\u001b[0m\n\u001b[0;31m    priorities\tlocation\treturn\u001b[0m\n\u001b[0m              \t^\u001b[0m\n\u001b[0;31mSyntaxError\u001b[0m\u001b[0;31m:\u001b[0m invalid syntax\n"
     ]
    }
   ],
   "source": [
    "priorities\tlocation\treturn\n",
    "[2, 1, 3, 2]\t2\t1\n",
    "[1, 1, 9, 1, 1, 1]\t0\t5\n",
    "\n",
    "# 큰 수 1번 > 이하 맨뒤로\n"
   ]
  },
  {
   "cell_type": "code",
   "execution_count": 339,
   "metadata": {},
   "outputs": [],
   "source": [
    "priorities = [1, 1, 9, 1, 1, 1]\n",
    "location = 0"
   ]
  },
  {
   "cell_type": "code",
   "execution_count": 344,
   "metadata": {},
   "outputs": [],
   "source": [
    "priorities = [2, 1, 3, 2]\n",
    "location = 2"
   ]
  },
  {
   "cell_type": "code",
   "execution_count": 336,
   "metadata": {},
   "outputs": [],
   "source": [
    "# code description ***\n",
    "# Author : minsik.lee\n",
    "# FileName : 01_stack_queue.py\n",
    "# Note \n",
    "\t# @Summary : 코딩테스트 - 프로그래머스 Question (4)\n",
    "\t# @version 1.0 : (2020-12-07) draft\n",
    "\t# @version 2.0 : (2020-12-08) deque front/back\n",
    "\n",
    "\n",
    "from collections import deque\n",
    "def solution(priorities, location):\n",
    "    answer = 0\n",
    "\n",
    "\n",
    "    priorities_list = deque([[idx, v] for idx, v in enumerate(priorities)]) # pairs - {idx, values}\n",
    "    priorities_sorted = sorted(priorities, reverse=True) # desc 정렬, 큰 수 부터 하나씩 return\n",
    "    priorities_sorted = deque(priorities_sorted)\n",
    "\n",
    "    answer = 0\n",
    "    while priorities_list:\n",
    "    #     print(priorities_list)\n",
    "        left = priorities_list.popleft() # 비교대상\n",
    "\n",
    "        if left[1] != priorities_sorted[0]: # 최우선 순위 값이 아니면, 다시 append\n",
    "            priorities_list.append(left) \n",
    "        else: # 최우선 순위의 경우\n",
    "            priorities_sorted.popleft() # 우선순위 리스트에서 하나 빼고\n",
    "            answer += 1 # answer 번째 return \n",
    "            if left[0] == location: # 내가 찾고 자 하는 녀석과 동일한 경우 \n",
    "                return answer"
   ]
  }
 ],
 "metadata": {
  "kernelspec": {
   "display_name": "Python 3",
   "language": "python",
   "name": "python3"
  },
  "language_info": {
   "codemirror_mode": {
    "name": "ipython",
    "version": 3
   },
   "file_extension": ".py",
   "mimetype": "text/x-python",
   "name": "python",
   "nbconvert_exporter": "python",
   "pygments_lexer": "ipython3",
   "version": "3.8.3"
  }
 },
 "nbformat": 4,
 "nbformat_minor": 4
}

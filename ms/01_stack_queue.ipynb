{
 "cells": [
  {
   "cell_type": "code",
   "execution_count": 26,
   "metadata": {},
   "outputs": [],
   "source": [
    "# code description\n",
    "# Author : minsik.lee\n",
    "# FileName : 01_stack_queue.py\n",
    "# Note \n",
    "\t# @Summary : 코딩테스트 - 프로그래머스\n",
    "\t# @version 1.0 : (2020-11-28) draft\n",
    "\n",
    "# 확성  테스트\n",
    "# 테스트 1 〉\t통과 (0.01ms, 10.1MB)\n",
    "# 테스트 2 〉\t통과 (0.11ms, 10.1MB)\n",
    "# 테스트 3 〉\t통과 (1.73ms, 10.3MB)\n",
    "# 테스트 4 〉\t통과 (2.14ms, 10MB)\n",
    "# 테스트 5 〉\t통과 (2.46ms, 10.3MB)\n",
    "# 테스트 6 〉\t통과 (0.05ms, 10.1MB)\n",
    "# 테스트 7 〉\t통과 (1.08ms, 10.2MB)\n",
    "# 테스트 8 〉\t통과 (1.24ms, 10.2MB)\n",
    "# 테스트 9 〉\t통과 (0.05ms, 10.2MB)\n",
    "# 테스트 10 〉\t통과 (2.74ms, 10.3MB)\n",
    "# 효율성  테스트\n",
    "# 테스트 1 〉\t실패 (시간 초과)\n",
    "# 테스트 2 〉\t실패 (시간 초과)\n",
    "# 테스트 3 〉\t실패 (시간 초과)\n",
    "# 테스트 4 〉\t실패 (시간 초과)\n",
    "# 테스트 5 〉\t실패 (시간 초과)\n",
    "\n",
    "\n",
    "\n",
    "def solution(prices):\n",
    "    answer = []\n",
    "\n",
    "    while prices: # while loop - len(prices)\n",
    "        element = prices.pop(0) # first element\n",
    "        prices_without_first = prices.copy() # Comparative group\n",
    "        count = 0 # check point (next stock price is bigger than now)\n",
    "        while prices_without_first: # Comparative group\n",
    "            sub_element = prices_without_first.pop(0)\n",
    "            if element <= sub_element: # Comparative group's first element\n",
    "                count = count +1\n",
    "            else:\n",
    "                count = count +1\n",
    "                break\n",
    "        answer.extend([count])\n",
    "    return answer"
   ]
  },
  {
   "cell_type": "code",
   "execution_count": null,
   "metadata": {},
   "outputs": [],
   "source": [
    "# code description\n",
    "# Author : minsik.lee\n",
    "# FileName : 01_stack_queue.py\n",
    "# Note \n",
    "\t# @Summary : 코딩테스트 - 프로그래머스\n",
    "\t# @version 1.0 : (2020-11-28) draft\n",
    "\t# @version 2.0 : (2020-11-28) change \"while-loop\" to \"for-loop\"\n",
    "\n",
    "\n",
    "# 채점을 시작합니다.\n",
    "# 정확성  테스트\n",
    "# 테스트 1 〉\t통과 (0.01ms, 10.2MB)\n",
    "# 테스트 2 〉\t통과 (0.05ms, 10.1MB)\n",
    "# 테스트 3 〉\t통과 (0.57ms, 10.2MB)\n",
    "# 테스트 4 〉\t통과 (0.64ms, 10.3MB)\n",
    "# 테스트 5 〉\t통과 (0.87ms, 10.2MB)\n",
    "# 테스트 6 〉\t통과 (0.03ms, 10.3MB)\n",
    "# 테스트 7 〉\t통과 (0.36ms, 10.3MB)\n",
    "# 테스트 8 〉\t통과 (0.41ms, 10.3MB)\n",
    "# 테스트 9 〉\t통과 (0.03ms, 10MB)\n",
    "# 테스트 10 〉\t통과 (0.90ms, 10.2MB)\n",
    "# 효율성  테스트\n",
    "# 테스트 1 〉\t실패 (시간 초과)\n",
    "# 테스트 2 〉\t실패 (시간 초과)\n",
    "# 테스트 3 〉\t실패 (시간 초과)\n",
    "# 테스트 4 〉\t실패 (시간 초과)\n",
    "# 테스트 5 〉\t실패 (시간 초과)\n",
    "\n",
    "def solution(prices):\n",
    "    answer = []\n",
    "\n",
    "    while prices: # while loop - len(prices)\n",
    "        element = prices.pop(0) # first element\n",
    "        count = 0 # check point (next stock price is bigger than now)\n",
    "        for sub_element in prices:\n",
    "            if sub_element >= element:\n",
    "                count = count+1\n",
    "            else:\n",
    "                count = count+1\n",
    "                break\n",
    "        answer.extend([count])\n",
    "    return answer"
   ]
  },
  {
   "cell_type": "code",
   "execution_count": 4,
   "metadata": {},
   "outputs": [],
   "source": [
    "from collections import deque\n",
    "\n",
    "# code description\n",
    "# Author : minsik.lee\n",
    "# FileName : 01_stack_queue.py\n",
    "# Note \n",
    "\t# @Summary : 코딩테스트 - 프로그래머스\n",
    "\t# @version 1.0 : (2020-11-28) draft\n",
    "\t# @version 2.0 : (2020-11-28) change \"while-loop\" to \"for-loop\"\n",
    "\t# @version 3.0 : (2020-11-30) deque (https://huidea.tistory.com/19)\n",
    "    \n",
    "    \n",
    "# 채점을 시작합니다.\n",
    "# 정확성  테스트\n",
    "# 테스트 1 〉\t통과 (0.01ms, 10.1MB)\n",
    "# 테스트 2 〉\t통과 (0.05ms, 10.2MB)\n",
    "# 테스트 3 〉\t통과 (0.65ms, 10.2MB)\n",
    "# 테스트 4 〉\t통과 (0.56ms, 10.4MB)\n",
    "# 테스트 5 〉\t통과 (0.85ms, 10.3MB)\n",
    "# 테스트 6 〉\t통과 (0.03ms, 10.1MB)\n",
    "# 테스트 7 〉\t통과 (0.32ms, 10.2MB)\n",
    "# 테스트 8 〉\t통과 (0.39ms, 10.3MB)\n",
    "# 테스트 9 〉\t통과 (0.03ms, 10.1MB)\n",
    "# 테스트 10 〉\t통과 (0.82ms, 10.3MB)\n",
    "# 효율성  테스트\n",
    "# 테스트 1 〉\t통과 (65.07ms, 18.8MB)\n",
    "# 테스트 2 〉\t통과 (50.27ms, 17.5MB)\n",
    "# 테스트 3 〉\t통과 (76.04ms, 19.5MB)\n",
    "# 테스트 4 〉\t통과 (57.92ms, 18.3MB)\n",
    "# 테스트 5 〉\t통과 (40.96ms, 16.9MB)\n",
    "\n",
    "\n",
    "def solution(prices):\n",
    "    answer = []\n",
    "    prices = deque(prices)\n",
    "\n",
    "    while prices: # while loop - len(prices)\n",
    "        element = prices.popleft() # first element\n",
    "        count = 0 # check point (next stock price is bigger than now)\n",
    "        for sub_element in prices:\n",
    "            if sub_element >= element:\n",
    "                count = count+1\n",
    "            else:\n",
    "                count = count+1\n",
    "                break\n",
    "        answer.extend([count])\n",
    "    return answer"
   ]
  },
  {
   "cell_type": "code",
   "execution_count": 9,
   "metadata": {},
   "outputs": [],
   "source": [
    "prices = [1, 2, 3, 2, 3]\n",
    "answer = [4, 3, 1, 1, 0]"
   ]
  },
  {
   "cell_type": "code",
   "execution_count": null,
   "metadata": {},
   "outputs": [],
   "source": [
    "solution([1, 2, 3, 2, 3])"
   ]
  },
  {
   "cell_type": "code",
   "execution_count": null,
   "metadata": {},
   "outputs": [],
   "source": []
  },
  {
   "cell_type": "markdown",
   "metadata": {},
   "source": [
    "### FIFO (Queue)"
   ]
  },
  {
   "cell_type": "code",
   "execution_count": 20,
   "metadata": {},
   "outputs": [
    {
     "name": "stdout",
     "output_type": "stream",
     "text": [
      "pop 1\n"
     ]
    },
    {
     "data": {
      "text/plain": [
       "[2, 3, 2, 3]"
      ]
     },
     "execution_count": 20,
     "metadata": {},
     "output_type": "execute_result"
    }
   ],
   "source": [
    "# FIFO (Queque) - list\n",
    "prices = [1, 2, 3, 2, 3]\n",
    "print('pop', prices.pop(0)) # O(n)\n",
    "prices"
   ]
  },
  {
   "cell_type": "code",
   "execution_count": 21,
   "metadata": {},
   "outputs": [
    {
     "name": "stdout",
     "output_type": "stream",
     "text": [
      "pop 1\n"
     ]
    },
    {
     "data": {
      "text/plain": [
       "deque([2, 3, 2, 3])"
      ]
     },
     "execution_count": 21,
     "metadata": {},
     "output_type": "execute_result"
    }
   ],
   "source": [
    "# FIFO (Queque) - deque\n",
    "prices = deque([1, 2, 3, 2, 3])\n",
    "print('pop', prices.popleft()) # O(1)\n",
    "prices"
   ]
  },
  {
   "cell_type": "markdown",
   "metadata": {},
   "source": [
    "### FILO (Stack)"
   ]
  },
  {
   "cell_type": "code",
   "execution_count": 22,
   "metadata": {},
   "outputs": [
    {
     "name": "stdout",
     "output_type": "stream",
     "text": [
      "pop 3\n"
     ]
    },
    {
     "data": {
      "text/plain": [
       "[1, 2, 3, 2]"
      ]
     },
     "execution_count": 22,
     "metadata": {},
     "output_type": "execute_result"
    }
   ],
   "source": [
    "# FIFO (Queque) - list\n",
    "prices = [1, 2, 3, 2, 3]\n",
    "print('pop', prices.pop()) # O(1)\n",
    "prices"
   ]
  },
  {
   "cell_type": "code",
   "execution_count": 23,
   "metadata": {},
   "outputs": [
    {
     "name": "stdout",
     "output_type": "stream",
     "text": [
      "pop 3\n"
     ]
    },
    {
     "data": {
      "text/plain": [
       "deque([1, 2, 3, 2])"
      ]
     },
     "execution_count": 23,
     "metadata": {},
     "output_type": "execute_result"
    }
   ],
   "source": [
    "# FIFO (Queque) - deque\n",
    "prices = deque([1, 2, 3, 2, 3])\n",
    "print('pop', prices.pop()) # O(1)\n",
    "prices"
   ]
  }
 ],
 "metadata": {
  "kernelspec": {
   "display_name": "Python 3",
   "language": "python",
   "name": "python3"
  },
  "language_info": {
   "codemirror_mode": {
    "name": "ipython",
    "version": 3
   },
   "file_extension": ".py",
   "mimetype": "text/x-python",
   "name": "python",
   "nbconvert_exporter": "python",
   "pygments_lexer": "ipython3",
   "version": "3.8.5"
  }
 },
 "nbformat": 4,
 "nbformat_minor": 4
}

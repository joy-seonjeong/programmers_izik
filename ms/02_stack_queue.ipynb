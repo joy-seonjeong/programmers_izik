{
 "cells": [
  {
   "cell_type": "code",
   "execution_count": 1,
   "metadata": {},
   "outputs": [],
   "source": [
    "# code description ***\n",
    "# Author : minsik.lee\n",
    "# FileName : 01_stack_queue.py\n",
    "# Note \n",
    "\t# @Summary : 코딩테스트 - 프로그래머스 Question (3)\n",
    "\t# @version 1.0 : (2020-12-07) draft\n",
    "\t# @version 2.0 : (2020-12-08) deque front/back\n",
    "    \n",
    "    \n",
    "# 테스트 1 〉\t통과 (12.17ms, 10.2MB)\n",
    "# 테스트 2 〉\t통과 (1664.74ms, 10.3MB)\n",
    "# 테스트 3 〉\t통과 (0.02ms, 10.1MB)\n",
    "# 테스트 4 〉\t통과 (326.26ms, 10.2MB)\n",
    "# 테스트 5 〉\t실패 (시간 초과)\n",
    "# 테스트 6 〉\t통과 (1838.31ms, 10.3MB)\n",
    "# 테스트 7 〉\t통과 (6.49ms, 10.2MB)\n",
    "# 테스트 8 〉\t통과 (0.36ms, 10.3MB)\n",
    "# 테스트 9 〉\t통과 (6.50ms, 10.2MB)\n",
    "# 테스트 10 〉\t통과 (0.44ms, 10.2MB)\n",
    "# 테스트 11 〉\t통과 (0.01ms, 10.1MB)\n",
    "# 테스트 12 〉\t통과 (0.47ms, 10.1MB)\n",
    "# 테스트 13 〉\t통과 (2.55ms, 10.2MB)\n",
    "# 테스트 14 〉\t통과 (0.02ms, 10.2MB)\n",
    "\n",
    "from collections import deque\n",
    "def solution(bridge_length, weight, truck_weights):\n",
    "    \n",
    "    step = 0\n",
    "\n",
    "    bridge_truck = [0] * bridge_length # Set length of bridge\n",
    "    bridge_truck = deque(bridge_truck) # for time-complexity\n",
    "    truck_weights = deque(truck_weights) # for time-complexity\n",
    "\n",
    "\n",
    "#     print(f'[{step}] truck-{str(truck_weights):20}, bridge_truck-{bridge_truck}')\n",
    "    while bridge_truck: # If there is a truck on bridge,\n",
    "        bridge_truck.pop() # Move trucks on the bridge\n",
    "        if truck_weights: # If there is a waiting truck ,\n",
    "            if sum(bridge_truck) + truck_weights[0] <= weight: # sum (bridge-truck, waiting-truck) <= weight : Go!!\n",
    "                waiting_truck = truck_weights.popleft() # waiting\n",
    "                bridge_truck.appendleft(waiting_truck) # First In\n",
    "            else:\n",
    "                bridge_truck.appendleft(0) # First In [0]\n",
    "        step += 1\n",
    "#         print(f'[{step}] truck-{str(truck_weights):20}, bridge_truck-{bridge_truck}')\n",
    "    \n",
    "    return step"
   ]
  },
  {
   "cell_type": "code",
   "execution_count": 5,
   "metadata": {},
   "outputs": [],
   "source": [
    "bridge_length = 2\n",
    "weight = 10\n",
    "truck_weights = [7,4,5,6]"
   ]
  },
  {
   "cell_type": "code",
   "execution_count": 6,
   "metadata": {},
   "outputs": [
    {
     "name": "stdout",
     "output_type": "stream",
     "text": [
      "[0] truck-deque([7, 4, 5, 6]) , bridge_truck-deque([0, 0])\n",
      "[1] truck-deque([4, 5, 6])    , bridge_truck-deque([7, 0])\n",
      "[2] truck-deque([4, 5, 6])    , bridge_truck-deque([0, 7])\n",
      "[3] truck-deque([5, 6])       , bridge_truck-deque([4, 0])\n",
      "[4] truck-deque([6])          , bridge_truck-deque([5, 4])\n",
      "[5] truck-deque([6])          , bridge_truck-deque([0, 5])\n",
      "[6] truck-deque([])           , bridge_truck-deque([6, 0])\n",
      "[7] truck-deque([])           , bridge_truck-deque([6])\n",
      "[8] truck-deque([])           , bridge_truck-deque([])\n"
     ]
    },
    {
     "data": {
      "text/plain": [
       "8"
      ]
     },
     "execution_count": 6,
     "metadata": {},
     "output_type": "execute_result"
    }
   ],
   "source": [
    "solution(bridge_length, weight, truck_weights)"
   ]
  },
  {
   "cell_type": "code",
   "execution_count": 7,
   "metadata": {},
   "outputs": [],
   "source": [
    "# code description ***\n",
    "# Author : minsik.lee\n",
    "# FileName : 01_stack_queue.py\n",
    "# Note \n",
    "\t# @Summary : 코딩테스트 - 프로그래머스 Question (4)\n",
    "\t# @version 1.0 : (2020-12-07) draft\n",
    "\t# @version 2.0 : (2020-12-08) deque front/back\n",
    "\n",
    "\n",
    "from collections import deque\n",
    "def solution(priorities, location):\n",
    "    answer = 0\n",
    "\n",
    "\n",
    "    priorities_list = deque([[idx, v] for idx, v in enumerate(priorities)]) # pairs - {idx, values}\n",
    "    priorities_sorted = sorted(priorities, reverse=True) # desc 정렬, 큰 수 부터 하나씩 return\n",
    "    priorities_sorted = deque(priorities_sorted)\n",
    "\n",
    "    answer = 0\n",
    "    while priorities_list:\n",
    "        left = priorities_list.popleft() # 비교대상\n",
    "\n",
    "        if left[1] != priorities_sorted[0]: # 최우선 순위 값이 아니면, 다시 Last In\n",
    "            priorities_list.append(left) \n",
    "        else: # 최우선 순위의 경우\n",
    "            priorities_sorted.popleft() # 우선순위 리스트에서 하나 빼고\n",
    "            answer += 1 # answer 번째 return \n",
    "            if left[0] == location: # 내가 찾으려는 것과 동일한 경우 \n",
    "                return answer"
   ]
  },
  {
   "cell_type": "code",
   "execution_count": 8,
   "metadata": {},
   "outputs": [],
   "source": [
    "priorities = [1, 1, 9, 1, 1, 1]\n",
    "location = 0"
   ]
  },
  {
   "cell_type": "code",
   "execution_count": 9,
   "metadata": {},
   "outputs": [
    {
     "data": {
      "text/plain": [
       "5"
      ]
     },
     "execution_count": 9,
     "metadata": {},
     "output_type": "execute_result"
    }
   ],
   "source": [
    "solution(priorities, location)"
   ]
  }
 ],
 "metadata": {
  "kernelspec": {
   "display_name": "Python 3",
   "language": "python",
   "name": "python3"
  },
  "language_info": {
   "codemirror_mode": {
    "name": "ipython",
    "version": 3
   },
   "file_extension": ".py",
   "mimetype": "text/x-python",
   "name": "python",
   "nbconvert_exporter": "python",
   "pygments_lexer": "ipython3",
   "version": "3.8.3"
  }
 },
 "nbformat": 4,
 "nbformat_minor": 4
}
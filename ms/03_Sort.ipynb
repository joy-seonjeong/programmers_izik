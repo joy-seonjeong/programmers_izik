{
 "metadata": {
  "language_info": {
   "codemirror_mode": {
    "name": "ipython",
    "version": 3
   },
   "file_extension": ".py",
   "mimetype": "text/x-python",
   "name": "python",
   "nbconvert_exporter": "python",
   "pygments_lexer": "ipython3",
   "version": "3.8.3-final"
  },
  "orig_nbformat": 2,
  "kernelspec": {
   "name": "python3",
   "display_name": "Python 3",
   "language": "python"
  }
 },
 "nbformat": 4,
 "nbformat_minor": 2,
 "cells": [
  {
   "cell_type": "code",
   "execution_count": 40,
   "metadata": {},
   "outputs": [],
   "source": [
    "# code description\n",
    "# Author : minsik.lee\n",
    "# FileName : 03_Sort.py\n",
    "# Note \n",
    "\t# @Summary : Sort 01. K 번쨰 수\n",
    "\t# @version 1.0 : (2020-12-14) \n",
    "# 배열 array의 i번째 숫자부터 j번째 숫자까지 자르고 정렬했을 때, k번째에 있는 수를 구하려 합니다.\n",
    "\n",
    "def solution(array, commands): \n",
    "    # command_i[0] - 1 : first element\n",
    "    # command_i[1] : last element\n",
    "    # command_i[2] : sort & n'th element \n",
    "    result = list(map(lambda command_i:sorted(array[(command_i[0]-1): command_i[1]])[(command_i[2]-1)], commands))\n",
    "    return result"
   ]
  },
  {
   "cell_type": "code",
   "execution_count": 43,
   "metadata": {},
   "outputs": [],
   "source": [
    "def main_1():\n",
    "    array = [1, 5, 2, 6, 3, 7, 4]\n",
    "    commands = [[2, 5, 3], [4, 4, 1], [1, 7, 3]]\n",
    "\n",
    "    print(solution(array, commands))     # return [5, 6, 3]"
   ]
  },
  {
   "cell_type": "code",
   "execution_count": 44,
   "metadata": {},
   "outputs": [
    {
     "output_type": "stream",
     "name": "stdout",
     "text": [
      "[5, 6, 3]\n"
     ]
    }
   ],
   "source": [
    "if __name__ == \"__main__\":\n",
    "    main_1()"
   ]
  },
  {
   "cell_type": "code",
   "execution_count": 70,
   "metadata": {},
   "outputs": [],
   "source": [
    "# code description\n",
    "# Author : minsik.lee\n",
    "# FileName : 03_Sort.py\n",
    "# Note \n",
    "\t# @Summary : Sort 02. 가장 큰 수\n",
    "\t# @version 1.0 : (2020-12-17) \n",
    "    # @version 2.0 : (2020-12-18) case 0, 0, 0, 0\n",
    "\n",
    "def solution(numbers):\n",
    "    answer = sorted(list(map(str, numbers)), key=lambda number_i:number_i*3, reverse=True)\n",
    "    # # [(str(number_i) * 3) for number_i in numbers] # ['333', '303030', '343434', '555', '999']\n",
    "\n",
    "    # answer = ''.join(answer)\n",
    "    answer = str(int(''.join(answer)))\n",
    "    return answer\n",
    "\n",
    "\n",
    "# 테스트 1 〉\t통과 (812.31ms, 23.8MB)\n",
    "# 테스트 2 〉\t통과 (230.27ms, 17.6MB)\n",
    "# 테스트 3 〉\t통과 (1352.16ms, 28.1MB)\n",
    "# 테스트 4 〉\t통과 (2.19ms, 10.4MB)\n",
    "# 테스트 5 〉\t통과 (628.74ms, 22.3MB)\n",
    "# 테스트 6 〉\t통과 (481.50ms, 20.7MB)\n",
    "# 테스트 7 〉\t통과 (0.04ms, 10.3MB)\n",
    "# 테스트 8 〉\t통과 (0.03ms, 10.3MB)\n",
    "# 테스트 9 〉\t통과 (0.04ms, 10.4MB)\n",
    "# 테스트 10 〉\t통과 (0.03ms, 10.3MB)\n",
    "# 테스트 11 〉\t통과 (0.05ms, 10.3MB)\n"
   ]
  },
  {
   "cell_type": "code",
   "execution_count": 67,
   "metadata": {},
   "outputs": [],
   "source": [
    "def main_2():\n",
    "    numbers = [3, 30, 34, 5, 9]\n",
    "    # numbers = [0, 0, 0, 0]\n",
    "\n",
    "\n",
    "    print(solution(numbers))     # return [5, 6, 3]"
   ]
  },
  {
   "cell_type": "code",
   "execution_count": 68,
   "metadata": {},
   "outputs": [
    {
     "output_type": "stream",
     "name": "stdout",
     "text": [
      "0000\n"
     ]
    }
   ],
   "source": [
    "if __name__ == \"__main__\":\n",
    "    main_2()"
   ]
  },
  {
   "cell_type": "code",
   "execution_count": 39,
   "metadata": {},
   "outputs": [],
   "source": [
    "# code description\n",
    "# Author : minsik.lee\n",
    "# FileName : 03_Sort.py\n",
    "# Note \n",
    "\t# @Summary : Sort 03. H-Index\n",
    "\t# @version 1.0 : (2020-12-18) \n",
    "\n",
    "# # 홀수 케이스\n",
    "\n",
    "# [3, 0, 6, 1, 5] # n = 5\n",
    "#      A = h, B < h\n",
    "#     (A, B)\n",
    "# 6 - (1, 4)\n",
    "# 5 - (2, 3)\n",
    "# 3 - (3, 2) V\n",
    "# 1 - (4, 1)\n",
    "# 0 - (5, 0)\n",
    "\n",
    "# # 짝수 케이스\n",
    "# [3, 0, 6, 1, 5, 4] # n = 6\n",
    "#      A = h, B < h\n",
    "#     (A, B)\n",
    "# 6 - (1, 5)\n",
    "# 5 - (2, 4)\n",
    "# 4 - (3, 4)\n",
    "# 3 - (4, 2) V\n",
    "# 1 - (5, 1)\n",
    "# 0 - (6, 0)\n",
    "\n",
    "# # 차이가 큰 케이스\n",
    "# [1000, 999, 888, 777, 666, 555, 3, 1] # n = 7\n",
    "# 1000 - (1, 6)\n",
    "# 999  - (2, 5)\n",
    "# 888  - (3, 4)\n",
    "# 777  - (4, 3) V\n",
    "# 666  - (5, 2)\n",
    "# 3    - (6, 1)\n",
    "# 1    - (7, 1)\n",
    "\n",
    "# ## 동일 숫자 .. 짝수\n",
    "# [3, 0, 6, 6, 6, 5] # = 6\n",
    "\n",
    "# 6 - (1, 3) ... (1, 5)\n",
    "# 6 - (1, 3) ... (2, 4)\n",
    "# 6 - (1, 3) ... (3, 3)\n",
    "# 5 - (4, 2) V\n",
    "# 3 - (3, 1)\n",
    "# 0 - (6, 0)\n",
    "\n",
    "\n",
    "def solution(citations):\n",
    "    citations = sorted(citations, reverse=True)\n",
    "    return citations[int(len(citations)/2)]\n",
    "    # if len(citations) % 2 == 1: # odd\n",
    "    #     return citations[int(len(citations)/2)]\n",
    "    # else:\n",
    "    #     return citations[int(len(citations)/2) + 1]\n"
   ]
  },
  {
   "cell_type": "code",
   "execution_count": 42,
   "metadata": {},
   "outputs": [
    {
     "output_type": "stream",
     "name": "stdout",
     "text": [
      "result -  666\n[1000, 999, 888, 777, 666, 555, 3, 1]\n0      4.0\n"
     ]
    }
   ],
   "source": [
    "citations = [1000, 999, 888, 777, 666, 555, 3, 1] \n",
    "print('result - ', solution(citations))\n",
    "citations = sorted(citations, reverse=True)\n",
    "print(citations)\n",
    "print(len(citations) % 2, '    ', len(citations)/2)"
   ]
  },
  {
   "cell_type": "code",
   "execution_count": 43,
   "metadata": {},
   "outputs": [
    {
     "output_type": "execute_result",
     "data": {
      "text/plain": [
       "[1, 0, 0, 0, 0, 0]"
      ]
     },
     "metadata": {},
     "execution_count": 43
    }
   ],
   "source": [
    "citations = [0, 0, 0, 0, 0, 1]\n",
    "citations = sorted(citations, reverse=True)\n",
    "citations\n",
    "\n",
    "     A = h, B < h\n",
    "    (A, B)\n",
    "1 - (1, 5)"
   ]
  },
  {
   "cell_type": "code",
   "execution_count": 64,
   "metadata": {},
   "outputs": [
    {
     "output_type": "execute_result",
     "data": {
      "text/plain": [
       "[1, 0, 3, 1, 5]"
      ]
     },
     "metadata": {},
     "execution_count": 64
    }
   ],
   "source": [
    "citations = [3, 0, 6, 1, 5]\n",
    "list(map(min, enumerate(citations, start=1)))"
   ]
  },
  {
   "cell_type": "code",
   "execution_count": null,
   "metadata": {},
   "outputs": [],
   "source": []
  },
  {
   "cell_type": "code",
   "execution_count": 30,
   "metadata": {},
   "outputs": [
    {
     "output_type": "execute_result",
     "data": {
      "text/plain": [
       "3"
      ]
     },
     "metadata": {},
     "execution_count": 30
    }
   ],
   "source": [
    "\n",
    "def solution(citations):\n",
    "\n",
    "    for h in range(max(citations),0, -1) :\n",
    "        n = [1 for _ in citations if _ >= h]\n",
    "        if h <= len(n) :\n",
    "            answer = h\n",
    "            break\n",
    "        else :\n",
    "            answer = 0\n",
    "        \n",
    "    return answer\n"
   ]
  },
  {
   "cell_type": "code",
   "execution_count": null,
   "metadata": {},
   "outputs": [],
   "source": [
    "# 짝수 케이스\n",
    "[3, 0, 6, 1, 5, 4] # n = 6\n",
    "     A = h, B < h\n",
    "    (A, B)\n",
    "6 - (1, 5)\n",
    "5 - (2, 4)\n",
    "4 - (3, 3) V\n",
    "3 - (4, 2) \n",
    "1 - (5, 1)\n",
    "0 - (6, 0)\n",
    "\n",
    "# 차이가 큰 케이스\n",
    "[1000, 999, 888, 777, 666, 555, 3, 1] # n = 8\n",
    "1000 - (1, 7)\n",
    "999  - (2, 6)\n",
    "888  - (3, 5)\n",
    "777  - (4, 4) V\n",
    "666  - (5, 2)\n",
    "555  - (6, 2)\n",
    "3    - (7, 1)\n",
    "1    - (8, 0)\n",
    "\n",
    "## 동일 숫자 .. 짝수\n",
    "[3, 0, 6, 6, 6, 5] # = 6\n",
    "\n",
    "6 - (1, 3) ... (1, 5)\n",
    "6 - (1, 3) ... (2, 4)\n",
    "6 - (1, 3) ... (3, 3)\n",
    "5 - (4, 2) V\n",
    "3 - (3, 1)\n",
    "0 - (6, 0)"
   ]
  },
  {
   "cell_type": "code",
   "execution_count": 3,
   "metadata": {},
   "outputs": [],
   "source": [
    "citations = [3, 0, 6, 1, 5] "
   ]
  },
  {
   "cell_type": "code",
   "execution_count": 6,
   "metadata": {},
   "outputs": [],
   "source": [
    "citations = sorted(citations, reverse=True)"
   ]
  },
  {
   "cell_type": "code",
   "execution_count": 20,
   "metadata": {},
   "outputs": [],
   "source": [
    "citations = sorted(citations, reverse=True)\n",
    "\n",
    "if len(citations) % 2 == 1: # odd\n",
    "    return citations[int(len(citations)/2)]\n",
    "else:\n",
    "    return citations[int(len(citations)/2) + 1]"
   ]
  },
  {
   "cell_type": "code",
   "execution_count": 21,
   "metadata": {},
   "outputs": [
    {
     "output_type": "execute_result",
     "data": {
      "text/plain": [
       "3"
      ]
     },
     "metadata": {},
     "execution_count": 21
    }
   ],
   "source": [
    "citations[int(len(citations)/2)]"
   ]
  }
 ]
}
{
 "metadata": {
  "language_info": {
   "codemirror_mode": {
    "name": "ipython",
    "version": 3
   },
   "file_extension": ".py",
   "mimetype": "text/x-python",
   "name": "python",
   "nbconvert_exporter": "python",
   "pygments_lexer": "ipython3",
   "version": "3.8.3-final"
  },
  "orig_nbformat": 2,
  "kernelspec": {
   "name": "python3",
   "display_name": "Python 3",
   "language": "python"
  }
 },
 "nbformat": 4,
 "nbformat_minor": 2,
 "cells": [
  {
   "cell_type": "code",
   "execution_count": 40,
   "metadata": {},
   "outputs": [],
   "source": [
    "# code description\n",
    "# Author : minsik.lee\n",
    "# FileName : 03_Sort.py\n",
    "# Note \n",
    "\t# @Summary : Sort 01. K 번쨰 수\n",
    "\t# @version 1.0 : (2020-12-14) \n",
    "# 배열 array의 i번째 숫자부터 j번째 숫자까지 자르고 정렬했을 때, k번째에 있는 수를 구하려 합니다.\n",
    "\n",
    "def solution(array, commands): \n",
    "    # command_i[0] - 1 : first element\n",
    "    # command_i[1] : last element\n",
    "    # command_i[2] : sort & n'th element \n",
    "    result = list(map(lambda command_i:sorted(array[(command_i[0]-1): command_i[1]])[(command_i[2]-1)], commands))\n",
    "    return result"
   ]
  },
  {
   "cell_type": "code",
   "execution_count": 43,
   "metadata": {},
   "outputs": [],
   "source": [
    "def main_1():\n",
    "    array = [1, 5, 2, 6, 3, 7, 4]\n",
    "    commands = [[2, 5, 3], [4, 4, 1], [1, 7, 3]]\n",
    "\n",
    "    print(solution(array, commands))     # return [5, 6, 3]"
   ]
  },
  {
   "cell_type": "code",
   "execution_count": 44,
   "metadata": {},
   "outputs": [
    {
     "output_type": "stream",
     "name": "stdout",
     "text": [
      "[5, 6, 3]\n"
     ]
    }
   ],
   "source": [
    "if __name__ == \"__main__\":\n",
    "    main_1()"
   ]
  },
  {
   "cell_type": "code",
   "execution_count": 70,
   "metadata": {},
   "outputs": [],
   "source": [
    "# code description\n",
    "# Author : minsik.lee\n",
    "# FileName : 03_Sort.py\n",
    "# Note \n",
    "\t# @Summary : Sort 02. 가장 큰 수\n",
    "\t# @version 1.0 : (2020-12-17) \n",
    "    # @version 2.0 : (2020-12-18) case 0, 0, 0, 0\n",
    "\n",
    "def solution(numbers):\n",
    "    answer = sorted(list(map(str, numbers)), key=lambda number_i:number_i*3, reverse=True)\n",
    "    # # [(str(number_i) * 3) for number_i in numbers] # ['333', '303', '343', '555', '999']\n",
    "\n",
    "    # answer = ''.join(answer)\n",
    "    answer = str(int(''.join(answer)))\n",
    "    return answer"
   ]
  },
  {
   "cell_type": "code",
   "execution_count": 67,
   "metadata": {},
   "outputs": [],
   "source": [
    "def main_2():\n",
    "    # numbers = [3, 30, 34, 5, 9]\n",
    "    numbers = [0, 0, 0, 0]\n",
    "\n",
    "\n",
    "    print(solution(numbers))     # return [5, 6, 3]"
   ]
  },
  {
   "cell_type": "code",
   "execution_count": 68,
   "metadata": {},
   "outputs": [
    {
     "output_type": "stream",
     "name": "stdout",
     "text": [
      "0000\n"
     ]
    }
   ],
   "source": [
    "if __name__ == \"__main__\":\n",
    "    main_2()"
   ]
  }
 ]
}
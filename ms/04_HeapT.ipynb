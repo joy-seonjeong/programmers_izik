{
 "cells": [
  {
   "cell_type": "code",
   "execution_count": 6,
   "metadata": {},
   "outputs": [],
   "source": [
    "# code description ***\n",
    "# Author : minsik.lee\n",
    "# FileName : 04_HeapT.py\n",
    "# Note \n",
    "\t# @Summary : 코딩테스트 - 프로그래머스 Question (3)\n",
    "\t# @version 1.0 : (2020-12-29) draft\n",
    "\n",
    "# 실행 결과\n",
    "# 채점을 시작합니다.\n",
    "# 정확성  테스트\n",
    "# 테스트 1 〉\t통과 (0.01ms, 10.2MB)\n",
    "# 테스트 2 〉\t통과 (0.01ms, 10.2MB)\n",
    "# 테스트 3 〉\t통과 (0.01ms, 10.2MB)\n",
    "# 테스트 4 〉\t통과 (0.01ms, 10.3MB)\n",
    "# 테스트 5 〉\t통과 (0.01ms, 10.2MB)\n",
    "# 테스트 6 〉\t통과 (0.79ms, 10.3MB)\n",
    "# 테스트 7 〉\t통과 (0.81ms, 10.2MB)\n",
    "# 테스트 8 〉\t통과 (0.10ms, 10.2MB)\n",
    "# 테스트 9 〉\t통과 (0.07ms, 10.2MB)\n",
    "# 테스트 10 〉\t통과 (0.58ms, 10.2MB)\n",
    "# 테스트 11 〉\t통과 (0.51ms, 10.2MB)\n",
    "# 테스트 12 〉\t통과 (1.21ms, 10.2MB)\n",
    "# 테스트 13 〉\t통과 (0.80ms, 10.2MB)\n",
    "# 테스트 14 〉\t통과 (0.02ms, 10.1MB)\n",
    "# 테스트 15 〉\t통과 (0.94ms, 10.2MB)\n",
    "# 테스트 16 〉\t통과 (0.01ms, 10.3MB)\n",
    "# 효율성  테스트\n",
    "# 테스트 1 〉\t통과 (192.80ms, 16.4MB)\n",
    "# 테스트 2 〉\t통과 (417.59ms, 22MB)\n",
    "# 테스트 3 〉\t통과 (1918.72ms, 49.8MB)\n",
    "# 테스트 4 〉\t통과 (155.55ms, 15MB)\n",
    "# 테스트 5 〉\t통과 (2069.75ms, 51.9MB)\n",
    "\n",
    "# https://www.daleseo.com/python-heapq/\n",
    "\n",
    "\n",
    "import heapq\n",
    "\n",
    "def scoville_score(a1, a2):\n",
    "    return a1 + a2*2\n",
    "\n",
    "def solution(scoville, K):\n",
    "\n",
    "    step = 0\n",
    "    heapq.heapify(scoville) # heapq\n",
    "    while scoville[0] < K:\n",
    "        if len(scoville) == 1: # case length(1) => scoville > K\n",
    "            return -1\n",
    "        step += 1\n",
    "        f1 = heapq.heappop(scoville)\n",
    "        f2 = heapq.heappop(scoville)\n",
    "        new_f = scoville_score(f1, f2)\n",
    "        heapq.heappush(scoville, new_f) # auto sort (min - max)\n",
    "    return step\n"
   ]
  },
  {
   "cell_type": "code",
   "execution_count": 7,
   "metadata": {},
   "outputs": [
    {
     "output_type": "execute_result",
     "data": {
      "text/plain": [
       "2"
      ]
     },
     "metadata": {},
     "execution_count": 7
    }
   ],
   "source": [
    "solution([1, 2, 3, 9, 10, 12], 7)"
   ]
  },
  {
   "cell_type": "code",
   "execution_count": 2,
   "metadata": {},
   "outputs": [
    {
     "output_type": "execute_result",
     "data": {
      "text/plain": [
       "5"
      ]
     },
     "metadata": {},
     "execution_count": 2
    }
   ],
   "source": [
    "10//2"
   ]
  },
  {
   "cell_type": "code",
   "execution_count": 2,
   "metadata": {},
   "outputs": [],
   "source": [
    "# code description ***\n",
    "# Author : minsik.lee\n",
    "# FileName : 04_HeapT.py\n",
    "# Note \n",
    "\t# @Summary : 코딩테스트 - 프로그래머스 Question (3)\n",
    "\t# @version 1.0 : (2021-01-02) draft\n",
    "    \n",
    "    # (1) 빈 작업이 있을 수 있다는 것도 고려! \n",
    "\n",
    "    # ticket_time : 1개의 요청이 들어온 시간\n",
    "    # running_time : 1개의 작업이 수행되는 시간\n",
    "    # finish_time : 1개의 작업이 완료된 시간\n",
    "    # total_running_time : 작업 리스트들 하나하나가 작업 완료되는데, 걸린 시간 list\n",
    "from collections import deque\n",
    "import heapq\n",
    "\n",
    "def solution(jobs):\n",
    "    \n",
    "    jobs = deque(jobs)\n",
    "\n",
    "    total_time = sum([v for idx, v in jobs]) # 최종 완료 시간\n",
    "    jobs_heap = [] # 작업 요청 리스트\n",
    "    total_running_time = [] # total_running_time : 작업 리스트들 하나하나가 작업 완료되는데, 걸린 시간 list\n",
    "    newtask_time = 0 # 신규 task가 진행되는 시간\n",
    "    finish_time = 0  # finish_time : 1개의 작업이 완료된 시간 (최초 작업은 없으니 0)\n",
    "\n",
    "\n",
    "    for current_time in range(total_time): \n",
    "        print('current_time: ', current_time)\n",
    "        print('jobs: ', jobs)\n",
    "\n",
    "        if jobs: # task가 있는 경우\n",
    "            if jobs[0][0] <= current_time:\n",
    "                _job = jobs.popleft()\n",
    "                heapq.heappush(jobs_heap, _job[::-1]) # 작업 수행 시간 기준 정렬을 하기 위해서\n",
    "\n",
    "        if newtask_time == current_time: # 작업이 끝나는 시간\n",
    "            _task = heapq.heappop(jobs_heap)\n",
    "            ticket_time = _task[1] # ticket_time : 1개의 요청이 들어온 시간\n",
    "            running_time = _task[0] # running_time : 1개의 작업이 수행되는 시간\n",
    "            finish_time = current_time + running_time - ticket_time # finish_time : 1개의 작업이 완료된 시간\n",
    "            newtask_time = current_time + running_time\n",
    "\n",
    "            total_running_time.append(finish_time)\n",
    "            print(_task)\n",
    "\n",
    "        print(f\"{finish_time} - jobs_heap: {jobs_heap}\")\n",
    "        print('total_running_time: ', total_running_time, '\\n')\n",
    "    \n",
    "    answer = sum(total_running_time)/len(total_running_time)\n",
    "    \n",
    "    return answer"
   ]
  },
  {
   "cell_type": "code",
   "execution_count": 132,
   "metadata": {},
   "outputs": [],
   "source": [
    "# code description ***\n",
    "# Author : minsik.lee\n",
    "# FileName : 04_HeapT.py\n",
    "# Note \n",
    "\t# @Summary : 코딩테스트 - 프로그래머스 Question (3)\n",
    "\t# @version 1.0 : (2021-01-02) draft\n",
    "    \n",
    "    # (1) 빈 작업이 있을 수 있다는 것도 고려! \n",
    "\n",
    "    # ticket_time : 1개의 요청이 들어온 시간\n",
    "    # running_time : 1개의 작업이 수행되는 시간\n",
    "    # finish_time : 1개의 작업이 완료된 시간\n",
    "    # total_running_time : 작업 리스트들 하나하나가 작업 완료되는데, 걸린 시간 list\n",
    "import heapq\n",
    "\n",
    "def solution(jobs):\n",
    "    \n",
    "    jobs_heap = [[x[1], x[0]] for x in jobs]\n",
    "\n",
    "    total_running_time = [] # total_running_time : 작업 리스트들 하나하나가 작업 완료되는데, 걸린 시간 list\n",
    "    current_time = 0\n",
    "\n",
    "    heapq.heapify(jobs_heap) # heapq\n",
    "\n",
    "    while jobs_heap:\n",
    "        _task = heapq.heappop(jobs_heap)\n",
    "\n",
    "        print(f\"current : {current_time}\")\n",
    "        ticket_time = _task[1] # ticket_time : 1개의 요청이 들어온 시간\n",
    "        running_time = _task[0] # running_time : 1개의 작업이 수행되는 시간\n",
    "        finish_time = current_time + running_time - ticket_time # finish_time : 1개의 작업이 완료된 시간\n",
    "        print(f\"ticket: {ticket_time}, running: {running_time}, finish: {finish_time}\")\n",
    "        current_time = current_time + running_time\n",
    "        total_running_time.append(finish_time)\n",
    "        print(f\"change - current : {current_time} \\n \")\n",
    "    \n",
    "    answer = sum(total_running_time)/len(total_running_time)\n",
    "    \n",
    "    return answer"
   ]
  },
  {
   "cell_type": "code",
   "execution_count": 164,
   "metadata": {},
   "outputs": [
    {
     "output_type": "stream",
     "name": "stdout",
     "text": [
      "current : 0\nticket: 0, running: 3, finish: 3\nchange - current : 3 \n \ncurrent : 3\nticket: 2, running: 6, finish: 7\nchange - current : 9 \n \ncurrent : 9\nticket: 1, running: 9, finish: 17\nchange - current : 18 \n \n"
     ]
    },
    {
     "output_type": "execute_result",
     "data": {
      "text/plain": [
       "9.0"
      ]
     },
     "metadata": {},
     "execution_count": 164
    }
   ],
   "source": [
    "# code description ***\n",
    "# Author : minsik.lee\n",
    "# FileName : 04_HeapT.py\n",
    "# Note \n",
    "\t# @Summary : 코딩테스트 - 프로그래머스 Question (3)\n",
    "\t# @version 1.0 : (2021-01-05) https://seoyoung2.github.io/algorithm/2020/06/04/Programmers-diskcontroller.html\n",
    "    # @version 2.0 : (2021-01-05) 내가 이해할 수 있는 주석으로 변경\n",
    "\n",
    "    # 결국에 키는 ticket_time, running_time 을 변경해서 heap 에 넣고 min 으로 추출 \n",
    "\n",
    "import heapq\n",
    "\n",
    "def solution(jobs):\n",
    "    count, last, answer = 0, -1, 0\n",
    "    heap = []\n",
    "    jobs.sort()\n",
    "    # 시작시간 초기화\n",
    "    current_time = jobs[0][0]\n",
    "    while count < len(jobs):\n",
    "        for ticket_time, running_time in jobs:\n",
    "            # ticket_time : 1개의 요청이 들어온 시간\n",
    "            # running_time : 1개의 작업이 수행되는 시간\n",
    "            if last < ticket_time <= current_time:\n",
    "                # 작업 소요시간으로 min heap을 만들기 위해 (running_time, ticket_time) 푸시\n",
    "                heapq.heappush(heap, (running_time, ticket_time))\n",
    "        # 바로 수행할 수 있는 작업이 있는 경우\n",
    "        if len(heap) > 0:\n",
    "            count += 1\n",
    "            last = current_time # 마지막으로 answer 입력된 task의 수행 시작 시점\n",
    "            running_time_i, ticket_time_i = heapq.heappop(heap)\n",
    "            current_time += running_time_i\n",
    "            answer += (current_time - ticket_time_i)\n",
    "        # 바로 수행할 수 있는 작업이 없는 경우\n",
    "        else:\n",
    "            current_time += 1\n",
    "    return answer//len(jobs)\n",
    "\n",
    "\n",
    "print(solution([[0, 3], [1, 9], [2, 6]]))"
   ]
  },
  {
   "cell_type": "code",
   "execution_count": 163,
   "metadata": {},
   "outputs": [],
   "source": []
  },
  {
   "cell_type": "code",
   "execution_count": null,
   "metadata": {},
   "outputs": [],
   "source": []
  },
  {
   "cell_type": "code",
   "execution_count": null,
   "metadata": {},
   "outputs": [],
   "source": []
  },
  {
   "cell_type": "code",
   "execution_count": null,
   "metadata": {},
   "outputs": [],
   "source": []
  },
  {
   "cell_type": "code",
   "execution_count": null,
   "metadata": {},
   "outputs": [],
   "source": []
  },
  {
   "cell_type": "code",
   "execution_count": null,
   "metadata": {},
   "outputs": [],
   "source": []
  },
  {
   "cell_type": "code",
   "execution_count": null,
   "metadata": {},
   "outputs": [],
   "source": [
    "\n",
    "\n",
    "import heapq\n",
    "\n",
    "topK = 10\n",
    "item_score_dict = {'1': 3,'2':2,'3':5,'4':1, '8':3}\n",
    "ranklist = heapq.nlargest(topK, item_score_dict, key=item_score_dict.get)"
   ]
  },
  {
   "cell_type": "code",
   "execution_count": null,
   "metadata": {},
   "outputs": [],
   "source": []
  },
  {
   "cell_type": "code",
   "execution_count": null,
   "metadata": {},
   "outputs": [],
   "source": []
  },
  {
   "cell_type": "code",
   "execution_count": 3,
   "metadata": {},
   "outputs": [
    {
     "output_type": "stream",
     "name": "stdout",
     "text": [
      "[1, 3, 7, 4]\n1\n[3, 4, 7]\n3\nNone\n"
     ]
    }
   ],
   "source": [
    "## example code\n",
    "# https://www.daleseo.com/python-heapq/\n",
    "import heapq\n",
    "heap = []\n",
    "\n",
    "## pop\n",
    "heapq.heappush(heap, 4) # heappush() : O(logN)\n",
    "heapq.heappush(heap, 1)\n",
    "heapq.heappush(heap, 7)\n",
    "heapq.heappush(heap, 3)\n",
    "print(heap)\n",
    "\n",
    "## push\n",
    "print(heapq.heappop(heap)) # heappop() : O(logN)\n",
    "print(heap)\n",
    "\n",
    "print(heap[0])\n",
    "\n",
    "heap = [4, 1, 7, 3, 8, 5]\n",
    "heapq.heapify(heap)\n",
    "print(heap)"
   ]
  },
  {
   "cell_type": "code",
   "execution_count": 38,
   "metadata": {},
   "outputs": [
    {
     "output_type": "stream",
     "name": "stdout",
     "text": [
      "[1, 3, 5, 4, 8, 7]\n"
     ]
    }
   ],
   "source": [
    "heap = [4, 1, 7, 3, 8, 5]\n",
    "heapq.heapify(heap)\n",
    "print(heap)"
   ]
  },
  {
   "cell_type": "code",
   "execution_count": 39,
   "metadata": {},
   "outputs": [
    {
     "output_type": "stream",
     "name": "stdout",
     "text": [
      "[1, 3, 5, 4, 8, 7, 6]\n"
     ]
    }
   ],
   "source": [
    "heapq.heappush(heap, 6)\n",
    "print(heap)"
   ]
  },
  {
   "cell_type": "code",
   "execution_count": 45,
   "metadata": {},
   "outputs": [
    {
     "output_type": "stream",
     "name": "stdout",
     "text": [
      "7\n[8]\n"
     ]
    }
   ],
   "source": [
    "\n",
    "## push\n",
    "print(heapq.heappop(heap)) # heappop() : O(logN)\n",
    "print(heap)"
   ]
  }
 ],
 "metadata": {
  "kernelspec": {
   "display_name": "Python 3",
   "language": "python",
   "name": "python3"
  },
  "language_info": {
   "codemirror_mode": {
    "name": "ipython",
    "version": 3
   },
   "file_extension": ".py",
   "mimetype": "text/x-python",
   "name": "python",
   "nbconvert_exporter": "python",
   "pygments_lexer": "ipython3",
   "version": "3.8.3-final"
  }
 },
 "nbformat": 4,
 "nbformat_minor": 4
}
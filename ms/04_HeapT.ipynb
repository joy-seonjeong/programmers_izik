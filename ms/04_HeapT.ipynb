{
 "cells": [
  {
   "cell_type": "code",
   "execution_count": 6,
   "metadata": {},
   "outputs": [],
   "source": [
    "# code description ***\n",
    "# Author : minsik.lee\n",
    "# FileName : 04_HeapT.py\n",
    "# Note \n",
    "\t# @Summary : 코딩테스트 - 프로그래머스 Question (3)\n",
    "\t# @version 1.0 : (2020-12-29) draft\n",
    "\n",
    "# 실행 결과\n",
    "# 채점을 시작합니다.\n",
    "# 정확성  테스트\n",
    "# 테스트 1 〉\t통과 (0.01ms, 10.2MB)\n",
    "# 테스트 2 〉\t통과 (0.01ms, 10.2MB)\n",
    "# 테스트 3 〉\t통과 (0.01ms, 10.2MB)\n",
    "# 테스트 4 〉\t통과 (0.01ms, 10.3MB)\n",
    "# 테스트 5 〉\t통과 (0.01ms, 10.2MB)\n",
    "# 테스트 6 〉\t통과 (0.79ms, 10.3MB)\n",
    "# 테스트 7 〉\t통과 (0.81ms, 10.2MB)\n",
    "# 테스트 8 〉\t통과 (0.10ms, 10.2MB)\n",
    "# 테스트 9 〉\t통과 (0.07ms, 10.2MB)\n",
    "# 테스트 10 〉\t통과 (0.58ms, 10.2MB)\n",
    "# 테스트 11 〉\t통과 (0.51ms, 10.2MB)\n",
    "# 테스트 12 〉\t통과 (1.21ms, 10.2MB)\n",
    "# 테스트 13 〉\t통과 (0.80ms, 10.2MB)\n",
    "# 테스트 14 〉\t통과 (0.02ms, 10.1MB)\n",
    "# 테스트 15 〉\t통과 (0.94ms, 10.2MB)\n",
    "# 테스트 16 〉\t통과 (0.01ms, 10.3MB)\n",
    "# 효율성  테스트\n",
    "# 테스트 1 〉\t통과 (192.80ms, 16.4MB)\n",
    "# 테스트 2 〉\t통과 (417.59ms, 22MB)\n",
    "# 테스트 3 〉\t통과 (1918.72ms, 49.8MB)\n",
    "# 테스트 4 〉\t통과 (155.55ms, 15MB)\n",
    "# 테스트 5 〉\t통과 (2069.75ms, 51.9MB)\n",
    "\n",
    "\n",
    "import heapq\n",
    "\n",
    "def scoville_score(a1, a2):\n",
    "    return a1 + a2*2\n",
    "\n",
    "def solution(scoville, K):\n",
    "\n",
    "    step = 0\n",
    "    heapq.heapify(scoville) # heapq\n",
    "    while scoville[0] < K:\n",
    "        if len(scoville) == 1: # case length(1) => scoville > K\n",
    "            return -1\n",
    "        step += 1\n",
    "        f1 = heapq.heappop(scoville)\n",
    "        f2 = heapq.heappop(scoville)\n",
    "        new_f = scoville_score(f1, f2)\n",
    "        heapq.heappush(scoville, new_f) # auto sort (min - max)\n",
    "    return step\n"
   ]
  },
  {
   "cell_type": "code",
   "execution_count": 7,
   "metadata": {},
   "outputs": [
    {
     "output_type": "execute_result",
     "data": {
      "text/plain": [
       "2"
      ]
     },
     "metadata": {},
     "execution_count": 7
    }
   ],
   "source": [
    "solution([1, 2, 3, 9, 10, 12], 7)"
   ]
  },
  {
   "cell_type": "code",
   "execution_count": null,
   "metadata": {},
   "outputs": [],
   "source": []
  },
  {
   "cell_type": "code",
   "execution_count": null,
   "metadata": {},
   "outputs": [],
   "source": []
  },
  {
   "cell_type": "code",
   "execution_count": 3,
   "metadata": {},
   "outputs": [
    {
     "output_type": "stream",
     "name": "stdout",
     "text": [
      "[1, 3, 7, 4]\n1\n[3, 4, 7]\n3\nNone\n"
     ]
    }
   ],
   "source": [
    "## example code\n",
    "# https://www.daleseo.com/python-heapq/\n",
    "import heapq\n",
    "heap = []\n",
    "\n",
    "## pop\n",
    "heapq.heappush(heap, 4) # heappush() : O(logN)\n",
    "heapq.heappush(heap, 1)\n",
    "heapq.heappush(heap, 7)\n",
    "heapq.heappush(heap, 3)\n",
    "print(heap)\n",
    "\n",
    "## push\n",
    "print(heapq.heappop(heap)) # heappop() : O(logN)\n",
    "print(heap)\n",
    "\n",
    "print(heap[0])\n",
    "\n",
    "heap = [4, 1, 7, 3, 8, 5]\n",
    "heapq.heapify(heap)\n",
    "print(heap)"
   ]
  },
  {
   "cell_type": "code",
   "execution_count": 38,
   "metadata": {},
   "outputs": [
    {
     "output_type": "stream",
     "name": "stdout",
     "text": [
      "[1, 3, 5, 4, 8, 7]\n"
     ]
    }
   ],
   "source": [
    "heap = [4, 1, 7, 3, 8, 5]\n",
    "heapq.heapify(heap)\n",
    "print(heap)"
   ]
  },
  {
   "cell_type": "code",
   "execution_count": 39,
   "metadata": {},
   "outputs": [
    {
     "output_type": "stream",
     "name": "stdout",
     "text": [
      "[1, 3, 5, 4, 8, 7, 6]\n"
     ]
    }
   ],
   "source": [
    "heapq.heappush(heap, 6)\n",
    "print(heap)"
   ]
  },
  {
   "cell_type": "code",
   "execution_count": 45,
   "metadata": {},
   "outputs": [
    {
     "output_type": "stream",
     "name": "stdout",
     "text": [
      "7\n[8]\n"
     ]
    }
   ],
   "source": [
    "\n",
    "## push\n",
    "print(heapq.heappop(heap)) # heappop() : O(logN)\n",
    "print(heap)"
   ]
  }
 ],
 "metadata": {
  "kernelspec": {
   "display_name": "Python 3",
   "language": "python",
   "name": "python3"
  },
  "language_info": {
   "codemirror_mode": {
    "name": "ipython",
    "version": 3
   },
   "file_extension": ".py",
   "mimetype": "text/x-python",
   "name": "python",
   "nbconvert_exporter": "python",
   "pygments_lexer": "ipython3",
   "version": "3.8.3-final"
  }
 },
 "nbformat": 4,
 "nbformat_minor": 4
}
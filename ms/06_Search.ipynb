{
 "cells": [
  {
   "cell_type": "code",
   "execution_count": 6,
   "metadata": {},
   "outputs": [],
   "source": [
    "# code description ***\n",
    "# Author : minsik.lee\n",
    "# FileName : 05_ExhaustiveSearch.py\n",
    "# Note \n",
    "\t# @Summary : 코딩테스트 - 프로그래머스 Question (5) - 더 맵게 모의고사\n",
    "\t# @version 1.0 : (2021-01-22) draft\n",
    "\n",
    "\n",
    "# 테스트 1 〉\t통과 (0.02ms, 10.3MB)\n",
    "# 테스트 2 〉\t통과 (0.01ms, 10.2MB)\n",
    "# 테스트 3 〉\t통과 (0.01ms, 10.3MB)\n",
    "# 테스트 4 〉\t통과 (0.01ms, 10.3MB)\n",
    "# 테스트 5 〉\t통과 (0.04ms, 10.3MB)\n",
    "# 테스트 6 〉\t통과 (0.04ms, 10.3MB)\n",
    "# 테스트 7 〉\t통과 (2.47ms, 10.3MB)\n",
    "# 테스트 8 〉\t통과 (0.66ms, 10.4MB)\n",
    "# 테스트 9 〉\t통과 (4.26ms, 10.3MB)\n",
    "# 테스트 10 〉\t통과 (2.06ms, 10.3MB)\n",
    "# 테스트 11 〉\t통과 (4.49ms, 10.3MB)\n",
    "# 테스트 12 〉\t통과 (4.08ms, 10.3MB)\n",
    "# 테스트 13 〉\t통과 (0.81ms, 10.2MB)\n",
    "# 테스트 14 〉\t통과 (4.73ms, 10.3MB)\n",
    "\n",
    "\n",
    "\n",
    "def solution(answers):\n",
    "    # Rule of man\n",
    "    p1 = [1, 2, 3, 4, 5]\n",
    "    p2 = [2, 1, 2, 3, 2, 4, 2, 5]\n",
    "    p3 = [3, 3, 1, 1, 2, 2, 4, 4, 5, 5]\n",
    "\n",
    "    # How many answer correct\n",
    "    count = {\n",
    "        1 : 0,\n",
    "        2 : 0,\n",
    "        3 : 0\n",
    "    }\n",
    "\n",
    "    # 정답지 loop\n",
    "    p1_len = 5\n",
    "    p2_len = 8\n",
    "    p3_len = 10\n",
    "\n",
    "    for i in range(len(answers)): # for idx, answer in enumerate(answers):\n",
    "\n",
    "        idx1 = i%p1_len\n",
    "        idx2 = i%p2_len\n",
    "        idx3 = i%p3_len\n",
    "\n",
    "        answer_i = answers[i]\n",
    "\n",
    "        # True : 1, False : 2\n",
    "        count[1] += (answer_i == p1[idx1])\n",
    "        count[2] += (answer_i == p2[idx2])\n",
    "        count[3] += (answer_i == p3[idx3])\n",
    "\n",
    "    answer = [k for k, v in count.items() if v == max(count.values())]\n",
    "    \n",
    "    return answer"
   ]
  },
  {
   "cell_type": "code",
   "execution_count": null,
   "metadata": {},
   "outputs": [],
   "source": []
  },
  {
   "cell_type": "code",
   "execution_count": null,
   "metadata": {},
   "outputs": [],
   "source": []
  },
  {
   "cell_type": "code",
   "execution_count": null,
   "metadata": {},
   "outputs": [],
   "source": []
  },
  {
   "cell_type": "code",
   "execution_count": 2,
   "metadata": {},
   "outputs": [],
   "source": []
  },
  {
   "cell_type": "code",
   "execution_count": 2,
   "metadata": {},
   "outputs": [],
   "source": [
    "# code description ***\n",
    "# Author : minsik.lee\n",
    "# FileName : 04_HeapT.py\n",
    "# Note \n",
    "\t# @Summary : 코딩테스트 - 프로그래머스 Question (3)\n",
    "\t# @version 1.0 : (2021-01-02) draft\n",
    "    \n",
    "    # (1) 빈 작업이 있을 수 있다는 것도 고려! \n",
    "\n",
    "    # ticket_time : 1개의 요청이 들어온 시간\n",
    "    # running_time : 1개의 작업이 수행되는 시간\n",
    "    # finish_time : 1개의 작업이 완료된 시간\n",
    "    # total_running_time : 작업 리스트들 하나하나가 작업 완료되는데, 걸린 시간 list\n",
    "from collections import deque\n",
    "import heapq\n",
    "\n",
    "def solution(jobs):\n",
    "    \n",
    "    jobs = deque(jobs)\n",
    "\n",
    "    total_time = sum([v for idx, v in jobs]) # 최종 완료 시간\n",
    "    jobs_heap = [] # 작업 요청 리스트\n",
    "    total_running_time = [] # total_running_time : 작업 리스트들 하나하나가 작업 완료되는데, 걸린 시간 list\n",
    "    newtask_time = 0 # 신규 task가 진행되는 시간\n",
    "    finish_time = 0  # finish_time : 1개의 작업이 완료된 시간 (최초 작업은 없으니 0)\n",
    "\n",
    "\n",
    "    for current_time in range(total_time): \n",
    "        print('current_time: ', current_time)\n",
    "        print('jobs: ', jobs)\n",
    "\n",
    "        if jobs: # task가 있는 경우\n",
    "            if jobs[0][0] <= current_time:\n",
    "                _job = jobs.popleft()\n",
    "                heapq.heappush(jobs_heap, _job[::-1]) # 작업 수행 시간 기준 정렬을 하기 위해서\n",
    "\n",
    "        if newtask_time == current_time: # 작업이 끝나는 시간\n",
    "            _task = heapq.heappop(jobs_heap)\n",
    "            ticket_time = _task[1] # ticket_time : 1개의 요청이 들어온 시간\n",
    "            running_time = _task[0] # running_time : 1개의 작업이 수행되는 시간\n",
    "            finish_time = current_time + running_time - ticket_time # finish_time : 1개의 작업이 완료된 시간\n",
    "            newtask_time = current_time + running_time\n",
    "\n",
    "            total_running_time.append(finish_time)\n",
    "            print(_task)\n",
    "\n",
    "        print(f\"{finish_time} - jobs_heap: {jobs_heap}\")\n",
    "        print('total_running_time: ', total_running_time, '\\n')\n",
    "    \n",
    "    answer = sum(total_running_time)/len(total_running_time)\n",
    "    \n",
    "    return answer"
   ]
  },
  {
   "cell_type": "code",
   "execution_count": 132,
   "metadata": {},
   "outputs": [],
   "source": [
    "# code description ***\n",
    "# Author : minsik.lee\n",
    "# FileName : 04_HeapT.py\n",
    "# Note \n",
    "\t# @Summary : 코딩테스트 - 프로그래머스 Question (3)\n",
    "\t# @version 1.0 : (2021-01-02) draft\n",
    "    \n",
    "    # (1) 빈 작업이 있을 수 있다는 것도 고려! \n",
    "\n",
    "    # ticket_time : 1개의 요청이 들어온 시간\n",
    "    # running_time : 1개의 작업이 수행되는 시간\n",
    "    # finish_time : 1개의 작업이 완료된 시간\n",
    "    # total_running_time : 작업 리스트들 하나하나가 작업 완료되는데, 걸린 시간 list\n",
    "import heapq\n",
    "\n",
    "def solution(jobs):\n",
    "    \n",
    "    jobs_heap = [[x[1], x[0]] for x in jobs]\n",
    "\n",
    "    total_running_time = [] # total_running_time : 작업 리스트들 하나하나가 작업 완료되는데, 걸린 시간 list\n",
    "    current_time = 0\n",
    "\n",
    "    heapq.heapify(jobs_heap) # heapq\n",
    "\n",
    "    while jobs_heap:\n",
    "        _task = heapq.heappop(jobs_heap)\n",
    "\n",
    "        print(f\"current : {current_time}\")\n",
    "        ticket_time = _task[1] # ticket_time : 1개의 요청이 들어온 시간\n",
    "        running_time = _task[0] # running_time : 1개의 작업이 수행되는 시간\n",
    "        finish_time = current_time + running_time - ticket_time # finish_time : 1개의 작업이 완료된 시간\n",
    "        print(f\"ticket: {ticket_time}, running: {running_time}, finish: {finish_time}\")\n",
    "        current_time = current_time + running_time\n",
    "        total_running_time.append(finish_time)\n",
    "        print(f\"change - current : {current_time} \\n \")\n",
    "    \n",
    "    answer = sum(total_running_time)/len(total_running_time)\n",
    "    \n",
    "    return answer"
   ]
  },
  {
   "cell_type": "code",
   "execution_count": 164,
   "metadata": {},
   "outputs": [
    {
     "output_type": "stream",
     "name": "stdout",
     "text": [
      "current : 0\nticket: 0, running: 3, finish: 3\nchange - current : 3 \n \ncurrent : 3\nticket: 2, running: 6, finish: 7\nchange - current : 9 \n \ncurrent : 9\nticket: 1, running: 9, finish: 17\nchange - current : 18 \n \n"
     ]
    },
    {
     "output_type": "execute_result",
     "data": {
      "text/plain": [
       "9.0"
      ]
     },
     "metadata": {},
     "execution_count": 164
    }
   ],
   "source": [
    "# code description ***\n",
    "# Author : minsik.lee\n",
    "# FileName : 04_HeapT.py\n",
    "# Note \n",
    "\t# @Summary : 코딩테스트 - 프로그래머스 Question (3)\n",
    "\t# @version 1.0 : (2021-01-05) https://seoyoung2.github.io/algorithm/2020/06/04/Programmers-diskcontroller.html\n",
    "    # @version 2.0 : (2021-01-05) 내가 이해할 수 있는 주석으로 변경\n",
    "\n",
    "    # 결국에 키는 ticket_time, running_time 을 변경해서 heap 에 넣고 min 으로 추출 \n",
    "\n",
    "import heapq\n",
    "\n",
    "def solution(jobs):\n",
    "    count, last, answer = 0, -1, 0\n",
    "    heap = []\n",
    "    jobs.sort()\n",
    "    # 시작시간 초기화\n",
    "    current_time = jobs[0][0]\n",
    "    while count < len(jobs):\n",
    "        for ticket_time, running_time in jobs:\n",
    "            # ticket_time : 1개의 요청이 들어온 시간\n",
    "            # running_time : 1개의 작업이 수행되는 시간\n",
    "            if last < ticket_time <= current_time:\n",
    "                # 작업 소요시간으로 min heap을 만들기 위해 (running_time, ticket_time) 푸시\n",
    "                heapq.heappush(heap, (running_time, ticket_time))\n",
    "        # 바로 수행할 수 있는 작업이 있는 경우\n",
    "        if len(heap) > 0:\n",
    "            count += 1\n",
    "            last = current_time # 마지막으로 answer 입력된 task의 수행 시작 시점\n",
    "            running_time_i, ticket_time_i = heapq.heappop(heap)\n",
    "            current_time += running_time_i\n",
    "            answer += (current_time - ticket_time_i)\n",
    "        # 바로 수행할 수 있는 작업이 없는 경우\n",
    "        else:\n",
    "            current_time += 1\n",
    "    return answer//len(jobs)\n",
    "\n",
    "\n",
    "print(solution([[0, 3], [1, 9], [2, 6]]))"
   ]
  },
  {
   "cell_type": "code",
   "execution_count": 52,
   "metadata": {},
   "outputs": [],
   "source": [
    "# code description ***\n",
    "# Author : minsik.lee\n",
    "# FileName : 04_HeapT.py\n",
    "# Note \n",
    "\t# @Summary : 코딩테스트 - 프로그래머스 Question (3) Heap (3)\n",
    "\t# @version 1.0 : (2021-01-13)\n",
    "\n",
    "    # I : insert _ number\n",
    "    # D : delete {max(n > 0), min(n < 0)}\n",
    "\n",
    "# coding sketch\n",
    "# (1) 기본 I/D 부터 만들기\n",
    "#       min heap 으로 정렬\n",
    "#       max 구하는 방식 \n",
    "# (2) return \n",
    "#       비어있는 경우 \n",
    "#       최대,최소 반환 경우\n",
    "\n",
    "\n",
    "# 채점을 시작합니다.\n",
    "# 정확성  테스트\n",
    "# 테스트 1 〉\t통과 (0.04ms, 10.4MB)\n",
    "# 테스트 2 〉\t통과 (0.03ms, 10.3MB)\n",
    "# 테스트 3 〉\t통과 (0.04ms, 10.4MB)\n",
    "# 테스트 4 〉\t통과 (0.03ms, 10.3MB)\n",
    "# 테스트 5 〉\t통과 (0.03ms, 10.4MB)\n",
    "# 테스트 6 〉\t통과 (0.03ms, 10.4MB)\n",
    "# 채점 결과\n",
    "# 정확성: 100.0\n",
    "# 합계: 100.0 / 100.0\n",
    "\n",
    "import heapq\n",
    "\n",
    "def solution(operations):    \n",
    "    heap = []\n",
    "\n",
    "    for operation_i in operations:\n",
    "        # operator 연산자\n",
    "        # number action하는 숫자 \n",
    "        operator, number = operation_i.split() \n",
    "        number = int(number)\n",
    "        # D/I 연산 \n",
    "        if operator == 'I':\n",
    "            heapq.heappush(heap, number)\n",
    "        elif len(heap) > 0 : # delete\n",
    "            if number < 0:\n",
    "                heapq.heappop(heap)\n",
    "            else: # max heap\n",
    "                maxN = heapq.nlargest(1, heap)[0] # 최대 값 반환\n",
    "                heap.pop(heap.index(maxN)) # 최대 값의 index 삭제 (list)\n",
    "        else: # delete - empty heap\n",
    "            pass\n",
    "\n",
    "    if len(heap) == 0:\n",
    "        return [0, 0]\n",
    "    else:\n",
    "        minN = heap[0]\n",
    "        maxN = maxN = heapq.nlargest(1, heap)[0] \n",
    "        return [maxN, minN]\n"
   ]
  },
  {
   "cell_type": "code",
   "execution_count": 37,
   "metadata": {},
   "outputs": [],
   "source": [
    "# test case\n",
    "operations = [\"I 16\", \"D 1\"] #\t[0,0]\n",
    "operations = [\"I 7\",\"I 5\",\"I -5\",\"D -1\"]\t# [7,5]"
   ]
  },
  {
   "cell_type": "code",
   "execution_count": 53,
   "metadata": {},
   "outputs": [
    {
     "output_type": "stream",
     "name": "stdout",
     "text": [
      "[-5, 7, 5]\n"
     ]
    },
    {
     "output_type": "execute_result",
     "data": {
      "text/plain": [
       "[7, 5]"
      ]
     },
     "metadata": {},
     "execution_count": 53
    }
   ],
   "source": [
    "solution(operations)"
   ]
  },
  {
   "cell_type": "code",
   "execution_count": 38,
   "metadata": {},
   "outputs": [
    {
     "output_type": "error",
     "ename": "SyntaxError",
     "evalue": "'return' outside function (<ipython-input-38-bcd0b2e5e8ec>, line 22)",
     "traceback": [
      "\u001b[0;36m  File \u001b[0;32m\"<ipython-input-38-bcd0b2e5e8ec>\"\u001b[0;36m, line \u001b[0;32m22\u001b[0m\n\u001b[0;31m    return [0, 0]\u001b[0m\n\u001b[0m    ^\u001b[0m\n\u001b[0;31mSyntaxError\u001b[0m\u001b[0;31m:\u001b[0m 'return' outside function\n"
     ]
    }
   ],
   "source": [
    "import heapq\n",
    "heap = []\n",
    "\n",
    "for operation_i in operations:\n",
    "    # operator 연산자\n",
    "    # number action하는 숫자 \n",
    "    operator, number = operation_i.split() \n",
    "    # D/I 연산 \n",
    "    if operator == 'I':\n",
    "        heapq.heappush(heap, number)\n",
    "    elif len(heap) > 0 : # delete\n",
    "        number = int(number)\n",
    "        if number < 0:\n",
    "            heapq.heappop(heap)\n",
    "        else: # max heap\n",
    "            maxN = heapq.nlargest(1, heap)[0] # 최대 값 반환\n",
    "            heap.pop(heap.index(maxN)) # 최대 값의 index 삭제 (list)\n",
    "    else: # delete - empty heap\n",
    "        pass\n",
    "\n",
    "if len(heap) == 0:\n",
    "    return [0, 0]\n",
    "else:\n",
    "    minN = heap[0]\n",
    "    maxN = maxN = heapq.nlargest(1, heap)[0] \n",
    "    return [maxN, minN]"
   ]
  },
  {
   "cell_type": "code",
   "execution_count": 12,
   "metadata": {},
   "outputs": [
    {
     "output_type": "execute_result",
     "data": {
      "text/plain": [
       "['16']"
      ]
     },
     "metadata": {},
     "execution_count": 12
    }
   ],
   "source": []
  },
  {
   "cell_type": "code",
   "execution_count": null,
   "metadata": {},
   "outputs": [],
   "source": []
  },
  {
   "cell_type": "code",
   "execution_count": 26,
   "metadata": {},
   "outputs": [
    {
     "output_type": "execute_result",
     "data": {
      "text/plain": [
       "[0, 4, 2, 13, 6]"
      ]
     },
     "metadata": {},
     "execution_count": 26
    }
   ],
   "source": [
    "heap = []\n",
    "heapq.heappush(heap, 0)\n",
    "heapq.heappush(heap, 13)\n",
    "heapq.heappush(heap, 2)\n",
    "heapq.heappush(heap, 4)\n",
    "heapq.heappush(heap, 6)\n",
    "\n",
    "\n",
    "heap"
   ]
  },
  {
   "cell_type": "code",
   "execution_count": 33,
   "metadata": {},
   "outputs": [
    {
     "output_type": "execute_result",
     "data": {
      "text/plain": [
       "[0, 4, 2, 6]"
      ]
     },
     "metadata": {},
     "execution_count": 33
    }
   ],
   "source": [
    "maxN = heapq.nlargest(1, heap)[0]\n",
    "heap.pop(heap.index(maxN))\n",
    "heap"
   ]
  },
  {
   "cell_type": "code",
   "execution_count": 30,
   "metadata": {},
   "outputs": [
    {
     "output_type": "execute_result",
     "data": {
      "text/plain": [
       "[0, 4, 2, 13, 6]"
      ]
     },
     "metadata": {},
     "execution_count": 30
    }
   ],
   "source": [
    "heap"
   ]
  },
  {
   "cell_type": "code",
   "execution_count": 18,
   "metadata": {},
   "outputs": [
    {
     "output_type": "execute_result",
     "data": {
      "text/plain": [
       "[4, 13, 6]"
      ]
     },
     "metadata": {},
     "execution_count": 18
    }
   ],
   "source": [
    "heapq.heappop(heap)\n",
    "heap"
   ]
  },
  {
   "cell_type": "code",
   "execution_count": null,
   "metadata": {},
   "outputs": [],
   "source": []
  },
  {
   "cell_type": "code",
   "execution_count": 25,
   "metadata": {},
   "outputs": [
    {
     "output_type": "execute_result",
     "data": {
      "text/plain": [
       "2"
      ]
     },
     "metadata": {},
     "execution_count": 25
    }
   ],
   "source": [
    "heap.index(6)"
   ]
  },
  {
   "cell_type": "code",
   "execution_count": 3,
   "metadata": {},
   "outputs": [
    {
     "output_type": "execute_result",
     "data": {
      "text/plain": [
       "[10, 15, 12, 40, 30, 20]"
      ]
     },
     "metadata": {},
     "execution_count": 3
    }
   ],
   "source": [
    "heap = []\n",
    "import heapq\n",
    "heapq.heappush(heap, 40)\n",
    "heapq.heappush(heap, 20)\n",
    "heapq.heappush(heap, 10)\n",
    "heapq.heappush(heap, 15)\n",
    "heapq.heappush(heap, 30)\n",
    "heapq.heappush(heap, 12)\n",
    "heap"
   ]
  },
  {
   "cell_type": "code",
   "execution_count": 5,
   "metadata": {},
   "outputs": [
    {
     "output_type": "execute_result",
     "data": {
      "text/plain": [
       "1"
      ]
     },
     "metadata": {},
     "execution_count": 5
    }
   ],
   "source": [
    "3//2"
   ]
  }
 ],
 "metadata": {
  "kernelspec": {
   "display_name": "Python 3",
   "language": "python",
   "name": "python3"
  },
  "language_info": {
   "codemirror_mode": {
    "name": "ipython",
    "version": 3
   },
   "file_extension": ".py",
   "mimetype": "text/x-python",
   "name": "python",
   "nbconvert_exporter": "python",
   "pygments_lexer": "ipython3",
   "version": "3.8.3-final"
  }
 },
 "nbformat": 4,
 "nbformat_minor": 4
}
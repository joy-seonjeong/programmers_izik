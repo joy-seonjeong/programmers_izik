{
 "cells": [
  {
   "cell_type": "code",
   "execution_count": 17,
   "metadata": {},
   "outputs": [],
   "source": [
    "progresses=[93, 30, 55]\n",
    "speeds=[1, 30, 5]\n",
    "import math"
   ]
  },
  {
   "cell_type": "markdown",
   "metadata": {},
   "source": [
    "### list comprehension"
   ]
  },
  {
   "cell_type": "code",
   "execution_count": null,
   "metadata": {},
   "outputs": [],
   "source": [
    "for p, s in zip(progresses, speeds):\n",
    "    if s != 1:\n",
    "        print(p, s)"
   ]
  },
  {
   "cell_type": "code",
   "execution_count": 14,
   "metadata": {},
   "outputs": [],
   "source": [
    "day = [math.ceil(((100-p)/s)) for p, s in zip(progresses, speeds) if s != 1]"
   ]
  },
  {
   "cell_type": "code",
   "execution_count": 10,
   "metadata": {
    "tags": []
   },
   "outputs": [],
   "source": [
    "for p, s in zip(progresses, speeds):\n",
    "    day = math.ceil(((100-p)/s))"
   ]
  },
  {
   "cell_type": "code",
   "execution_count": 13,
   "metadata": {
    "tags": []
   },
   "outputs": [
    {
     "output_type": "stream",
     "name": "stdout",
     "text": "30 30\n55 5\n"
    }
   ],
   "source": [
    "for p, s in zip(progresses, speeds):\n",
    "    if s != 1:\n",
    "        print(p, s)"
   ]
  },
  {
   "cell_type": "code",
   "execution_count": null,
   "metadata": {},
   "outputs": [],
   "source": []
  }
 ],
 "metadata": {
  "language_info": {
   "codemirror_mode": {
    "name": "ipython",
    "version": 3
   },
   "file_extension": ".py",
   "mimetype": "text/x-python",
   "name": "python",
   "nbconvert_exporter": "python",
   "pygments_lexer": "ipython3",
   "version": "3.8.5-final"
  },
  "orig_nbformat": 2,
  "kernelspec": {
   "name": "python38564bitprogrammersizikconda30a0f0e47ad6431eaf1a6588eea4990d",
   "display_name": "Python 3.8.5 64-bit ('programmers_izik': conda)"
  }
 },
 "nbformat": 4,
 "nbformat_minor": 2
}
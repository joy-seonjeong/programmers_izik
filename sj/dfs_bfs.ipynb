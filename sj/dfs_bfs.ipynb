{
 "cells": [
  {
   "cell_type": "markdown",
   "metadata": {},
   "source": [
    "### 깊이 너비 우선탐색\n",
    "\n",
    "@ 2020-02-19"
   ]
  },
  {
   "cell_type": "markdown",
   "metadata": {},
   "source": [
    "### bfs: 너비 우선 탐색 (큐)\n",
    "<img src=\"bfs.gif\" alt=\"Drawing\" style=\"width: 200px;\"/>\n",
    "<img src=\"queue.png\" alt=\"Drawing\" style=\"width: 200px;\"/>\n"
   ]
  },
  {
   "cell_type": "markdown",
   "metadata": {},
   "source": [
    "### 구현 방법\n",
    "(1) 최초 node queue에 넣기  \n",
    "(2) dequeue로 0번 인덱스 pop  \n",
    "(3) 만약 pop한 node가 찾고자 하는 target이면 서치 중단  \n",
    "(4) node의 자식을 expand(삽입하는 것)  \n",
    "\n",
    "<img src=\"bfs_eg.png\" alt=\"Drawing\" style=\"width: 100px;\"/>"
   ]
  },
  {
   "cell_type": "markdown",
   "metadata": {},
   "source": [
    "### dfs: 깊이 우선 탐색 (스택)\n",
    "<img src=\"dfs.gif\" alt=\"Drawing\" style=\"width: 200px;\"/>\n",
    "<img src=\"stack.png\" alt=\"Drawing\" style=\"width: 200px;\"/>\n"
   ]
  },
  {
   "cell_type": "markdown",
   "metadata": {},
   "source": [
    "### 구현 방법\n",
    "(1) 최초 node list에 넣기  \n",
    "(2) pop으로 0번 인덱스 pop  \n",
    "(3) 만약 pop한 node가 찾고자 하는 target이면 서치 중단  \n",
    "(4) target이 아니면 node의 자식을 expand(삽입)  \n",
    "\n",
    "<img src=\"dfs_eg.png\" alt=\"Drawing\" style=\"width: 400px;\"/>"
   ]
  },
  {
   "cell_type": "code",
   "execution_count": 17,
   "metadata": {},
   "outputs": [],
   "source": [
    "import collections"
   ]
  },
  {
   "cell_type": "markdown",
   "metadata": {},
   "source": [
    "### 1. 타겟 넘버: 타겟 넘버를 만들 수 있는 방법의 수를 반환하라.\n",
    "- input1: numbers 배열  \n",
    "- input2: 배열로 만들어내야 하는 target 숫자  \n",
    "- return: target을 만들 수 있는 방법의 수  \n",
    "\n",
    "- 참고 문서: https://train-validation-test.tistory.com/entry/Programmers-level-2-%ED%83%80%EA%B2%9F-%EB%84%98%EB%B2%84-python"
   ]
  },
  {
   "cell_type": "code",
   "execution_count": 64,
   "metadata": {},
   "outputs": [],
   "source": [
    "numbers = [1, 1, 1, 1, 1]\n",
    "target  = 3\n",
    "# return = 5"
   ]
  },
  {
   "cell_type": "code",
   "execution_count": 70,
   "metadata": {
    "tags": []
   },
   "outputs": [
    {
     "output_type": "stream",
     "name": "stdout",
     "text": "내가 만든 tree: [1, -1]\n내가 만든 tree: [2, 0, 0, -2]\n내가 만든 tree: [3, 1, 1, -1, 1, -1, -1, -3]\n내가 만든 tree: [4, 2, 2, 0, 2, 0, 0, -2, 2, 0, 0, -2, 0, -2, -2, -4]\n내가 만든 tree: [5, 3, 3, 1, 3, 1, 1, -1, 3, 1, 1, -1, 1, -1, -1, -3, 3, 1, 1, -1, 1, -1, -1, -3, 1, -1, -1, -3, -1, -3, -3, -5]\n"
    },
    {
     "output_type": "execute_result",
     "data": {
      "text/plain": "5"
     },
     "metadata": {},
     "execution_count": 70
    }
   ],
   "source": [
    "# bfs를 활용해서 풀어보기\n",
    "tree = [0]\n",
    "\n",
    "for i in numbers :\n",
    "    tree_child = []\n",
    "    for j in tree :\n",
    "        children = [j + i, j - i]\n",
    "        tree_child.extend(children)\n",
    "    tree = tree_child\n",
    "    print('내가 만든 tree:', tree)\n",
    "    answer = tree.count(target)\n",
    "answer"
   ]
  },
  {
   "cell_type": "code",
   "execution_count": 77,
   "metadata": {},
   "outputs": [],
   "source": [
    "def solution(numbers, target) :\n",
    "    tree = [0]\n",
    "    for i in numbers :\n",
    "        tree_child = []\n",
    "        for j in tree :\n",
    "            children = [j + i, j - i]\n",
    "            tree_child.extend(children)\n",
    "        tree = tree_child\n",
    "    return tree.count(target)"
   ]
  },
  {
   "cell_type": "code",
   "execution_count": 78,
   "metadata": {},
   "outputs": [
    {
     "output_type": "execute_result",
     "data": {
      "text/plain": "5"
     },
     "metadata": {},
     "execution_count": 78
    }
   ],
   "source": [
    "numbers = [1, 1, 1, 1, 1]\n",
    "target  = 3\n",
    "solution(numbers, target)"
   ]
  },
  {
   "cell_type": "markdown",
   "metadata": {},
   "source": [
    "### 2. 네트워크 : 연결된 컴퓨터의 네트워크 개수 찾기  \n",
    "- input1: 컴퓨터 개수 (int)  \n",
    "- input2: 연결 고리 (e.g. cp = [[1, 1, 0], [1, 1, 0], [0, 0, 1]] -> i번째와 j번쨰 연결 cpij = 1)  \n",
    "- output: 연결된 네트워크 개수  \n",
    "\n",
    "- ref: https://cocojelly.github.io/algorithm/%ED%94%84%EB%A1%9C%EA%B7%B8%EB%9E%98%EB%A8%B8%EC%8A%A4-%EC%BD%94%EB%94%A9%ED%85%8C%EC%8A%A4%ED%8A%B8-%EC%97%B0%EC%8A%B5-DFS-BFS-(2)/\n",
    "\n",
    "<img src=\"network.png\" alt=\"Drawing\" style=\"width: 400px;\"/>\n",
    "<img src=\"network2.png\" alt=\"Drawing\" style=\"width: 400px;\"/>"
   ]
  },
  {
   "cell_type": "markdown",
   "metadata": {},
   "source": [
    "- A를 탐색할 스택에 저장, 방문 이력 리스트 저장  \n",
    "q = \\[A\\], visited = \\[1,0,0, ...\\]  \n",
    "\n",
    "- A에서 시작해서 모든 노드(n)를 확인해서 연결되어 있고 (computers\\[node\\]\\[i\\] == 1), 방문한적 없으면 (visited\\[i\\]) 큐에 저장, 방문했으면 다시 갈필요 없으니까 visited에 저장   \n",
    "q = \\[B\\], visited = \\[1,1,0, ...\\]  \n",
    "\n",
    "- 다음 스택 B 탐색 (q.pop(0)) -> 연결된 노드 모두 탐색하여 큐에 저장 (visited에 차례차례 저장)  \n",
    "q = \\[C, D\\], visited = \\[1,1,1,1, ...\\]  \n",
    "\n",
    "- 다음 스택 C 탐색 (q.pop(0)) -> D는 이미 방문했으므로 E 추가  \n",
    "q = \\[D, E\\], visited = \\[1, 1, 1, 1, 1, 0, ...\\]  \n",
    "\n",
    "- 다음 D 탐색 -> 연결된 모든 노드는 방문했으므로 stop  -> E 탐색 -> 모든 노드 방문했으므로 stop  \n",
    "\n",
    "- 하나의 네트워크 완료  \n",
    "\n",
    "- 방문하지 않은 컴퓨터부터 다시 시작 큐에 넣고 동일 로직 반복: bfs.append(visited.index(0))\n",
    "\n"
   ]
  },
  {
   "cell_type": "code",
   "execution_count": 174,
   "metadata": {},
   "outputs": [],
   "source": [
    "n = 3\n",
    "computers = [[1, 1, 0], [1, 1, 0], [0, 0, 1]]\n",
    "#return = 2"
   ]
  },
  {
   "cell_type": "code",
   "execution_count": 204,
   "metadata": {},
   "outputs": [],
   "source": [
    "answer = 0 # 네트워크 개수\n",
    "bfs = [] # 탐색할 큐\n",
    "visited = [0]*n # 방문한 컴퓨터 체크할 리스트"
   ]
  },
  {
   "cell_type": "code",
   "execution_count": 205,
   "metadata": {
    "tags": []
   },
   "outputs": [
    {
     "output_type": "stream",
     "name": "stdout",
     "text": "0, [0], [1, 0, 0]\n"
    }
   ],
   "source": [
    "x = visited.index(0)\n",
    "bfs.append(x) # 최초 탐색 컴퓨터\n",
    "visited[x] = 1 # 방문 표시\n",
    "print(f'{x}, {bfs}, {visited}')"
   ]
  },
  {
   "cell_type": "code",
   "execution_count": 206,
   "metadata": {
    "tags": []
   },
   "outputs": [
    {
     "output_type": "stream",
     "name": "stdout",
     "text": "0, [1], [1, 1, 0]\n"
    }
   ],
   "source": [
    "# 3-1\n",
    "node = bfs.pop(0)\t# 큐의 앞에서부터 노드(인덱스) 꺼내기\n",
    "\n",
    "# 3-2\n",
    "for i in range(n):\t# 꺼낸 노드의 인접 노드를 방문하기 위한 반복문 수행\n",
    "    # 3-2-1\n",
    "    if visited[i] ==0 and computers[node][i] == 1:\t# 인접 노드이고, 방문된 적이 없는 경우 \n",
    "        bfs.append(i)\t# 큐에 추가\n",
    "        visited[i] = 1\n",
    "print(f'{node}, {bfs}, {visited}')"
   ]
  },
  {
   "cell_type": "code",
   "execution_count": 4,
   "metadata": {
    "tags": []
   },
   "outputs": [],
   "source": [
    "# solution by cocojelly\n",
    "\n",
    "def solution(n, computers):\n",
    "    answer = 0\n",
    "    bfs = []\n",
    "    visited = [0]*n\n",
    "\n",
    "    while 0 in visited:\n",
    "        x = visited.index(0)\n",
    "        bfs.append(x)\n",
    "        visited[x] = 1\n",
    "        \n",
    "        while bfs:\n",
    "            node = bfs.pop(0)\n",
    "            visited[node] = 1\n",
    "            for i in range(n):\n",
    "                if visited[i] == 0 and computers[node][i] == 1:\n",
    "                    bfs.append(i)\n",
    "                    visited[i] = 1\n",
    "        answer += 1\n",
    "    return answer"
   ]
  },
  {
   "cell_type": "markdown",
   "metadata": {},
   "source": [
    "### 3. 단어 변환: 시작단어가 타겟 단어가 되기 위해 방문하는 단어의 개수 찾기  \n",
    "- input1: 시작 단어 (char)  \n",
    "- input2: 타겟 단어 (char)  \n",
    "- input3: 단어 모음 (list)  \n",
    "- output: 방문하는 단어 수  \n",
    "\n",
    "ref: https://cocojelly.github.io/algorithm/%ED%94%84%EB%A1%9C%EA%B7%B8%EB%9E%98%EB%A8%B8%EC%8A%A4-%EC%BD%94%EB%94%A9%ED%85%8C%EC%8A%A4%ED%8A%B8-%EC%97%B0%EC%8A%B5-DFS-BFS-(3)/\n",
    "\n"
   ]
  },
  {
   "cell_type": "code",
   "execution_count": 19,
   "metadata": {},
   "outputs": [],
   "source": [
    "begin = 'hit'\n",
    "target ='cog'\n",
    "words = ['hot', 'dot', 'dog', 'lot', 'log', 'cog']"
   ]
  },
  {
   "cell_type": "code",
   "execution_count": 20,
   "metadata": {
    "tags": []
   },
   "outputs": [
    {
     "output_type": "stream",
     "name": "stdout",
     "text": "('h', 'c')\n알파벳 다름\n('i', 'o')\n알파벳 다름\n('t', 'g')\n알파벳 다름\n"
    }
   ],
   "source": [
    "# 1.1) 알파벳 같은지 다른지 확인하기\n",
    "word = zip(begin, target)\n",
    "\n",
    "for a, b in zip(begin, target) :\n",
    "    print(next(word))\n",
    "    if a == b :\n",
    "        print('알파벳 같음')\n",
    "    else :\n",
    "        print('알파벳 다름')"
   ]
  },
  {
   "cell_type": "code",
   "execution_count": 21,
   "metadata": {},
   "outputs": [],
   "source": [
    "# 알파벳 하나만 다르면 True를 반환하는 함수 (with zip)\n",
    "transistable = lambda a, b: sum((1 if x!=y else 0) for x,y in zip(a,b)) == 1"
   ]
  },
  {
   "cell_type": "code",
   "execution_count": 22,
   "metadata": {},
   "outputs": [
    {
     "output_type": "execute_result",
     "data": {
      "text/plain": "True"
     },
     "metadata": {},
     "execution_count": 22
    }
   ],
   "source": [
    "transistable('hot','hit')"
   ]
  },
  {
   "cell_type": "code",
   "execution_count": 23,
   "metadata": {},
   "outputs": [],
   "source": [
    "# 알파벳이 하나만 다른 단어 뽑아내기 (with filter)\n",
    "begin = \"hit\"\n",
    "words = [\"hot\", \"dot\", \"dog\", \"lot\", \"log\", \"cog\"]\n",
    "\n",
    "d = dict() # 단어를 딕셔너리에 담아주기 위함"
   ]
  },
  {
   "cell_type": "code",
   "execution_count": 24,
   "metadata": {},
   "outputs": [
    {
     "output_type": "execute_result",
     "data": {
      "text/plain": "{'hot'}"
     },
     "metadata": {},
     "execution_count": 24
    }
   ],
   "source": [
    "# filter는 인자(words)의 iterator를 인자의 함수(transistable)에 대입해 True인 요소들로 새로운 iterator 구성\n",
    "set(filter(lambda x: transistable(x, begin), words))"
   ]
  },
  {
   "cell_type": "code",
   "execution_count": 25,
   "metadata": {
    "tags": []
   },
   "outputs": [
    {
     "output_type": "stream",
     "name": "stdout",
     "text": "<class 'set'> 이라는 자료형을 알게되었다.\n"
    }
   ],
   "source": [
    "print(f'{type({1,2,3})} 이라는 자료형을 알게되었다.')"
   ]
  },
  {
   "cell_type": "code",
   "execution_count": 26,
   "metadata": {},
   "outputs": [],
   "source": [
    "d = dict()\n",
    "d[begin] = set(filter(lambda x:transistable(x, begin), words))"
   ]
  },
  {
   "cell_type": "code",
   "execution_count": 27,
   "metadata": {},
   "outputs": [
    {
     "output_type": "execute_result",
     "data": {
      "text/plain": "{'hit': {'hot'}}"
     },
     "metadata": {},
     "execution_count": 27
    }
   ],
   "source": [
    "d"
   ]
  },
  {
   "cell_type": "code",
   "execution_count": 28,
   "metadata": {
    "tags": []
   },
   "outputs": [
    {
     "output_type": "stream",
     "name": "stdout",
     "text": "{'hit': {'hot'}, 'hot': {'dot', 'lot'}, 'dot': {'hot', 'lot', 'dog'}, 'dog': {'dot', 'cog', 'log'}, 'lot': {'dot', 'hot', 'log'}, 'log': {'cog', 'lot', 'dog'}, 'cog': {'log', 'dog'}}\n"
    }
   ],
   "source": [
    "# 위의 방법으로 단어 모음의 모든 경우의수 저장\n",
    "words = ['hot', 'dot', 'dog', 'lot', 'log', 'cog']\n",
    "for i in words :\n",
    "    d[i] = set(filter(lambda x: transistable(x, i), words))\n",
    "print(d)\n"
   ]
  },
  {
   "cell_type": "code",
   "execution_count": 32,
   "metadata": {
    "tags": []
   },
   "outputs": [
    {
     "output_type": "error",
     "ename": "ImportError",
     "evalue": "cannot import name 'queue' from 'queue' (/Users/tf-mac-075/opt/anaconda3/envs/programmers_izik/lib/python3.8/queue.py)",
     "traceback": [
      "\u001b[0;31m---------------------------------------------------------------------------\u001b[0m",
      "\u001b[0;31mImportError\u001b[0m                               Traceback (most recent call last)",
      "\u001b[0;32m<ipython-input-32-40dffae416e7>\u001b[0m in \u001b[0;36m<module>\u001b[0;34m\u001b[0m\n\u001b[1;32m      1\u001b[0m \u001b[0;31m# 단어를 알파벳 하나씩 바꿔가면서 큐에 저장\u001b[0m\u001b[0;34m\u001b[0m\u001b[0;34m\u001b[0m\u001b[0;34m\u001b[0m\u001b[0m\n\u001b[0;32m----> 2\u001b[0;31m \u001b[0;32mfrom\u001b[0m \u001b[0mqueue\u001b[0m \u001b[0;32mimport\u001b[0m \u001b[0mqueue\u001b[0m\u001b[0;34m\u001b[0m\u001b[0;34m\u001b[0m\u001b[0m\n\u001b[0m\u001b[1;32m      3\u001b[0m \u001b[0mq\u001b[0m \u001b[0;34m=\u001b[0m \u001b[0mqueue\u001b[0m\u001b[0;34m(\u001b[0m\u001b[0;34m)\u001b[0m\u001b[0;34m\u001b[0m\u001b[0;34m\u001b[0m\u001b[0m\n\u001b[1;32m      4\u001b[0m \u001b[0mq\u001b[0m\u001b[0;34m.\u001b[0m\u001b[0mappend\u001b[0m\u001b[0;34m(\u001b[0m\u001b[0;34m(\u001b[0m\u001b[0mbegin\u001b[0m\u001b[0;34m,\u001b[0m\u001b[0;36m0\u001b[0m\u001b[0;34m)\u001b[0m\u001b[0;34m)\u001b[0m\u001b[0;34m\u001b[0m\u001b[0;34m\u001b[0m\u001b[0m\n\u001b[1;32m      5\u001b[0m \u001b[0mprint\u001b[0m\u001b[0;34m(\u001b[0m\u001b[0;34mf'최초 큐 형태: {q}'\u001b[0m\u001b[0;34m)\u001b[0m\u001b[0;34m\u001b[0m\u001b[0;34m\u001b[0m\u001b[0m\n",
      "\u001b[0;31mImportError\u001b[0m: cannot import name 'queue' from 'queue' (/Users/tf-mac-075/opt/anaconda3/envs/programmers_izik/lib/python3.8/queue.py)"
     ]
    }
   ],
   "source": [
    "# 단어를 알파벳 하나씩 바꿔가면서 큐에 저장\n",
    "from queue import queue\n",
    "q = queue()\n",
    "q.append((begin,0))\n",
    "print(f'최초 큐 형태: {q}')"
   ]
  },
  {
   "cell_type": "code",
   "execution_count": 119,
   "metadata": {
    "tags": []
   },
   "outputs": [
    {
     "output_type": "stream",
     "name": "stdout",
     "text": "변환된 큐: deque([('hot', 1)])\n"
    }
   ],
   "source": [
    "cur, level = q.popleft()\n",
    "for w in d[cur]:\n",
    "    q.append((w, level + 1))\n",
    "print(f'변환된 큐: {q}')"
   ]
  },
  {
   "cell_type": "code",
   "execution_count": 120,
   "metadata": {
    "tags": []
   },
   "outputs": [
    {
     "output_type": "stream",
     "name": "stdout",
     "text": "변환된 큐: deque([('lot', 2), ('dot', 2)])\n"
    }
   ],
   "source": [
    "cur, level = q.popleft()\n",
    "for w in d[cur]:\n",
    "    q.append((w, level + 1))\n",
    "print(f'변환된 큐: {q}')"
   ]
  },
  {
   "cell_type": "code",
   "execution_count": 121,
   "metadata": {
    "tags": []
   },
   "outputs": [
    {
     "output_type": "stream",
     "name": "stdout",
     "text": "변환된 큐: deque([('dot', 2), ('hot', 3), ('log', 3), ('dot', 3)])\n"
    }
   ],
   "source": [
    "cur, level = q.popleft()\n",
    "for w in d[cur]:\n",
    "    q.append((w, level + 1))\n",
    "print(f'변환된 큐: {q}')"
   ]
  },
  {
   "cell_type": "code",
   "execution_count": 122,
   "metadata": {},
   "outputs": [],
   "source": [
    "# solution by cocojelly\n",
    "from collections import deque as queue\n",
    "\n",
    "# 알파벳 하나만 다른 단어 만드는 함수 생성\n",
    "transistable = lambda a,b: sum((1 if x!=y else 0) for x,y in zip(a,b)) == 1\n",
    "\n",
    "def solution(begin,target,words):\n",
    "    q, d = queue(), dict() # 변환된 단어, 변환 횟수 담을 큐 & 단어 변환 모음집 담을 딕셔너리\n",
    "    q.append((begin, 0)) # 최초 큐 생성\n",
    "    d[begin] = set(filter(lambda x:transistable(x,begin), words)) # 최초 단어 변환 모음 딕셔너리에 넣기\n",
    "    \n",
    "    for w in words: # 단어 모음에 있는 모든 단어의 변환 모음 딕셔너리에 넣기\n",
    "        d[w] = set(filter(lambda x:transistable(x,w), words))\n",
    "       \n",
    "    while q: # 큐에 있는 단어가 없을때까지\n",
    "        cur, level  = q.popleft() # 큐 빼기\n",
    "        if level > len(words): # 단어 모음을 모두 탐색 시, 0 리턴\n",
    "            return 0\n",
    "        for w in d[cur]: # 딕셔너리에서 변환 가능한 모든 경우의 수 큐에 저장\n",
    "            if w == target: # 타겟 단어를 찾으면 변환 횟수 리턴\n",
    "                return level + 1 \n",
    "            else:\n",
    "                q.append((w, level + 1))\n",
    "    \n",
    "    return 0"
   ]
  },
  {
   "cell_type": "markdown",
   "metadata": {},
   "source": [
    "### 4. 여행 경로: 'ICN'에서 출발하는 경로를 리스트에 담아 반환하기.  \n",
    "- input1: ticket 리스트  \n",
    "- ouput: 여행 경로 리스트  \n",
    "*단, 경로가 2개 이상일떄는 알파벳 순서로 정한다.  \n",
    "ref: "
   ]
  },
  {
   "cell_type": "code",
   "execution_count": 3,
   "metadata": {},
   "outputs": [],
   "source": [
    "tickets = [['ICN', 'JFK'], ['HND', 'IAD'], ['JFK', 'HND']]\n",
    "# return = [ICN, JFK, HND, IAD]"
   ]
  },
  {
   "cell_type": "code",
   "execution_count": null,
   "metadata": {},
   "outputs": [],
   "source": [
    "# solution by cocojelly \n",
    "from collections import deque as queue\n",
    "\n",
    "transistable = lambda a,b: sum((1 if x!=y else 0) for x,y in zip(a,b)) == 1\n",
    "\n",
    "def solution(begin,target,words):\n",
    "    q, d = queue(), dict()\n",
    "    q.append((begin, 0))\n",
    "    d[begin] = set(filter(lambda x:transistable(x,begin), words))\n",
    "    \n",
    "    for w in words:\n",
    "        d[w] = set(filter(lambda x:transistable(x,w), words))\n",
    "       \n",
    "    while q:\n",
    "        cur, level  = q.popleft()\n",
    "        if level > len(words):\n",
    "            return 0\n",
    "        for w in d[cur]:\n",
    "            if w == target:\n",
    "                return level + 1\n",
    "            else:\n",
    "                q.append((w, level + 1))\n",
    "    \n",
    "    return 0"
   ]
  }
 ],
 "metadata": {
  "language_info": {
   "codemirror_mode": {
    "name": "ipython",
    "version": 3
   },
   "file_extension": ".py",
   "mimetype": "text/x-python",
   "name": "python",
   "nbconvert_exporter": "python",
   "pygments_lexer": "ipython3",
   "version": 3
  },
  "orig_nbformat": 2,
  "kernelspec": {
   "name": "python_defaultSpec_1613974096595",
   "display_name": "Python 3.8.5 64-bit ('programmers_izik': conda)"
  }
 },
 "nbformat": 4,
 "nbformat_minor": 2
}
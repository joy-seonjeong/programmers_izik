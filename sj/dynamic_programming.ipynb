{
 "cells": [
  {
   "cell_type": "markdown",
   "metadata": {},
   "source": [
    "## 동적 계획법\n",
    "\n",
    "@ 2021-03-14  \n",
    ". 해결된 문제의 답을 저장해두고 그것을 재활용하여 해결된 문제를 다시 푸는 비효율을 제거한다. 공간복잡도를 늘리고 시간복잡도를 줄이는 방식이다.  \n",
    "- ref: https://freedeveloper.tistory.com/276  \n",
    "- 탑다운 (=메모이제이션, 캐싱), 바톰업 (=)"
   ]
  },
  {
   "cell_type": "markdown",
   "metadata": {},
   "source": [
    "### 1. 정수 삼각형\n"
   ]
  },
  {
   "cell_type": "code",
   "execution_count": 31,
   "metadata": {},
   "outputs": [],
   "source": [
    "triangle = [[7], [3, 8], [8, 1, 0], [2, 7, 4, 4], [4, 5, 2, 6, 5]]\n",
    "# result = 30\n",
    "# 점화식 = triangle[i][j] + max(triangle[i-1][j], triangle[i-1][j-1])\n",
    "# i == 1, \n",
    "#   if j==0, ij + (i-1, j) \n",
    "#   if j==1, ij + (i-1, j-1)\n",
    "# i == 2,\n",
    "#   if j==0, ij + (i-1, j)\n",
    "#   if j==1, ij + max{(i-1, j-1), (i-1, j)}\n",
    "#   if j==2, ij + (i-1, j-1)"
   ]
  },
  {
   "cell_type": "code",
   "execution_count": 28,
   "metadata": {},
   "outputs": [],
   "source": [
    "def solution(triangle):\n",
    "    for i in range(1,len(triangle)):\n",
    "        for j in range(0,i+1):\n",
    "            if j == 0:\n",
    "                triangle[i][j] += triangle[i-1][j]\n",
    "            elif j == i:\n",
    "                triangle[i][j] += triangle[i-1][j-1]\n",
    "            else :\n",
    "                triangle[i][j] += max(triangle[i-1][j-1], triangle[i-1][j])\n",
    "    return max(triangle[-1])\n",
    "        "
   ]
  },
  {
   "cell_type": "code",
   "execution_count": 29,
   "metadata": {
    "tags": []
   },
   "outputs": [
    {
     "output_type": "execute_result",
     "data": {
      "text/plain": "30"
     },
     "metadata": {},
     "execution_count": 29
    }
   ],
   "source": [
    "solution(triangle)"
   ]
  },
  {
   "cell_type": "code",
   "execution_count": 32,
   "metadata": {},
   "outputs": [
    {
     "output_type": "execute_result",
     "data": {
      "text/plain": "30"
     },
     "metadata": {},
     "execution_count": 32
    }
   ],
   "source": [
    "# 대박 풀이 ㄴㅇㄱ\n",
    "triangle = [[7], [3, 8], [8, 1, 0], [2, 7, 4, 4], [4, 5, 2, 6, 5]]\n",
    "solution = lambda t, l = []: max(l) if not t else solution(t[1:], [max(x,y)+z for x,y,z in zip([0]+l, l+[0], t[0])])\n",
    "solution(triangle)"
   ]
  },
  {
   "cell_type": "markdown",
   "metadata": {},
   "source": [
    "### 4. 도둑질"
   ]
  },
  {
   "cell_type": "code",
   "execution_count": 41,
   "metadata": {},
   "outputs": [],
   "source": [
    "money = [1, 2, 3, 1]\n",
    "# return 4\n",
    "# function: i 와 i-2 집을 더함 -> cache화)\n",
    "# 점화식: max(dp[i-1], money[i] + money[i-1])"
   ]
  },
  {
   "cell_type": "code",
   "execution_count": 40,
   "metadata": {
    "tags": []
   },
   "outputs": [],
   "source": [
    "def solution(money):\n",
    "    dp1 = [0] * len(money)\n",
    "    dp1[0] = money[0]\n",
    "    dp1[1] = max(money[0], money[1])\n",
    "\n",
    "    for i in range(2, len(money)-1): # 첫 집을 무조건 터는 경우\n",
    "        dp1[i] = max(dp1[i-1], money[i]+dp1[i-2])\n",
    "\n",
    "    dp2 = [0] * len(money)\n",
    "    dp2[0] = 0\n",
    "    dp2[1] = money[1]\n",
    "\n",
    "    for i in range(2, len(money)): # 마지막 집을 무조건 터는 경우\n",
    "        dp2[i] = max(dp2[i-1], money[i]+dp2[i-2])\n",
    "\n",
    "    return max(max(dp1), max(dp2)) # 두 경우 중 최대"
   ]
  },
  {
   "cell_type": "code",
   "execution_count": null,
   "metadata": {},
   "outputs": [],
   "source": [
    "money = [1, 2, 3, 1, 5]\n",
    "# 홀수일때 첫집과 끝집은 만나게 되어 있음\n",
    "\n",
    "# 첫집을 무조건 털때 조건\n",
    "dp1 = [0] *len(money)\n",
    "dp1[0] = money[0]\n",
    "dp1[1] = max(money[0], money[1])\n",
    "\n",
    "# dp = [1, max(1, 2), 0, 0]\n",
    "# i == 2, max(dp[1], 3+1) -> dp = [1, 2, 4, 0, 0]\n",
    "# i == 3, max(dp[2], 1+2) -> dp = [1, 2, 4, 4, 0]\n",
    "\n",
    "# 마지막집 무조건 털때 조건\n",
    "dp2 = [0] * len(money)\n",
    "dp2[0] = 0\n",
    "dp2[1] = money[1]\n",
    "\n",
    "# dp = [0, 2, 0, 0, 0]\n",
    "# i == 2, max(dp[1], 3+1) -> dp = [0, 2, 4, 0, 0]\n",
    "# i == 3, max(dp[2], 1+2) -> dp = [0, 2, 4, 4, 0]\n",
    "# i == 4, max(dp[3], 5+3) -> dp = [0, 2, 4, 4, 8]\n",
    "\n",
    "# result = dp1과 dp2의 max값"
   ]
  },
  {
   "cell_type": "code",
   "execution_count": null,
   "metadata": {},
   "outputs": [],
   "source": []
  }
 ],
 "metadata": {
  "language_info": {
   "codemirror_mode": {
    "name": "ipython",
    "version": 3
   },
   "file_extension": ".py",
   "mimetype": "text/x-python",
   "name": "python",
   "nbconvert_exporter": "python",
   "pygments_lexer": "ipython3",
   "version": "3.8.3-final"
  },
  "orig_nbformat": 2,
  "kernelspec": {
   "name": "programmers_izik",
   "display_name": "[programmers_izik]"
  }
 },
 "nbformat": 4,
 "nbformat_minor": 2
}
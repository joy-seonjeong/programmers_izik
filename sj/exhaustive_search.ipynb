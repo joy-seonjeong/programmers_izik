{
 "cells": [
  {
   "cell_type": "markdown",
   "metadata": {},
   "source": [
    "### 완전 탐색\n",
    "\n",
    "@ 2020-01-25"
   ]
  },
  {
   "cell_type": "markdown",
   "metadata": {},
   "source": [
    "### 1. 모의고사\n",
    "- 문제: 수포자 3명 중 가장 문제를 많이 맞춘 사람을 리스트로 반환하라.  \n",
    "- input: 문제 (list)  \n",
    "- output: 가장 점수 높은 사람 (list)  "
   ]
  },
  {
   "cell_type": "code",
   "execution_count": 43,
   "metadata": {
    "tags": []
   },
   "outputs": [],
   "source": [
    "# 수포자\n",
    "p1 = [1, 2, 3, 4, 5]\n",
    "p2 = [2, 1, 2, 3, 2, 4, 2, 5]\n",
    "p3 = [3, 3, 1, 1, 2, 2, 4, 4, 5, 5]\n",
    "\n",
    "answers = [1,2,3,4,5] # return: [1]\n",
    "\n",
    "def solution(answers) : \n",
    "\n",
    "    score1 = 0\n",
    "    score2 = 0\n",
    "    score3 = 0\n",
    "    score = []\n",
    "    answer = []\n",
    "\n",
    "    for idx, var in enumerate(answers):\n",
    "        # print(idx, var)\n",
    "        # print(p1[idx%len(p1)])\n",
    "        # print(idx+1)\n",
    "        if var == p1[idx%len(p1)]:\n",
    "            score1 += 1\n",
    "        if var == p2[idx%len(p2)]:\n",
    "            score2 += 1\n",
    "        if var == p3[idx%len(p3)]:\n",
    "            score3 += 1\n",
    "\n",
    "        score = [score1, score2, score3]\n",
    "        # print(score)\n",
    "        # print(max(score))\n",
    "\n",
    "    for idx, var in enumerate(score) :\n",
    "        # print(idx, var)\n",
    "        # print(max(var))\n",
    "        if var == max(score) :\n",
    "            answer.append(idx+1)\n",
    "    return answer\n",
    "\n",
    "    "
   ]
  },
  {
   "cell_type": "code",
   "execution_count": 46,
   "metadata": {
    "tags": []
   },
   "outputs": [
    {
     "output_type": "stream",
     "name": "stdout",
     "text": "[1]\n[1, 2, 3]\n"
    }
   ],
   "source": [
    "# test case\n",
    "print(solution([1,2,3,4,5]))\n",
    "print(solution([[1,3,2,4,2]]))"
   ]
  },
  {
   "cell_type": "markdown",
   "metadata": {},
   "source": [
    "### 2. 소수 찾기\n",
    "- 문제: 주어진 숫자로 만들 수 있는 조합 중 소수가 몇개인지 반환하라.  \n",
    "- input: 숫자 조합 (int)  \n",
    "- output: 소수의 갯수 (int)  "
   ]
  },
  {
   "cell_type": "code",
   "execution_count": 128,
   "metadata": {},
   "outputs": [],
   "source": [
    "def check(n) : \n",
    "    \"\"\"\n",
    "    소수인지 확인하는 함수\n",
    "    \"\"\"\n",
    "    if n < 2 :\n",
    "        return False\n",
    "\n",
    "    for i in range(2, n-1) :\n",
    "        if n % i == 0 :\n",
    "            return False\n",
    "\n",
    "    return True"
   ]
  },
  {
   "cell_type": "code",
   "execution_count": 131,
   "metadata": {
    "tags": []
   },
   "outputs": [
    {
     "output_type": "stream",
     "name": "stdout",
     "text": "True\nFalse\nFalse\nFalse\n"
    }
   ],
   "source": [
    "print(check(17))\n",
    "print(check(21))\n",
    "print(check(0))\n",
    "print(check(1))"
   ]
  },
  {
   "cell_type": "code",
   "execution_count": 132,
   "metadata": {
    "tags": []
   },
   "outputs": [
    {
     "output_type": "stream",
     "name": "stdout",
     "text": "0  번째 iteration\n저장된 리스트 =  [('0',), ('1',), ('1',)]\n튜플 ('0',) 를 0  로 만들어준다.\n튜플 ('1',) 를 1  로 만들어준다.\n튜플 ('1',) 를 1  로 만들어준다.\n1  번째 iteration\n저장된 리스트 =  [('0', '1'), ('0', '1'), ('1', '0'), ('1', '1'), ('1', '0'), ('1', '1')]\n튜플 ('0', '1') 를 01  로 만들어준다.\n튜플 ('0', '1') 를 01  로 만들어준다.\n튜플 ('1', '0') 를 10  로 만들어준다.\n튜플 ('1', '1') 를 11  로 만들어준다.\n튜플 ('1', '0') 를 10  로 만들어준다.\n튜플 ('1', '1') 를 11  로 만들어준다.\n2  번째 iteration\n저장된 리스트 =  [('0', '1', '1'), ('0', '1', '1'), ('1', '0', '1'), ('1', '1', '0'), ('1', '0', '1'), ('1', '1', '0')]\n튜플 ('0', '1', '1') 를 011  로 만들어준다.\n튜플 ('0', '1', '1') 를 011  로 만들어준다.\n튜플 ('1', '0', '1') 를 101  로 만들어준다.\n튜플 ('1', '1', '0') 를 110  로 만들어준다.\n튜플 ('1', '0', '1') 를 101  로 만들어준다.\n튜플 ('1', '1', '0') 를 110  로 만들어준다.\n[0, 1, 101, 10, 11, 110]\n"
    }
   ],
   "source": [
    "input = '011' # output 3\n",
    "\n",
    "answer = []\n",
    "# 조합 찾기\n",
    "import itertools\n",
    "for i in range(len(input)):\n",
    "    print(i, ' 번째 iteration' )\n",
    "    a = list(itertools.permutations(input,i+1)) # 조합 만들어서 list에 저장\n",
    "    print('저장된 리스트 = ', a)\n",
    "    for j in a :\n",
    "        print('튜플', j, '를', ''.join(j), ' 로 만들어준다.')\n",
    "        answer.append(int(''.join(j)))\n",
    "        answer = list(set(answer)) # 중복 제거\n",
    "print(answer)"
   ]
  },
  {
   "cell_type": "code",
   "execution_count": 133,
   "metadata": {
    "tags": []
   },
   "outputs": [
    {
     "output_type": "stream",
     "name": "stdout",
     "text": "0 의 소수 여부:  False\n1 의 소수 여부:  False\n101 의 소수 여부:  True\n10 의 소수 여부:  False\n11 의 소수 여부:  True\n110 의 소수 여부:  False\n2\n"
    }
   ],
   "source": [
    "# 소수인지 확인해서 갯수 세기\n",
    "count = 0\n",
    "for k in answer : \n",
    "    check(k)\n",
    "    print(k, '의 소수 여부: ', check(k))\n",
    "    if check(k) :\n",
    "        count += 1\n",
    "print(count)"
   ]
  },
  {
   "cell_type": "code",
   "execution_count": 134,
   "metadata": {},
   "outputs": [],
   "source": [
    "def check(n) : \n",
    "    \"\"\"\n",
    "    소수인지 확인하는 함수\n",
    "    \"\"\"\n",
    "    if n < 2 :\n",
    "        return False\n",
    "    for i in range(2, n-1) :\n",
    "        if n % i == 0 :\n",
    "            return False\n",
    "\n",
    "    return True\n",
    "\n",
    "\n",
    "def solution(numbers) :\n",
    "    answer = []\n",
    "    for i in range(len(input)):\n",
    "        print(i, ' 번째 iteration' )\n",
    "        a = list(itertools.permutations(input,i+1)) # 조합 만들어서 list에 저장\n",
    "        print('저장된 리스트 = ', a)\n",
    "        for j in a :\n",
    "            print('튜플', j, '를', ''.join(j), ' 로 만들어준다.')\n",
    "            answer.append(int(''.join(j)))\n",
    "            answer = list(set(answer)) # 중복 제거\n",
    "    print('최종 리스트:', answer)\n",
    "\n",
    "    count = 0\n",
    "    for k in answer : \n",
    "        check(k)\n",
    "        if check(k) :\n",
    "            count += 1\n",
    "\n",
    "    return count"
   ]
  },
  {
   "cell_type": "code",
   "execution_count": 136,
   "metadata": {
    "tags": []
   },
   "outputs": [
    {
     "output_type": "stream",
     "name": "stdout",
     "text": "0  번째 iteration\n저장된 리스트 =  [('0',), ('1',), ('1',)]\n튜플 ('0',) 를 0  로 만들어준다.\n튜플 ('1',) 를 1  로 만들어준다.\n튜플 ('1',) 를 1  로 만들어준다.\n1  번째 iteration\n저장된 리스트 =  [('0', '1'), ('0', '1'), ('1', '0'), ('1', '1'), ('1', '0'), ('1', '1')]\n튜플 ('0', '1') 를 01  로 만들어준다.\n튜플 ('0', '1') 를 01  로 만들어준다.\n튜플 ('1', '0') 를 10  로 만들어준다.\n튜플 ('1', '1') 를 11  로 만들어준다.\n튜플 ('1', '0') 를 10  로 만들어준다.\n튜플 ('1', '1') 를 11  로 만들어준다.\n2  번째 iteration\n저장된 리스트 =  [('0', '1', '1'), ('0', '1', '1'), ('1', '0', '1'), ('1', '1', '0'), ('1', '0', '1'), ('1', '1', '0')]\n튜플 ('0', '1', '1') 를 011  로 만들어준다.\n튜플 ('0', '1', '1') 를 011  로 만들어준다.\n튜플 ('1', '0', '1') 를 101  로 만들어준다.\n튜플 ('1', '1', '0') 를 110  로 만들어준다.\n튜플 ('1', '0', '1') 를 101  로 만들어준다.\n튜플 ('1', '1', '0') 를 110  로 만들어준다.\n최종 리스트: [0, 1, 101, 10, 11, 110]\n2\n0  번째 iteration\n저장된 리스트 =  [('0',), ('1',), ('1',)]\n튜플 ('0',) 를 0  로 만들어준다.\n튜플 ('1',) 를 1  로 만들어준다.\n튜플 ('1',) 를 1  로 만들어준다.\n1  번째 iteration\n저장된 리스트 =  [('0', '1'), ('0', '1'), ('1', '0'), ('1', '1'), ('1', '0'), ('1', '1')]\n튜플 ('0', '1') 를 01  로 만들어준다.\n튜플 ('0', '1') 를 01  로 만들어준다.\n튜플 ('1', '0') 를 10  로 만들어준다.\n튜플 ('1', '1') 를 11  로 만들어준다.\n튜플 ('1', '0') 를 10  로 만들어준다.\n튜플 ('1', '1') 를 11  로 만들어준다.\n2  번째 iteration\n저장된 리스트 =  [('0', '1', '1'), ('0', '1', '1'), ('1', '0', '1'), ('1', '1', '0'), ('1', '0', '1'), ('1', '1', '0')]\n튜플 ('0', '1', '1') 를 011  로 만들어준다.\n튜플 ('0', '1', '1') 를 011  로 만들어준다.\n튜플 ('1', '0', '1') 를 101  로 만들어준다.\n튜플 ('1', '1', '0') 를 110  로 만들어준다.\n튜플 ('1', '0', '1') 를 101  로 만들어준다.\n튜플 ('1', '1', '0') 를 110  로 만들어준다.\n최종 리스트: [0, 1, 101, 10, 11, 110]\n2\n"
    }
   ],
   "source": [
    "# test case\n",
    "print(solution(\"17\"))\n",
    "print(solution(\"011\"))"
   ]
  },
  {
   "cell_type": "markdown",
   "metadata": {},
   "source": [
    "### 3. 카펫 \n",
    "- 문제 : 갈색 블럭과 빨간 블럭이 예시와 같이 주어졌을 때, 카펫 전체 크기를 반환하라.  \n",
    "- input: 갈색 블럭 수 (int), 빨간 블럭 수 (int)  \n",
    "- output: 가로길이, 세로길이 (단, 가로길이 >= 세로길이) (list)"
   ]
  },
  {
   "cell_type": "code",
   "execution_count": 145,
   "metadata": {
    "tags": []
   },
   "outputs": [],
   "source": [
    "brown = 10\n",
    "red = 2\t\n",
    "# return [4, 3]\n",
    "\n",
    "def solution(brown, red) :\n",
    "    total = brown + red\n",
    "    x = ((brown + 4) + ((brown + 4) ** 2 - 16 * (total)) ** 0.5) / 4\n",
    "    y = total / x\n",
    "\n",
    "    return [max(x,y), min(x,y)]"
   ]
  },
  {
   "cell_type": "code",
   "execution_count": 146,
   "metadata": {
    "tags": []
   },
   "outputs": [
    {
     "output_type": "stream",
     "name": "stdout",
     "text": "[4.0, 3.0]\n[3.0, 3.0]\n[8.0, 6.0]\n"
    }
   ],
   "source": [
    "# test case\n",
    "print(solution(10, 2))\n",
    "print(solution(8, 1))\n",
    "print(solution(24, 24))"
   ]
  },
  {
   "cell_type": "code",
   "execution_count": null,
   "metadata": {},
   "outputs": [],
   "source": []
  }
 ],
 "metadata": {
  "language_info": {
   "codemirror_mode": {
    "name": "ipython",
    "version": 3
   },
   "file_extension": ".py",
   "mimetype": "text/x-python",
   "name": "python",
   "nbconvert_exporter": "python",
   "pygments_lexer": "ipython3",
   "version": "3.8.3-final"
  },
  "orig_nbformat": 2,
  "kernelspec": {
   "name": "programmers_izik",
   "display_name": "[programmers_izik]"
  }
 },
 "nbformat": 4,
 "nbformat_minor": 2
}
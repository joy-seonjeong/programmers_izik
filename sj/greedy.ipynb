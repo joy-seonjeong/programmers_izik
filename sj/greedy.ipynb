{
 "cells": [
  {
   "cell_type": "markdown",
   "metadata": {},
   "source": [
    "### Greedy\n",
    "- 현재 상황에서 당장 좋은 것만 고르는 방법  \n",
    "- 최적의 해를 찾기  "
   ]
  },
  {
   "cell_type": "markdown",
   "metadata": {},
   "source": [
    "### 1. 체육복 (Level = 1)\n",
    "- 문제: 앞번호/뒷번호 학생에게 체육복을 빌려주어 최대한 많은 인원이 수업을 들을 수 있도록 하는 함수 작성  \n",
    "- input: n(전체 학생), lost(도난된 배열), reserve(여분의 체육복 번호)  \n",
    "- output: 체육수업 듣는 총 학생 수"
   ]
  },
  {
   "cell_type": "code",
   "execution_count": 32,
   "metadata": {},
   "outputs": [],
   "source": [
    "n = 5\n",
    "lost = [2,4]\n",
    "reserve = [1, 3, 5]\n",
    "# return = 5"
   ]
  },
  {
   "cell_type": "code",
   "execution_count": 33,
   "metadata": {},
   "outputs": [
    {
     "output_type": "execute_result",
     "data": {
      "text/plain": "1"
     },
     "metadata": {},
     "execution_count": 33
    }
   ],
   "source": [
    "reserve[0]"
   ]
  },
  {
   "cell_type": "code",
   "execution_count": 68,
   "metadata": {
    "tags": []
   },
   "outputs": [
    {
     "output_type": "stream",
     "name": "stdout",
     "text": "1 번쨰 학생 양옆 탐색\n1 번째 학생 오른쪽 도난. 빌려주기\n[4]\n3 번쨰 학생 양옆 탐색\n3 번째 학생 오른쪽 도난. 빌려주기\n[]\n5 번쨰 학생 양옆 탐색\n체육할수 있는 행운아: 5 명\n"
    }
   ],
   "source": [
    "n = 5\n",
    "lost = [2,4]\n",
    "reserve = [1, 3, 5]\n",
    "for i in reserve:\n",
    "    print(i,'번쨰 학생 양옆 탐색')\n",
    "    if i-1 in lost:\n",
    "        print(i, '번쨰 학생 왼쪽 도난. 빌려주기')\n",
    "        lost.remove(i-1)\n",
    "        print('체육복 없는 학생', lost)\n",
    "    elif i+1 in lost:\n",
    "        print(i, '번째 학생 오른쪽 도난. 빌려주기')\n",
    "        lost.remove(i+1)\n",
    "        print(lost)\n",
    "print('체육할수 있는 행운아:', n - len(lost), '명')"
   ]
  },
  {
   "cell_type": "code",
   "execution_count": 73,
   "metadata": {
    "tags": []
   },
   "outputs": [],
   "source": [
    "# 중복 제거\n",
    "reserve = list(set(reserve)-set(lost))\n",
    "lost = list(set(lost) - set(reserve))"
   ]
  },
  {
   "cell_type": "code",
   "execution_count": 75,
   "metadata": {},
   "outputs": [],
   "source": [
    "def solution(n, lost, reserve):\n",
    "    reserve = list(set(reserve)-set(lost))\n",
    "    lost = list(set(lost) - set(reserve))\n",
    "\n",
    "    for i in reserve:\n",
    "        # print(i,'번쨰 학생 양옆 탐색')\n",
    "        if i-1 in lost:\n",
    "            # print(i, '번쨰 학생 왼쪽 도난. 빌려주기')\n",
    "            lost.remove(i-1)\n",
    "            # print('체육복 없는 학생', lost)\n",
    "        elif i+1 in lost:\n",
    "            # print(i, '번째 학생 오른쪽 도난. 빌려주기')\n",
    "            lost.remove(i+1)\n",
    "            # print(lost)\n",
    "\n",
    "    return n - len(lost)"
   ]
  },
  {
   "cell_type": "code",
   "execution_count": 78,
   "metadata": {},
   "outputs": [
    {
     "output_type": "execute_result",
     "data": {
      "text/plain": "2"
     },
     "metadata": {},
     "execution_count": 78
    }
   ],
   "source": [
    "solution(5, [2, 4], [1, 3, 5]) #5\n",
    "solution(5, [2, 4], [3]) #4\n",
    "solution(3, [3], [1]) #2"
   ]
  },
  {
   "cell_type": "code",
   "execution_count": 79,
   "metadata": {},
   "outputs": [],
   "source": [
    "def solution(n, lost, reserve):\n",
    "    set_reserve = list(set(reserve)-set(lost))\n",
    "    set_lost = list(set(lost) - set(reserve))\n",
    "    for i in set_reserve:\n",
    "        if i-1 in set_lost:\n",
    "            set_lost.remove(i-1)\n",
    "        elif i+1 in set_lost:\n",
    "            set_lost.remove(i+1)\n",
    "    return n-len(set_lost)"
   ]
  },
  {
   "cell_type": "code",
   "execution_count": 80,
   "metadata": {},
   "outputs": [],
   "source": [
    "def solution(n, lost, reserve):\n",
    "    set_reserve = list(set(reserve)-set(lost))\n",
    "    set_lost = list(set(lost) - set(reserve))\n",
    "    for i in set_reserve:\n",
    "        if i-1 in set_lost:\n",
    "            set_lost.remove(i-1)\n",
    "        elif i+1 in set_lost:\n",
    "            set_lost.remove(i+1)z\n",
    "    return n-len(set_lost)"
   ]
  },
  {
   "cell_type": "markdown",
   "metadata": {},
   "source": [
    "set 새로운 객체로 안만드니까 실패뜸"
   ]
  },
  {
   "cell_type": "markdown",
   "metadata": {},
   "source": [
    "### 2. 큰수 만들기 (Level = 2)\n",
    "- 문제: 숫자(char)와 제거할 숫자 수(k)가 주어졌을때, 만들 수 있는 수 중 가장 큰 숫자를 char 로 return"
   ]
  },
  {
   "cell_type": "code",
   "execution_count": 151,
   "metadata": {},
   "outputs": [
    {
     "output_type": "execute_result",
     "data": {
      "text/plain": "['4', '9']"
     },
     "metadata": {},
     "execution_count": 151
    }
   ],
   "source": [
    "number = \"1924\"\n",
    "k = 2\n",
    "# return \"94\"\n",
    "sorted(number)[-2:] # 작은 수 2개 뺴기\n"
   ]
  },
  {
   "cell_type": "code",
   "execution_count": 39,
   "metadata": {
    "tags": []
   },
   "outputs": [
    {
     "output_type": "stream",
     "name": "stdout",
     "text": "['1']\n['2']\n['3']\n['3', '1']\n['3', '2']\n['3', '2', '34']\n"
    }
   ],
   "source": [
    "number = \"1231234\"\n",
    "k = 3\n",
    "\n",
    "# 1\n",
    "num_list = []\n",
    "\n",
    "# i=0\n",
    "num_list.append(number[0])\n",
    "k = 3\n",
    "print(num_list) #['1']\n",
    "\n",
    "# i=1\n",
    "num_list[-1] < number[1] # True\n",
    "num_list.pop()\n",
    "num_list.append(number[1]) # ['2']\n",
    "k = 2\n",
    "print(num_list)\n",
    "\n",
    "# i=2\n",
    "num_list[-1] < number[2] # True\n",
    "num_list.pop()\n",
    "num_list.append(number[2]) # ['3']\n",
    "k = 1\n",
    "print(num_list)\n",
    "\n",
    "# i=3\n",
    "num_list[-1] < number[3] # False\n",
    "num_list.append(number[3]) # ['3', '1']\n",
    "k = 1\n",
    "print(num_list)\n",
    "\n",
    "# i=4\n",
    "num_list[-1] < number[4] # True\n",
    "num_list.pop()\n",
    "num_list.append(number[4]) # ['3', '2']\n",
    "k = 0\n",
    "print(num_list)\n",
    "\n",
    "num_list.append(number[5:])\n",
    "print(num_list)"
   ]
  },
  {
   "cell_type": "code",
   "execution_count": 50,
   "metadata": {
    "tags": []
   },
   "outputs": [
    {
     "output_type": "stream",
     "name": "stdout",
     "text": "3234\n"
    }
   ],
   "source": [
    "number = \"1231234\"\n",
    "k = 3\n",
    "num_list = []\n",
    "\n",
    "for i, num in enumerate(number):\n",
    "    while num_list and num_list[-1] < num and k > 0 :\n",
    "        num_list.pop()\n",
    "        k -=1\n",
    "    if k == 0:\n",
    "        num_list.append(number[i:])\n",
    "        break\n",
    "    num_list.append(num)\n",
    "    \n",
    "\n",
    "print(''.join(num_list))"
   ]
  },
  {
   "cell_type": "code",
   "execution_count": 51,
   "metadata": {
    "tags": []
   },
   "outputs": [],
   "source": [
    "def solution(number, k):\n",
    "    num_list = []\n",
    "    for i, num in enumerate(number):\n",
    "        while num_list and num_list[-1] < num and k > 0 :\n",
    "            num_list.pop()\n",
    "            k -=1\n",
    "        if k == 0:\n",
    "            num_list.append(number[i:])\n",
    "            break\n",
    "        num_list.append(num)\n",
    "    return ''.join(num_list)"
   ]
  },
  {
   "cell_type": "code",
   "execution_count": 54,
   "metadata": {},
   "outputs": [
    {
     "output_type": "execute_result",
     "data": {
      "text/plain": "'775841'"
     },
     "metadata": {},
     "execution_count": 54
    }
   ],
   "source": [
    "solution(\"1924\", 2) #94\n",
    "solution(\"1231234\", 3) #3234\n",
    "solution(\"4177252841\", 4) #775841"
   ]
  },
  {
   "cell_type": "code",
   "execution_count": 26,
   "metadata": {
    "tags": []
   },
   "outputs": [
    {
     "output_type": "stream",
     "name": "stdout",
     "text": "7\ndeque(['1', '2', '3', '1', '2', '3', '4'])\n['1']\n2\n"
    }
   ],
   "source": [
    "테스트 1 〉\t통과 (0.01ms, 10.2MB)\n",
    "테스트 2 〉\t통과 (0.01ms, 10.2MB)\n",
    "테스트 3 〉\t통과 (0.03ms, 10.2MB)\n",
    "테스트 4 〉\t통과 (0.05ms, 10.1MB)\n",
    "테스트 5 〉\t통과 (0.21ms, 10.1MB)\n",
    "테스트 6 〉\t통과 (3.29ms, 10.3MB)\n",
    "테스트 7 〉\t통과 (4.54ms, 10.3MB)\n",
    "테스트 8 〉\t통과 (13.35ms, 10.3MB)\n",
    "테스트 9 〉\t통과 (0.57ms, 12MB)\n",
    "테스트 10 〉\t통과 (77.18ms, 11.6MB)\n",
    "테스트 11 〉\t통과 (0.01ms, 10.2MB)\n",
    "테스트 12 〉\t실패 (0.01ms, 10.1MB) #???????/"
   ]
  },
  {
   "cell_type": "markdown",
   "metadata": {},
   "source": [
    "### 3. 섬 연결하기 (Level = 3)\n",
    "- 문제: n개의 섬을 가진 costs로 최소의 비용이 들도록 모든 섬을 통행가능하도록 연결하기  \n",
    "- input: n, costs\n",
    "- output: 최소 비용   \n",
    "\n",
    "\\[ 예시 \\]\n",
    "- 초록색 선으로 연결하는 것이 최소 비용  \n",
    "- costs\\[i]\\[0]과 costs\\[i]\\[1] (두 다리의 번호) 연결 시 costs\\[i]\\[2]의 비용이 듬  \n",
    "<img src=\"섬_연결하기.png\" alt=\"Drawing\" style=\"width: 200px;\"/>"
   ]
  },
  {
   "cell_type": "code",
   "execution_count": 58,
   "metadata": {
    "tags": []
   },
   "outputs": [
    {
     "output_type": "stream",
     "name": "stdout",
     "text": "0 섬과 1 섬을 연결하기 위해 1 의 비용이 든다.\n0 섬과 2 섬을 연결하기 위해 2 의 비용이 든다.\n"
    }
   ],
   "source": [
    "n = 4 #다리의 개수\n",
    "costs = [[0,1,1],[0,2,2],[1,2,5],[1,3,1],[2,3,8]]\n",
    "zprint(f'{costs[0][0]} 섬과 {costs[0][1]} 섬을 연결하기 위해 {costs[0][2]} 의 비용이 든다.')\n",
    "print(f'{costs[1][0]} 섬과 {costs[1][1]} 섬을 연결하기 위해 {costs[1][2]} 의 비용이 든다.')"
   ]
  },
  {
   "cell_type": "code",
   "execution_count": 35,
   "metadata": {
    "tags": []
   },
   "outputs": [
    {
     "output_type": "stream",
     "name": "stdout",
     "text": "첫번째 확인 리스트: [0, 1, 1]\n남은 리스트: [[1, 3, 1], [0, 2, 2], [1, 2, 5], [2, 3, 8]]\n방문 이력: [1, 0, 0, 0]\n다음 큐: [0, 1, 1]\n1\n두번쨰 확인 리스트: [1, 3, 1]\n남은 리스트: [[0, 2, 2], [1, 2, 5], [2, 3, 8]]\n방문 이력: [1, 1, 0, 0]\n다음 큐: [1, 3, 1]\n세번쨰 확인 리스트: [2, 3, 8]\n남은 리스트: [[0, 2, 2], [1, 2, 5]]\n방문 이력: [1, 1, 1, 0]\n다음 큐: [2, 3, 8]\n"
    }
   ],
   "source": [
    "n = 4 #다리의 개수\n",
    "costs = [[0,1,1],[0,2,2],[1,2,5],[1,3,1],[2,3,8]]\n",
    "\n",
    "total_cost = 0\n",
    "visited = [0]*n # 방문한 섬 표시하기\n",
    "q = [] # 탐색할 큐 리스트\n",
    "\n",
    "# costs[i][2] 기준 sort\n",
    "costs.sort(key=lambda x: x[2])\n",
    "costs # [[0, 1, 1], [1, 3, 1], [0, 2, 2], [1, 2, 5], [2, 3, 8]]\n",
    "visited[costs[0][0]] = 1 # 최초 방문한 섬 표시 [1,0,0,0]\n",
    "q.extend(costs[0]) # q = [0,1,1]\n",
    "print('첫번째 확인 리스트:', q)\n",
    "costs.remove(q)\n",
    "print('남은 리스트:', costs)\n",
    "print('방문 이력:', visited)\n",
    "print('다음 큐:', q)\n",
    "\n",
    "# # 0 섬 기준으로 연결된 섬 중 비용이 적은 섬으로 가잣\n",
    "total_cost += q.pop() #0->1 비용\n",
    "next_l = q.pop()\n",
    "\n",
    "if visited[next_l] == 0:\n",
    "    print('1')\n",
    "    island_list = filter(lambda c: c[0] == next_l or c[1] == next_l, costs)\n",
    "    q.pop()\n",
    "    q.extend(list(island_list)[0])\n",
    "    print('두번쨰 확인 리스트:', q)\n",
    "    costs.remove(q) \n",
    "    print('남은 리스트:', costs)\n",
    "    visited[q[0]] = 1\n",
    "    print('방문 이력:', visited)\n",
    "else :\n",
    "    q = costs[0]\n",
    "print('다음 큐:', q)\n",
    "\n",
    "\n",
    "\n",
    "\n",
    "# \n",
    "total_cost += q.pop() # 1->3 비용\n",
    "next_l = q.pop() \n",
    "\n",
    "if visited[next_l] == 0:\n",
    "    island_list = filter(lambda c: c[0] == next_l or c[1] == next_l, costs)\n",
    "    q.pop()\n",
    "    q.extend(list(island_list)[0])\n",
    "    print('세번쨰 확인 리스트:', q)\n",
    "    costs.remove(q)\n",
    "    print('남은 리스트:', costs)\n",
    "    visited[q[0]] = 1\n",
    "    print('방문 이력:', visited)\n",
    "else :\n",
    "    q = costs[0]\n",
    "print('다음 큐:', q)\n",
    "\n",
    "# visited[2]는 방문했었으므로 남은 리스트로 다시 시작\n"
   ]
  },
  {
   "cell_type": "code",
   "execution_count": 45,
   "metadata": {
    "tags": []
   },
   "outputs": [
    {
     "output_type": "stream",
     "name": "stdout",
     "text": "{0}\n{0, 1}\n{0, 1, 3}\n{0, 1, 2, 3}\n"
    },
    {
     "output_type": "execute_result",
     "data": {
      "text/plain": "4"
     },
     "metadata": {},
     "execution_count": 45
    }
   ],
   "source": [
    "n = 4 #다리의 개수\n",
    "costs = [[0,1,1],[0,2,2],[1,2,5],[1,3,1],[2,3,8]]\n",
    "\n",
    "# costs[i][2] 기준 sort\n",
    "costs.sort(key=lambda x: x[2])\n",
    "ans = 0\n",
    "routes = set([costs[0][0]]) #이동 루트\n",
    "\n",
    "while len(routes) != n:\n",
    "    print(routes)\n",
    "    for i, cost in enumerate(costs):\n",
    "        if cost[0] in routes and cost[1] in routes:\n",
    "            continue\n",
    "        if cost[0] in routes or cost[1] in routes:\n",
    "            routes.update([cost[0], cost[1]])\n",
    "            ans += cost[2]\n",
    "            break\n",
    "print(routes)\n",
    "ans"
   ]
  },
  {
   "cell_type": "code",
   "execution_count": 47,
   "metadata": {},
   "outputs": [],
   "source": [
    "def solution(n, costs):\n",
    "    # kruskal algorithm\n",
    "    ans = 0\n",
    "    costs.sort(key = lambda x: x[2]) # cost 기준으로 오름차순 정렬\n",
    "    routes = set([costs[0][0]]) # 집합\n",
    "    while len(routes)!=n:\n",
    "        for i, cost in enumerate(costs):\n",
    "            if cost[0] in routes and cost[1] in routes:\n",
    "                continue\n",
    "            if cost[0] in routes or cost[1] in routes:\n",
    "                routes.update([cost[0], cost[1]])\n",
    "                ans += cost[2]\n",
    "                costs[i] = [-1, -1, -1]\n",
    "                break\n",
    "    return ans"
   ]
  },
  {
   "cell_type": "code",
   "execution_count": 145,
   "metadata": {},
   "outputs": [
    {
     "output_type": "execute_result",
     "data": {
      "text/plain": "[[1, 3, 1], [0, 2, 2], [1, 2, 5], [2, 3, 8]]"
     },
     "metadata": {},
     "execution_count": 145
    }
   ],
   "source": [
    "cost = [[0, 1, 1], [1, 3, 1], [0, 2, 2], [1, 2, 5], [2, 3, 8]]\n",
    "cost.remove([0, 1, 1])\n",
    "cost"
   ]
  },
  {
   "cell_type": "code",
   "execution_count": null,
   "metadata": {},
   "outputs": [],
   "source": []
  }
 ],
 "metadata": {
  "language_info": {
   "codemirror_mode": {
    "name": "ipython",
    "version": 3
   },
   "file_extension": ".py",
   "mimetype": "text/x-python",
   "name": "python",
   "nbconvert_exporter": "python",
   "pygments_lexer": "ipython3",
   "version": "3.8.5-final"
  },
  "orig_nbformat": 2,
  "kernelspec": {
   "name": "programmers_izik",
   "display_name": "[programmers_izik]"
  }
 },
 "nbformat": 4,
 "nbformat_minor": 2
}
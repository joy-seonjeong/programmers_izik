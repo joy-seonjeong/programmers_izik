{
 "cells": [
  {
   "cell_type": "markdown",
   "metadata": {},
   "source": [
    "우선순위 큐: 우선순위의 개념을 큐에 도입한 자료 구조  \n",
    "데이터들이 우선순위를 가지고 있고 우선순위가 높은 데이터가 먼저 나간다  \n",
    "\n",
    "우선순위 큐의 이용 사례   \n",
    "- 시뮬레이션 시스템  \n",
    "- 네트워크 트래픽 제어  \n",
    "- 운영 체제에서의 작업 스케쥴링  \n",
    "- 수치 해석적인 계산  \n",
    "\n",
    "우선순위 큐는 배열, 연결리스트, 힙 으로 구현이 가능하다. 이 중에서 힙(heap)으로 구현하는 것이 가장 효율적이다.\n",
    "\n",
    "https://gmlwjd9405.github.io/2018/05/10/data-structure-heap.html"
   ]
  },
  {
   "cell_type": "markdown",
   "metadata": {},
   "source": [
    "힙(Heap) 이란?\n",
    ": 최댓값과 최솟값을 빠르게 찾기 위해 고안된 자료구조\n",
    "\n",
    "- 각 노드의 key값이 해당 노드의 자식노드의 key값보다 작지 않거나 크지 않은 완전 이진트리\n",
    "\n",
    "- 키 값의 대소관계는 부모-자식 노드 사이 간에만 성립하며 형제 노드 사이에는 영향을 미치지 않음\n",
    "\n",
    "- 자식노드의 최대 개수는 힙의 종류에 따라 다르지만 이진트리에서는 최대 2개 (완전이진트리를 사용한다고 가정하자.)\n",
    "\n",
    "- i번째 노드의 자식노드가 2개인데 왼쪽 자식노드는 2i, 오른쪽 자식노드는 2i+1이고, 부모노드는 i/2가 된다.\n",
    "\n",
    "* 최대 힙 (max heap)\n",
    ": 각 노드의 키 값이 그 자식노드의 키 값보다 작지 않은 힙\n",
    "\n",
    "    - key(T.parent(v)) > key(v)\n",
    "\n",
    "* 최소 힙 (min heap)\n",
    ": 각 노드의 키 값이 그 자식노드의 키 값보다 크지 않은 힙\n",
    "\n",
    "    - key(T.parent(v)) < key(v)\n",
    "\n",
    "https://hocheon.tistory.com/70"
   ]
  },
  {
   "cell_type": "code",
   "execution_count": 1,
   "metadata": {},
   "outputs": [],
   "source": [
    "import heapq"
   ]
  },
  {
   "cell_type": "code",
   "execution_count": 26,
   "metadata": {},
   "outputs": [],
   "source": [
    "# 노드 추가\n",
    "heap = [] \n",
    "heapq.heappush(heap, 1)"
   ]
  },
  {
   "cell_type": "code",
   "execution_count": 27,
   "metadata": {},
   "outputs": [
    {
     "output_type": "execute_result",
     "data": {
      "text/plain": "[1]"
     },
     "metadata": {},
     "execution_count": 27
    }
   ],
   "source": [
    "heap"
   ]
  },
  {
   "cell_type": "code",
   "execution_count": 24,
   "metadata": {},
   "outputs": [
    {
     "output_type": "execute_result",
     "data": {
      "text/plain": "1"
     },
     "metadata": {},
     "execution_count": 24
    }
   ],
   "source": [
    "# 노드 삭제\n",
    "heapq.heappop(heap)"
   ]
  },
  {
   "cell_type": "code",
   "execution_count": 32,
   "metadata": {
    "tags": []
   },
   "outputs": [
    {
     "output_type": "stream",
     "name": "stdout",
     "text": "1\n"
    },
    {
     "output_type": "execute_result",
     "data": {
      "text/plain": "[1]"
     },
     "metadata": {},
     "execution_count": 32
    }
   ],
   "source": [
    "# 최소값을 꺼내지 않고 리턴만 하려면 인덱스로 접근하기\n",
    "print(heap[0])\n",
    "heap"
   ]
  },
  {
   "cell_type": "code",
   "execution_count": 75,
   "metadata": {},
   "outputs": [
    {
     "output_type": "execute_result",
     "data": {
      "text/plain": "[3, 5, 8, 7]"
     },
     "metadata": {},
     "execution_count": 75
    }
   ],
   "source": [
    "tmp = [7, 5, 8, 3]\n",
    "heapq.heapify(tmp)\n",
    "tmp"
   ]
  },
  {
   "cell_type": "code",
   "execution_count": 44,
   "metadata": {
    "tags": []
   },
   "outputs": [],
   "source": [
    "# 최대 힙 만들기 : 우선순위가 포함된 튜플 이용하기\n",
    "nums = [4, 1, 7, 3, 8, 5]\n",
    "heap = []"
   ]
  },
  {
   "cell_type": "code",
   "execution_count": 47,
   "metadata": {
    "tags": []
   },
   "outputs": [
    {
     "output_type": "stream",
     "name": "stdout",
     "text": "8\n7\n5\n4\n3\n1\n"
    }
   ],
   "source": [
    "for num in nums:\n",
    "  heapq.heappush(heap, (-num, num)) \n",
    "while heap:\n",
    "  print(heapq.heappop(heap)[1])"
   ]
  },
  {
   "cell_type": "markdown",
   "metadata": {},
   "source": [
    "#1. 더 맵게  \n",
    "섞은 음식의 스코빌 지수 = 가장 맵지 않은 음식의 스코빌 지수 + (두 번째로 맵지 않은 음식의 스코빌 지수 * 2)\n",
    "\n"
   ]
  },
  {
   "cell_type": "code",
   "execution_count": 53,
   "metadata": {},
   "outputs": [],
   "source": [
    "import heapq"
   ]
  },
  {
   "cell_type": "code",
   "execution_count": 95,
   "metadata": {
    "tags": []
   },
   "outputs": [
    {
     "output_type": "stream",
     "name": "stdout",
     "text": "[1, 1, 1]\n1\n[1, 3]\n[7]\n7\n[7]\n"
    }
   ],
   "source": [
    "scoville = [1, 1, 1]\n",
    "K=4\n",
    "# return = 2\n",
    "\n",
    "# heap 구조로 만들어주기 (min heap)\n",
    "heapq.heapify(scoville)\n",
    "print(scoville)\n",
    "\n",
    "# 첫번째 노드와 두번째 노드 뽑아내기\n",
    "min_first = heapq.heappop(scoville)\n",
    "min_second = heapq.heappop(scoville)\n",
    "\n",
    "# K 지수 만들어서 heap 구조에 추가\n",
    "heapq.heappush(scoville, min_first + (min_second * 2))\n",
    "\n",
    "print(scoville[0]) #K 지수 확인\n",
    "print(scoville) # heap 구조 확인\n",
    "\n",
    "\n",
    "# 첫번째 노드와 두번째 노드 뽑아내기\n",
    "min_first = heapq.heappop(scoville)\n",
    "min_second = heapq.heappop(scoville)\n",
    "\n",
    "# K 지수 만들어서 heap 구조에 추가\n",
    "heapq.heappush(scoville, min_first + (min_second * 2))\n",
    "print(scoville)\n",
    "\n",
    "print(scoville[0]) #K 지수 확인\n",
    "print(scoville) # heap 구조 확인\n",
    "\n"
   ]
  },
  {
   "cell_type": "code",
   "execution_count": 96,
   "metadata": {
    "tags": []
   },
   "outputs": [
    {
     "output_type": "stream",
     "name": "stdout",
     "text": "[1, 1, 1]\nscoville 상태: \n[1, 3]\nscoville 상태: \n[7]\n-1\n"
    }
   ],
   "source": [
    "# 함수화\n",
    "scoville = [1,1,1]\t\n",
    "K=4\n",
    "# return = 2\n",
    "\n",
    "# heap 구조로 만들어주기 (min heap)\n",
    "heapq.heapify(scoville)\n",
    "print(scoville)\n",
    "answer = 0\n",
    "\n",
    "while scoville[0] < K :\n",
    "\n",
    "    min_first = heapq.heappop(scoville)\n",
    "    min_second = heapq.heappop(scoville)\n",
    "\n",
    "    # K 지수 만들어서 heap 구조에 추가\n",
    "    heapq.heappush(scoville, min_first + (min_second * 2))\n",
    "    print('scoville 상태: ')\n",
    "    print(scoville)\n",
    "\n",
    "    if len(scoville) == 1 & scoville[0] < K :\n",
    "        answer = -1\n",
    "        break\n",
    "\n",
    "    answer +=1\n",
    "\n",
    "print(answer)"
   ]
  },
  {
   "cell_type": "code",
   "execution_count": 174,
   "metadata": {},
   "outputs": [],
   "source": [
    "import heapq\n",
    "def solution(scoville, K):\n",
    "    \n",
    "    # heap 구조로 만들어주기\n",
    "    heapq.heapify(scoville)\n",
    "    answer = 0\n",
    "    \n",
    "    while scoville[0] < K :\n",
    "        if len(scoville) > 1:\n",
    "\n",
    "            # K 지수 만들어서 추가\n",
    "            heapq.heappush(scoville, heapq.heappop(scoville) + (heapq.heappop(scoville) * 2))\n",
    "            answer +=1\n",
    "            \n",
    "        else :\n",
    "            return -1\n",
    "\n",
    "    return answer"
   ]
  },
  {
   "cell_type": "code",
   "execution_count": 175,
   "metadata": {
    "tags": []
   },
   "outputs": [
    {
     "output_type": "execute_result",
     "data": {
      "text/plain": "2"
     },
     "metadata": {},
     "execution_count": 175
    }
   ],
   "source": [
    "scoville = [1, 2, 3, 9, 10, 12]\t\n",
    "K=7\n",
    "solution(scoville, K)"
   ]
  },
  {
   "cell_type": "code",
   "execution_count": 176,
   "metadata": {
    "tags": []
   },
   "outputs": [
    {
     "output_type": "execute_result",
     "data": {
      "text/plain": "2"
     },
     "metadata": {},
     "execution_count": 176
    }
   ],
   "source": [
    "scoville = [1, 1, 1]\n",
    "K=4\n",
    "solution(scoville, K)"
   ]
  },
  {
   "cell_type": "markdown",
   "metadata": {},
   "source": [
    "### 이중 우선순위 큐"
   ]
  },
  {
   "cell_type": "code",
   "execution_count": 126,
   "metadata": {},
   "outputs": [
    {
     "output_type": "execute_result",
     "data": {
      "text/plain": "'16'"
     },
     "metadata": {},
     "execution_count": 126
    }
   ],
   "source": [
    "a = \"I 16\"\n",
    "a[0]\n",
    "a[2:]"
   ]
  },
  {
   "cell_type": "code",
   "execution_count": 135,
   "metadata": {},
   "outputs": [
    {
     "output_type": "execute_result",
     "data": {
      "text/plain": "[2]"
     },
     "metadata": {},
     "execution_count": 135
    }
   ],
   "source": [
    "answer = [16, 2]\n",
    "heapq.heapify(answer)\n",
    "answer.pop(answer.index(heapq.nlargest(1, answer)[0]))\n",
    "answer"
   ]
  },
  {
   "cell_type": "code",
   "execution_count": 168,
   "metadata": {},
   "outputs": [
    {
     "output_type": "execute_result",
     "data": {
      "text/plain": "[7, 5]"
     },
     "metadata": {},
     "execution_count": 168
    }
   ],
   "source": [
    "operations = [\"I 7\",\"I 5\",\"I -5\",\"D -1\"]\n",
    "answer = []\n",
    "for oper in operations :\n",
    "    \n",
    "    nums = int(oper[2:])\n",
    "    \n",
    "    if oper[0] == 'I':\n",
    "        heapq.heappush(answer, nums)\n",
    "    if oper == 'D 1':\n",
    "        answer.pop(answer.index(heapq.nlargest(1, answer)[0]))\n",
    "    if oper == 'D -1':\n",
    "        heapq.heappop(answer)\n",
    "\n",
    "if len(answer) == 0 :\n",
    "    answer = [0,0]\n",
    "\n",
    "else :\n",
    "    answer = [heapq.nlargest(1, answer)[0], heapq.nsmallest(1, answer)[0]]\n",
    "\n",
    "answer"
   ]
  },
  {
   "cell_type": "code",
   "execution_count": 156,
   "metadata": {},
   "outputs": [],
   "source": [
    "def solution(operations):\n",
    "    answer = []\n",
    "    for oper in operations :\n",
    "        op = oper.split(' ')\n",
    "        \n",
    "        if op[0] == 'I':\n",
    "            heapq.heappush(answer, int(op[1]))\n",
    "        elif answer :\n",
    "            if op[1] == '1':\n",
    "                answer.pop(answer.index(heapq.nlargest(1, answer)[0])) # answer 에서 큰 순서대로 1개 뽑기 -> answer에서 index 찾기 -> answer에서 pop으로 제거\n",
    "            else :\n",
    "                heapq.heappop(answer)\n",
    "\n",
    "    if len(answer) == 0 :\n",
    "        return [0,0]\n",
    "\n",
    "    else :\n",
    "        answer = [heapq.nlargest(1, answer)[0], heapq.nsmallest(1, answer)[0]]\n",
    "        return answer"
   ]
  },
  {
   "cell_type": "code",
   "execution_count": 157,
   "metadata": {
    "tags": []
   },
   "outputs": [
    {
     "output_type": "stream",
     "name": "stdout",
     "text": "[7, 5]\n[0, 0]\n"
    }
   ],
   "source": [
    "print(solution([\"I 7\",\"I 5\",\"I -5\",\"D -1\"]))\n",
    "print(solution([\"I 16\",\"D 1\"]))"
   ]
  },
  {
   "cell_type": "markdown",
   "metadata": {},
   "source": [
    "### 디스크 컨트롤러"
   ]
  },
  {
   "cell_type": "code",
   "execution_count": 235,
   "metadata": {
    "tags": []
   },
   "outputs": [
    {
     "output_type": "stream",
     "name": "stdout",
     "text": "현재 시간: 3\n남은 작업: [[1, 9], [2, 6]]\n요청부터 작업시간까지 걸린 시간: 3\n"
    }
   ],
   "source": [
    "jobs = [[0, 3], [1, 9], [2, 6]]\n",
    "#return = 9\n",
    "heapq.heapify(jobs)\n",
    "\n",
    "# 1. 가장 먼저 있는 작업 처리\n",
    "t = jobs.pop(0)\n",
    "time = jobs[0][1]\n",
    "runtime = t[1]\n",
    "print(\"현재 시간:\", t[1]) # 현재 시간\n",
    "print(\"남은 작업:\", jobs) # 남은 작업\n",
    "print(\"요청부터 작업시간까지 걸린 시간:\", runtime)\n",
    "\n",
    "# 2. 지금까지 들어온 작업 중 소요시간 작은 작업 먼저 처리\n",
    "t = "
   ]
  },
  {
   "cell_type": "code",
   "execution_count": null,
   "metadata": {},
   "outputs": [],
   "source": []
  }
 ],
 "metadata": {
  "language_info": {
   "codemirror_mode": {
    "name": "ipython",
    "version": 3
   },
   "file_extension": ".py",
   "mimetype": "text/x-python",
   "name": "python",
   "nbconvert_exporter": "python",
   "pygments_lexer": "ipython3",
   "version": 3
  },
  "orig_nbformat": 2,
  "kernelspec": {
   "name": "python_defaultSpec_1610634138691",
   "display_name": "Python 3.8.5 64-bit ('programmers_izik': conda)"
  }
 },
 "nbformat": 4,
 "nbformat_minor": 2
}
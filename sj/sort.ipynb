{
 "cells": [
  {
   "cell_type": "markdown",
   "metadata": {},
   "source": [
    "### 1. K 번째수"
   ]
  },
  {
   "cell_type": "code",
   "execution_count": 2,
   "metadata": {},
   "outputs": [],
   "source": [
    "array = [1, 5, 2, 6, 3, 7, 4]\n",
    "commands = [[2, 5, 3], [4, 4, 1], [1, 7, 3]]\n",
    "_return = [5, 6, 3]"
   ]
  },
  {
   "cell_type": "code",
   "execution_count": 26,
   "metadata": {
    "tags": []
   },
   "outputs": [
    {
     "output_type": "stream",
     "name": "stdout",
     "text": "[5, 2, 6, 3]\n"
    },
    {
     "output_type": "execute_result",
     "data": {
      "text/plain": "5"
     },
     "metadata": {},
     "execution_count": 26
    }
   ],
   "source": [
    "# test\n",
    "_commands = commands[0]\n",
    "a = _commands[0]\n",
    "b = _commands[1]\n",
    "c = _commands[2]\n",
    "_array = array[a-1:b]\n",
    "print(_array)\n",
    "_array.sort()\n",
    "_array[c-1]"
   ]
  },
  {
   "cell_type": "code",
   "execution_count": 28,
   "metadata": {
    "tags": []
   },
   "outputs": [],
   "source": [
    "answer = []\n",
    "for a, b, c in commands :\n",
    "    _array = array[a-1:b]\n",
    "    _array.sort()\n",
    "    answer.append(_array[c-1])"
   ]
  },
  {
   "cell_type": "code",
   "execution_count": 29,
   "metadata": {},
   "outputs": [
    {
     "output_type": "execute_result",
     "data": {
      "text/plain": "[5, 6, 3]"
     },
     "metadata": {},
     "execution_count": 29
    }
   ],
   "source": [
    "answer"
   ]
  },
  {
   "cell_type": "code",
   "execution_count": 30,
   "metadata": {},
   "outputs": [],
   "source": [
    "# solution\n",
    "def solution(array, commands):\n",
    "    answer = []\n",
    "    for a, b, c in commands :\n",
    "        _array = array[a-1:b]\n",
    "        _array.sort()\n",
    "        answer.append(_array[c-1])\n",
    "    return answer"
   ]
  },
  {
   "cell_type": "code",
   "execution_count": 31,
   "metadata": {},
   "outputs": [
    {
     "output_type": "execute_result",
     "data": {
      "text/plain": "[5, 6, 3]"
     },
     "metadata": {},
     "execution_count": 31
    }
   ],
   "source": [
    "#test\n",
    "solution([1, 5, 2, 6, 3, 7, 4], [[2, 5, 3], [4, 4, 1], [1, 7, 3]])"
   ]
  },
  {
   "cell_type": "code",
   "execution_count": 32,
   "metadata": {},
   "outputs": [],
   "source": [
    "# 1,026 점\n",
    "# 테스트 1 〉\t통과 (0.00ms, 10.2MB)\n",
    "# 테스트 2 〉\t통과 (0.01ms, 10.1MB)\n",
    "# 테스트 3 〉\t통과 (0.00ms, 10.2MB)\n",
    "# 테스트 4 〉\t통과 (0.00ms, 10.2MB)\n",
    "# 테스트 5 〉\t통과 (0.00ms, 10.3MB)\n",
    "# 테스트 6 〉\t통과 (0.00ms, 10.2MB)\n",
    "# 테스트 7 〉\t통과 (0.01ms, 10.2MB)"
   ]
  },
  {
   "cell_type": "markdown",
   "metadata": {},
   "source": [
    "### 2. 가장 큰 수"
   ]
  },
  {
   "cell_type": "code",
   "execution_count": 57,
   "metadata": {},
   "outputs": [
    {
     "output_type": "execute_result",
     "data": {
      "text/plain": "'6210'"
     },
     "metadata": {},
     "execution_count": 57
    }
   ],
   "source": [
    "numbers = [6, 10, 2]\n",
    "# return = 6210\n",
    "numbers = list(map(str,numbers))\n",
    "numbers.sort(reverse = True)\n",
    "numbers\n",
    "''.join(numbers)"
   ]
  },
  {
   "cell_type": "code",
   "execution_count": 58,
   "metadata": {},
   "outputs": [],
   "source": [
    "def solution(numbers):\n",
    "    numbers = list(map(str,numbers))\n",
    "    numbers.sort(reverse = True)\n",
    "    answer = ''.join(numbers)\n",
    "    return answer"
   ]
  },
  {
   "cell_type": "code",
   "execution_count": 60,
   "metadata": {},
   "outputs": [
    {
     "output_type": "execute_result",
     "data": {
      "text/plain": "'9534303'"
     },
     "metadata": {},
     "execution_count": 60
    }
   ],
   "source": [
    "# test\n",
    "solution([6, 10, 2])\n",
    "solution([3, 30, 34, 5, 9]) #실패"
   ]
  },
  {
   "cell_type": "code",
   "execution_count": 66,
   "metadata": {},
   "outputs": [
    {
     "output_type": "execute_result",
     "data": {
      "text/plain": "['9', '5', '34', '30', '3']"
     },
     "metadata": {},
     "execution_count": 66
    }
   ],
   "source": [
    "numbers = [3, 30, 34, 5, 9]\n",
    "# return = 6210\n",
    "numbers = list(map(str,numbers))\n",
    "numbers.sort(reverse = True)\n",
    "numbers\n",
    "# ''.join(numbers)"
   ]
  },
  {
   "cell_type": "code",
   "execution_count": 108,
   "metadata": {
    "tags": []
   },
   "outputs": [
    {
     "output_type": "stream",
     "name": "stdout",
     "text": "3\n[[0, 1, '333'], [1, 3, '300'], [2, 2, '343'], [3, 1, '555'], [4, 1, '999']]\n['9']\n['9', '5']\n['9', '5', '34']\n['9', '5', '34', '3']\n['9', '5', '34', '3', '300']\n"
    },
    {
     "output_type": "execute_result",
     "data": {
      "text/plain": "'95343300'"
     },
     "metadata": {},
     "execution_count": 108
    }
   ],
   "source": [
    "numbers = [3, 300, 34, 5, 9]\n",
    "# return = 6210\n",
    "numbers = list(map(str,numbers))\n",
    "max_len = max(list(map(len, numbers)))\n",
    "print(max_len)\n",
    "new_numbers = [[i,len(v),(v*4)[:max_len]] for i, v in enumerate(numbers)]\n",
    "print(new_numbers)\n",
    "new_numbers.sort(key=lambda x: x[2], reverse = True)\n",
    "sorted_numbers = []\n",
    "for a, b, c in new_numbers:\n",
    "    sorted_numbers.append(c[:b])\n",
    "    print(sorted_numbers)\n",
    "''.join(sorted_numbers)"
   ]
  },
  {
   "cell_type": "code",
   "execution_count": 131,
   "metadata": {},
   "outputs": [],
   "source": [
    "def solution(numbers):\n",
    "    numbers = list(map(str,numbers)) #integer 순서로 sort 되지 않기 위해 string으로 변환\n",
    "    max_len = max(list(map(len, numbers))) #각 요소의 최대 자릿수\n",
    "    _numbers = [[len(v),(v*4)[:max_len]] for v in numbers] # 최대 자릿수 기준으로 string 반복\n",
    "    _numbers.sort(key=lambda x: x[1], reverse = True) # 정렬\n",
    "\n",
    "    # 정렬 완료된 결과 저장\n",
    "    sorted_numbers = []\n",
    "    for a, b in _numbers:\n",
    "        sorted_numbers.append(b[:a]) #원래 자릿수로 원복\n",
    "\n",
    "    answer = ''.join(sorted_numbers)\n",
    "    return answer"
   ]
  },
  {
   "cell_type": "code",
   "execution_count": 133,
   "metadata": {
    "tags": []
   },
   "outputs": [
    {
     "output_type": "stream",
     "name": "stdout",
     "text": "6210\n9534330\n"
    }
   ],
   "source": [
    "# test\n",
    "print(solution([6, 10, 2]))\n",
    "print(solution([3, 30, 34, 5, 9]))"
   ]
  },
  {
   "cell_type": "code",
   "execution_count": 134,
   "metadata": {},
   "outputs": [],
   "source": [
    "# 테스트 1 〉\t통과 (92.20ms, 33.1MB)\n",
    "# 테스트 2 〉\t통과 (44.32ms, 22.5MB)\n",
    "# 테스트 3 〉\t통과 (134.86ms, 40.2MB)\n",
    "# 테스트 4 〉\t통과 (2.19ms, 10.7MB)\n",
    "# 테스트 5 〉\t통과 (79.77ms, 30.4MB)\n",
    "# 테스트 6 〉\t통과 (61.22ms, 27.9MB)\n",
    "# 테스트 7 〉\t통과 (0.03ms, 10.2MB)\n",
    "# 테스트 8 〉\t통과 (0.02ms, 10.3MB)\n",
    "# 테스트 9 〉\t통과 (0.03ms, 10.1MB)\n",
    "# 테스트 10 〉\t통과 (0.02ms, 10.2MB)\n",
    "# 테스트 11 〉\t실패 (0.05ms, 10.2MB)"
   ]
  },
  {
   "cell_type": "code",
   "execution_count": 135,
   "metadata": {},
   "outputs": [
    {
     "output_type": "execute_result",
     "data": {
      "text/plain": "'00000'"
     },
     "metadata": {},
     "execution_count": 135
    }
   ],
   "source": [
    "solution([0, 0, 0, 0, 0])"
   ]
  },
  {
   "cell_type": "code",
   "execution_count": 138,
   "metadata": {},
   "outputs": [],
   "source": [
    "def solution(numbers):\n",
    "    numbers = list(map(str,numbers)) #integer 순서로 sort 되지 않기 위해 string으로 변환\n",
    "    max_len = max(list(map(len, numbers))) #각 요소의 최대 자릿수\n",
    "    _numbers = [[len(v),(v*4)[:max_len]] for v in numbers] # 최대 자릿수 기준으로 string 반복\n",
    "    _numbers.sort(key=lambda x: x[1], reverse = True) # 정렬\n",
    "\n",
    "    # 정렬 완료된 결과 저장\n",
    "    sorted_numbers = []\n",
    "    for a, b in _numbers:\n",
    "        sorted_numbers.append(b[:a]) #원래 자릿수로 원복\n",
    "\n",
    "    answer = ''.join(sorted_numbers)\n",
    "    if int(answer) == 0 :\n",
    "        answer = '0' # 이거 integer로 하면 실패함\n",
    "    return answer"
   ]
  },
  {
   "cell_type": "code",
   "execution_count": 139,
   "metadata": {},
   "outputs": [
    {
     "output_type": "execute_result",
     "data": {
      "text/plain": "0"
     },
     "metadata": {},
     "execution_count": 139
    }
   ],
   "source": [
    "solution([0, 0, 0, 0, 0])"
   ]
  },
  {
   "cell_type": "code",
   "execution_count": 140,
   "metadata": {},
   "outputs": [],
   "source": [
    "# 1039점\n",
    "# 테스트 1 〉\t통과 (287.42ms, 33.2MB)\n",
    "# 테스트 2 〉\t통과 (96.14ms, 22.5MB)\n",
    "# 테스트 3 〉\t통과 (485.73ms, 40.7MB)\n",
    "# 테스트 4 〉\t통과 (2.42ms, 10.8MB)\n",
    "# 테스트 5 〉\t통과 (218.03ms, 30.7MB)\n",
    "# 테스트 6 〉\t통과 (185.82ms, 27.9MB)\n",
    "# 테스트 7 〉\t통과 (0.05ms, 10.4MB)\n",
    "# 테스트 8 〉\t통과 (0.04ms, 10.4MB)\n",
    "# 테스트 9 〉\t통과 (0.04ms, 10.4MB)\n",
    "# 테스트 10 〉\t통과 (0.04ms, 10.3MB)\n",
    "# 테스트 11 〉\t통과 (0.07ms, 10.4MB)"
   ]
  },
  {
   "cell_type": "markdown",
   "metadata": {},
   "source": [
    "### 3. H-index"
   ]
  },
  {
   "cell_type": "code",
   "execution_count": 150,
   "metadata": {},
   "outputs": [
    {
     "output_type": "execute_result",
     "data": {
      "text/plain": "1"
     },
     "metadata": {},
     "execution_count": 150
    }
   ],
   "source": [
    "citations = [3, 0, 6, 1, 5]\n",
    "# return = 3\n",
    "\n",
    "citations = [1, 1 , 12]\n",
    "# h = 1 -> _h = 3 (=h편 이상)\n",
    "# h = 2 -> _h = 1 (!= h편 이상)\n",
    "# h = 3 -> _h = 1 (!= h편 이상)"
   ]
  },
  {
   "cell_type": "code",
   "execution_count": 180,
   "metadata": {
    "tags": []
   },
   "outputs": [],
   "source": [
    "for h in range(max(citations),0, -1) :\n",
    "    def condition(x):\n",
    "        return x >= h\n",
    "    n = sum(condition(x) for x in citations)\n",
    "    if h <= n :\n",
    "        answer = h\n",
    "        break\n",
    "    else :\n",
    "        answer = 0"
   ]
  },
  {
   "cell_type": "code",
   "execution_count": 200,
   "metadata": {},
   "outputs": [],
   "source": [
    "def solution(citations):\n",
    "\n",
    "    for h in range(max(citations),0, -1) :\n",
    "        answer = 0\n",
    "        def condition(x):\n",
    "            return x >= h\n",
    "        n = sum(condition(x) for x in citations) #h편 이상 인용된 논문 수\n",
    "        if h <= n :\n",
    "            answer = h\n",
    "            break\n",
    "\n",
    "    return answer\n"
   ]
  },
  {
   "cell_type": "code",
   "execution_count": 201,
   "metadata": {
    "tags": []
   },
   "outputs": [
    {
     "output_type": "stream",
     "name": "stdout",
     "text": "3\n"
    }
   ],
   "source": [
    "# test\n",
    "print(solution([3, 0, 6, 1, 5]))"
   ]
  },
  {
   "cell_type": "code",
   "execution_count": 190,
   "metadata": {
    "tags": []
   },
   "outputs": [
    {
     "output_type": "stream",
     "name": "stdout",
     "text": "3\n1\n4\n4\n"
    }
   ],
   "source": [
    "#test\n",
    "print(solution([3, 0, 6, 1, 5]))\n",
    "print(solution([1, 1 , 12]))\n",
    "print(solution([0, 6, 6, 4, 5])) #4\n",
    "print(solution([5, 5, 5, 5])) #4\n"
   ]
  },
  {
   "cell_type": "code",
   "execution_count": 228,
   "metadata": {},
   "outputs": [],
   "source": [
    "def solution(citations):\n",
    "\n",
    "    for h in range(max(citations),0, -1) :\n",
    "        n = [1 for _ in citations if _ >= h]\n",
    "        if h <= len(n) :\n",
    "            answer = h\n",
    "            break\n",
    "        else :\n",
    "            answer = 0\n",
    "        \n",
    "    return answer\n"
   ]
  },
  {
   "cell_type": "code",
   "execution_count": 229,
   "metadata": {
    "tags": []
   },
   "outputs": [
    {
     "output_type": "stream",
     "name": "stdout",
     "text": "4\n"
    }
   ],
   "source": [
    "# test\n",
    "print(solution([5, 5, 5, 5]))"
   ]
  },
  {
   "cell_type": "code",
   "execution_count": null,
   "metadata": {},
   "outputs": [],
   "source": []
  },
  {
   "cell_type": "code",
   "execution_count": 191,
   "metadata": {},
   "outputs": [],
   "source": [
    "# 테스트 1 〉\t통과 (482.44ms, 10.3MB)\n",
    "# 테스트 2 〉\t통과 (684.64ms, 10.2MB)\n",
    "# 테스트 3 〉\t통과 (678.29ms, 10.2MB)\n",
    "# 테스트 4 〉\t통과 (544.79ms, 10.4MB)\n",
    "# 테스트 5 〉\t통과 (676.00ms, 10.3MB)\n",
    "# 테스트 6 〉\t통과 (837.58ms, 10.2MB)\n",
    "# 테스트 7 〉\t통과 (307.23ms, 10.2MB)\n",
    "# 테스트 8 〉\t통과 (63.46ms, 10.2MB)\n",
    "# 테스트 9 〉\t통과 (118.40ms, 10.2MB)\n",
    "# 테스트 10 〉\t통과 (356.63ms, 10.2MB)\n",
    "# 테스트 11 〉\t통과 (901.63ms, 10.2MB)\n",
    "# 테스트 12 〉\t통과 (167.36ms, 10.2MB)\n",
    "# 테스트 13 〉\t통과 (747.86ms, 10.2MB)\n",
    "# 테스트 14 〉\t통과 (767.34ms, 10.2MB)\n",
    "# 테스트 15 〉\t통과 (760.03ms, 10.2MB)\n",
    "# 테스트 16 〉\t실패 (런타임 에러)"
   ]
  }
 ],
 "metadata": {
  "language_info": {
   "codemirror_mode": {
    "name": "ipython",
    "version": 3
   },
   "file_extension": ".py",
   "mimetype": "text/x-python",
   "name": "python",
   "nbconvert_exporter": "python",
   "pygments_lexer": "ipython3",
   "version": 3
  },
  "orig_nbformat": 2,
  "kernelspec": {
   "name": "python_defaultSpec_1608175141234",
   "display_name": "Python 3.8.5 64-bit ('programmers_izik': conda)"
  }
 },
 "nbformat": 4,
 "nbformat_minor": 2
}
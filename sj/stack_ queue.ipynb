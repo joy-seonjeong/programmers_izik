{
 "cells": [
  {
   "cell_type": "markdown",
   "metadata": {},
   "source": [
    "#### Stack & Queue\n",
    "2020-11-31"
   ]
  },
  {
   "cell_type": "code",
   "execution_count": 3,
   "metadata": {
    "tags": []
   },
   "outputs": [
    {
     "output_type": "stream",
     "name": "stdout",
     "text": "[1, 2, 3]\n3\n2\n1\n"
    }
   ],
   "source": [
    "# stack: 마지막에 들어간 것부터 뽑아내기\n",
    "stack = []\n",
    "stack.append(1)\n",
    "stack.append(2)\n",
    "stack.append(3)\n",
    "print(stack)\n",
    "\n",
    "print(stack.pop())\n",
    "print(stack.pop())\n",
    "print(stack.pop()\n",
    ")"
   ]
  },
  {
   "cell_type": "code",
   "execution_count": 58,
   "metadata": {
    "tags": []
   },
   "outputs": [
    {
     "output_type": "stream",
     "name": "stdout",
     "text": "[1, 2, 3]\n1\n2\n3\n"
    }
   ],
   "source": [
    "# Queue : 들어간 순서대로 나오기\n",
    "queue = []\n",
    "queue.append(1)\n",
    "queue.append(2)\n",
    "queue.append(3)\n",
    "print(queue)\n",
    "\n",
    "print(queue.pop(0))\n",
    "print(queue.pop(0))\n",
    "print(queue.pop(0))"
   ]
  },
  {
   "cell_type": "code",
   "execution_count": 64,
   "metadata": {
    "tags": []
   },
   "outputs": [
    {
     "output_type": "stream",
     "name": "stdout",
     "text": "deque([1, 2])\n1\n2\n"
    }
   ],
   "source": [
    "# queue는 오래 걸려서 아래의 방법으로 사용\n",
    "from collections import deque\n",
    "queue = deque()\n",
    "queue.append(1)\n",
    "queue.append(2)\n",
    "print(queue)\n",
    "\n",
    "print(queue.popleft())\n",
    "print(queue.popleft())"
   ]
  },
  {
   "cell_type": "markdown",
   "metadata": {},
   "source": [
    "### 1. 주식 가격\n",
    "\n",
    "prices = [1, 2, 3, 2, 3]  \n",
    "answer = [4, 3, 1, 1, 0]"
   ]
  },
  {
   "cell_type": "code",
   "execution_count": 245,
   "metadata": {},
   "outputs": [
    {
     "output_type": "execute_result",
     "data": {
      "text/plain": "5"
     },
     "metadata": {},
     "execution_count": 245
    }
   ],
   "source": [
    "prices = [1, 2, 3, 2, 3]\n",
    "len(prices)"
   ]
  },
  {
   "cell_type": "code",
   "execution_count": 251,
   "metadata": {},
   "outputs": [],
   "source": [
    "def solution(prices):\n",
    "    answer = [0] * len(prices)\n",
    "    for i in range(1, len(prices)):\n",
    "        now = prices[i-1]\n",
    "        sec = 0\n",
    "        for j in range(i, len(prices)):\n",
    "            next = prices[j]\n",
    "            sec += 1\n",
    "            if now > next:\n",
    "                break\n",
    "        answer[i-1] = sec\n",
    "    return answer"
   ]
  },
  {
   "cell_type": "code",
   "execution_count": 254,
   "metadata": {},
   "outputs": [
    {
     "output_type": "execute_result",
     "data": {
      "text/plain": "[4, 3, 1, 1, 0]"
     },
     "metadata": {},
     "execution_count": 254
    }
   ],
   "source": [
    "prices = [1, 2, 3, 2, 3]\n",
    "solution(prices)"
   ]
  },
  {
   "cell_type": "markdown",
   "metadata": {},
   "source": [
    "stack 활용해서 해보기"
   ]
  },
  {
   "cell_type": "code",
   "execution_count": 280,
   "metadata": {
    "tags": []
   },
   "outputs": [
    {
     "output_type": "stream",
     "name": "stdout",
     "text": "[]\n첫번째\n[2]\n[3, 2, 3]\n두번째\n[2, 3]\n[2, 3]\n"
    }
   ],
   "source": [
    "prices = [1, 2, 3, 2, 3]\n",
    "time_stack = []\n",
    "now = prices.pop(0)\n",
    "print(time_stack)\n",
    "\n",
    "next = prices[0]\n",
    "if now < next :\n",
    "    time_stack.append(prices.pop(0))\n",
    "print('첫번째')\n",
    "print(time_stack)\n",
    "print(prices)\n",
    "\n",
    "next = prices[0]\n",
    "if now < next :\n",
    "    time_stack.append(prices.pop(0))\n",
    "print('두번째')\n",
    "print(time_stack)\n",
    "print(prices)"
   ]
  },
  {
   "cell_type": "code",
   "execution_count": 1,
   "metadata": {
    "tags": []
   },
   "outputs": [
    {
     "output_type": "error",
     "ename": "SyntaxError",
     "evalue": "invalid syntax (<ipython-input-1-d4e864bfc871>, line 15)",
     "traceback": [
      "\u001b[0;36m  File \u001b[0;32m\"<ipython-input-1-d4e864bfc871>\"\u001b[0;36m, line \u001b[0;32m15\u001b[0m\n\u001b[0;31m    prices =\u001b[0m\n\u001b[0m             ^\u001b[0m\n\u001b[0;31mSyntaxError\u001b[0m\u001b[0;31m:\u001b[0m invalid syntax\n"
     ]
    }
   ],
   "source": [
    "prices = [1, 2, 3, 2, 3]\n",
    "answer = []\n",
    "\n",
    "for i in range(0,5):\n",
    "    now = prices[0]\n",
    "    prices.pop(0)\n",
    "    time_stack = []\n",
    "    while prices :\n",
    "        next = prices[0]\n",
    "        if now <= next :\n",
    "            time_stack.append(prices.pop(0))\n",
    "            prices = time_stack\n",
    "        else :\n",
    "            break\n",
    "            prices = \n",
    "    answer.append(len(time_stack))\n",
    "\n",
    "    print(prices)"
   ]
  },
  {
   "cell_type": "markdown",
   "metadata": {},
   "source": [
    "### 2. 기능 개발  \n",
    "progresses: [93, 30, 55]  \n",
    "speeds: [1, 30, 5]  \n",
    "return: [2, 1]  "
   ]
  },
  {
   "cell_type": "code",
   "execution_count": 95,
   "metadata": {},
   "outputs": [],
   "source": [
    "progresses=[93, 30, 55]  \n",
    "speeds=[1, 30, 5]"
   ]
  },
  {
   "cell_type": "code",
   "execution_count": 169,
   "metadata": {
    "tags": []
   },
   "outputs": [
    {
     "output_type": "stream",
     "name": "stdout",
     "text": "7\n3\n9\n"
    }
   ],
   "source": [
    "# 개발 일정 계산\n",
    "import math\n",
    "print(math.ceil(((100-93)/1)))\n",
    "print(math.ceil(((100-30)/30)))\n",
    "print(math.ceil(((100-55)/5)))"
   ]
  },
  {
   "cell_type": "code",
   "execution_count": 178,
   "metadata": {
    "tags": []
   },
   "outputs": [
    {
     "output_type": "stream",
     "name": "stdout",
     "text": "[7, 3, 9]\n"
    }
   ],
   "source": [
    "# 각 개발 일정\n",
    "day = [0] * len(progresses)\n",
    "for i in range(len(progresses)):\n",
    "    day[i-1] = math.ceil(((100-progresses[i-1])/speeds[i-1]))\n",
    "print(day)"
   ]
  },
  {
   "cell_type": "code",
   "execution_count": 179,
   "metadata": {
    "tags": []
   },
   "outputs": [
    {
     "output_type": "stream",
     "name": "stdout",
     "text": "[7]\n[3, 9]\n"
    }
   ],
   "source": [
    "stack = []\n",
    "answer = []\n",
    "stack.append(day.pop(0))\n",
    "print(stack)\n",
    "print(day)"
   ]
  },
  {
   "cell_type": "code",
   "execution_count": 180,
   "metadata": {
    "tags": []
   },
   "outputs": [
    {
     "output_type": "stream",
     "name": "stdout",
     "text": "[2, 1]\n"
    }
   ],
   "source": [
    "while day :\n",
    "    now = day.pop(0)\n",
    "    if stack[0] >= now:\n",
    "        stack.append(now)\n",
    "    else:\n",
    "        answer.append(len(stack))\n",
    "        stack = [now]\n",
    "    if not day:\n",
    "        answer.append(len(stack))\n",
    "print(answer)"
   ]
  },
  {
   "cell_type": "code",
   "execution_count": 188,
   "metadata": {},
   "outputs": [],
   "source": [
    "def solution(progresses, speeds):\n",
    "    \n",
    "    day = [0] * len(progresses)\n",
    "    for i in range(len(progresses)):\n",
    "        day[i-1] = math.ceil(((100-progresses[i-1])/speeds[i-1]))\n",
    "\n",
    "    stack = []\n",
    "    answer = []\n",
    "    stack.append(day.pop(0))\n",
    "\n",
    "    while day :\n",
    "        now = day.pop(0)\n",
    "        if stack[0] >= now:\n",
    "            stack.append(now)\n",
    "        else:\n",
    "            answer.append(len(stack))\n",
    "            stack = [now]\n",
    "        if not day:\n",
    "            answer.append(len(stack))\n",
    "\n",
    "    return answer\n"
   ]
  },
  {
   "cell_type": "code",
   "execution_count": 190,
   "metadata": {
    "tags": []
   },
   "outputs": [
    {
     "output_type": "stream",
     "name": "stdout",
     "text": "return: \n"
    },
    {
     "output_type": "execute_result",
     "data": {
      "text/plain": "[2, 1]"
     },
     "metadata": {},
     "execution_count": 190
    }
   ],
   "source": [
    "print('return: ')\n",
    "solution(progresses, speeds)"
   ]
  },
  {
   "cell_type": "markdown",
   "metadata": {},
   "source": [
    "### 3. 다리를 지나는 트럭  \n",
    "2020-12-07"
   ]
  },
  {
   "cell_type": "code",
   "execution_count": 24,
   "metadata": {
    "tags": []
   },
   "outputs": [],
   "source": [
    "bridge_length = 2\n",
    "weight = 10\n",
    "truck_weights = [7,4,5,6]\n",
    "#return = 8"
   ]
  },
  {
   "cell_type": "code",
   "execution_count": 25,
   "metadata": {
    "tags": []
   },
   "outputs": [
    {
     "output_type": "stream",
     "name": "stdout",
     "text": "# 1: [[0, 0], [1, 0]]\n# 2: [[0], [1, 0]]\n# 3: [[0, 0], [1, 0]]\n# next truck:  7\n# 다리 위의 무게:  7\n# 4: [[0, 7], [1, 0]]\n# 남은 트럭:  [4, 5, 6]\n"
    }
   ],
   "source": [
    "sec = 0\n",
    "bridge = [[i,0] for i in range(bridge_length)]\n",
    "\n",
    "print('# 1:', bridge)\n",
    "bridge[0].pop()\n",
    "print('# 2:', bridge)\n",
    "bridge[0].append(0)\n",
    "print('# 3:', bridge)\n",
    "\n",
    "next_truck = truck_weights[0]\n",
    "print('# next truck: ', next_truck )\n",
    "\n",
    "print('# 다리 위의 무게: ', bridge[0][1] + bridge[1][1] + next_truck)\n",
    "bridge[0][1] = truck_weights.pop(0)\n",
    "print('# 4:', bridge)\n",
    "print('# 남은 트럭: ', truck_weights)"
   ]
  },
  {
   "cell_type": "code",
   "execution_count": 122,
   "metadata": {},
   "outputs": [],
   "source": [
    "def solution(bridge_length, weight, truck_weights):\n",
    "    sec = 0\n",
    "    bridge = [[i,0] for i in range(bridge_length)]\n",
    "\n",
    "    while truck_weights:\n",
    "\n",
    "        sec += 1\n",
    "        bridge[1][1] = bridge[0].pop()\n",
    "        bridge[0].append(0)\n",
    "\n",
    "        next_truck = truck_weights[0]\n",
    "\n",
    "        if bridge[0][1] + bridge[1][1] + next_truck < weight :\n",
    "            bridge[0][1] = truck_weights.pop(0)\n",
    "        \n",
    "        if not truck_weights :\n",
    "            sec += bridge_length\n",
    "\n",
    "    return sec"
   ]
  },
  {
   "cell_type": "code",
   "execution_count": 226,
   "metadata": {
    "tags": []
   },
   "outputs": [
    {
     "output_type": "stream",
     "name": "stdout",
     "text": "8\n101\n110\n"
    }
   ],
   "source": [
    "print(solution(2, 10, [7,4,5,6]))\n",
    "print(solution(100,100,[10]))\n",
    "print(solution(100,100,[10,10,10,10,10,10,10,10,10,10]))"
   ]
  },
  {
   "cell_type": "code",
   "execution_count": 142,
   "metadata": {
    "tags": []
   },
   "outputs": [
    {
     "output_type": "stream",
     "name": "stdout",
     "text": "[[0, 0], [1, 0], [2, 0]]\n[[0, 0], [1, 0], [2, 0]]\n[[0, 0], [1, 0], [2, 0]]\n"
    }
   ],
   "source": [
    "# print(solution(3, 1, [1, 1, 1]))\n",
    "truck_weights = [1, 1, 1]\n",
    "sec = 0\n",
    "bridge = [[i,0] for i in range(3)]\n",
    "print(bridge)\n",
    "\n",
    "sec = 1\n",
    "bridge[1][1] = bridge[0].pop()\n",
    "\n",
    "bridge[0].append(0)\n",
    "print(bridge)\n",
    "\n",
    "next_truck = truck_weights[0]\n",
    "next_truck\n",
    "\n",
    "if bridge[0][1] + bridge[1][1] + next_truck < 1 :\n",
    "    bridge[0][1] = truck_weights.pop(0)\n",
    "\n",
    "if not truck_weights :\n",
    "    sec += bridge_length\n",
    "\n",
    "sec = 2\n",
    "bridge[1][1] = bridge[0].pop()\n",
    "\n",
    "bridge[0].append(0)\n",
    "\n",
    "next_truck = truck_weights[0]\n",
    "\n",
    "if bridge[0][1] + bridge[1][1] + next_truck < 1 :\n",
    "    bridge[0][1] = truck_weights.pop(0)\n",
    "\n",
    "if not truck_weights :\n",
    "    sec += bridge_length\n",
    "\n",
    "print(bridge)\n",
    "# while truck_weights:\n",
    "\n",
    "#     sec += 1\n",
    "#     bridge[1][1] = bridge[0].pop()\n",
    "#     bridge[0].append(0)\n",
    "\n",
    "#     next_truck = truck_weights[0]\n",
    "\n",
    "#     if bridge[0][1] + bridge[1][1] + next_truck < weight :\n",
    "#         bridge[0][1] = truck_weights.pop(0)\n",
    "    \n",
    "#     if not truck_weights :\n",
    "#         sec += bridge_length"
   ]
  },
  {
   "cell_type": "markdown",
   "metadata": {},
   "source": [
    "### 4. 프린터  "
   ]
  },
  {
   "cell_type": "code",
   "execution_count": 26,
   "metadata": {
    "tags": []
   },
   "outputs": [
    {
     "output_type": "stream",
     "name": "stdout",
     "text": "(0, 1)\n(1, 5)\n(2, 7)\n(3, 33)\n(4, 39)\n(5, 52)\n"
    }
   ],
   "source": [
    "# enumerate 개념 알기\n",
    "# :몇번째인지 알 수 있음 (인덱스 개념)\n",
    "t = [1, 5, 7, 33, 39, 52]\n",
    "for p in enmerate(t):\n",
    "     print(p)"
   ]
  },
  {
   "cell_type": "code",
   "execution_count": 14,
   "metadata": {
    "tags": []
   },
   "outputs": [
    {
     "output_type": "stream",
     "name": "stdout",
     "text": "index : 0, value: 1\nindex : 1, value: 5\nindex : 2, value: 7\nindex : 3, value: 33\nindex : 4, value: 39\nindex : 5, value: 52\n"
    }
   ],
   "source": [
    "# value 값만 뽑아내어 볼 수 있음\n",
    "for i, v in enumerate(t):\n",
    "     print(\"index : {}, value: {}\".format(i,v))"
   ]
  },
  {
   "cell_type": "code",
   "execution_count": 31,
   "metadata": {
    "tags": []
   },
   "outputs": [
    {
     "output_type": "stream",
     "name": "stdout",
     "text": "# 비교 인쇄물 []\n# 인쇄물 리스트:  [[1, 2], [2, 1], [3, 3], [4, 2]]\n# 최종 인쇄물 순서: []\n-----------------------------\n# 이번 인쇄물 [1, 2]\n# 비교 인쇄물 [1, 3, 2]\n# 인쇄물 리스트:  [[2, 1], [3, 3], [4, 2], [1, 2]]\n# 최종 인쇄물 순서: []\n-----------------------------\n# 이번 인쇄물 [2, 1]\n# 비교 인쇄물 [3, 2, 2]\n# 인쇄물 리스트:  [[3, 3], [4, 2], [1, 2], [2, 1]]\n# 최종 인쇄물 순서: []\n-----------------------------\n# 이번 인쇄물 [3, 3]\n# 비교 인쇄물 [2, 2, 1]\n# 인쇄물 리스트:  [[4, 2], [1, 2], [2, 1]]\n# 최종 인쇄물 순서: [[3, 3]]\n-----------------------------\n# 이번 인쇄물 [4, 2]\n# 비교 인쇄물 [2, 1]\n# 인쇄물 리스트:  [[1, 2], [2, 1]]\n# 최종 인쇄물 순서: [[3, 3], [4, 2]]\n-----------------------------\n# 이번 인쇄물 [1, 2]\n# 비교 인쇄물 [1]\n# 인쇄물 리스트:  [[2, 1]]\n# 최종 인쇄물 순서: [[3, 3], [4, 2], [1, 2]]\n-----------------------------\n# 이번 인쇄물 [2, 1]\n# 비교 인쇄물 [1]\n# 인쇄물 리스트:  []\n# 최종 인쇄물 순서: [[3, 3], [4, 2], [1, 2]]\n-----------------------------\n# 이번 인쇄물 [2, 1]\n# 비교 인쇄물 []\n# 인쇄물 리스트:  []\n# 최종 인쇄물 순서: [[3, 3], [4, 2], [1, 2], [2, 1]]\n"
    }
   ],
   "source": [
    "priorities = [2, 1, 3, 2]\n",
    "location = 2\n",
    "# return = 1\n",
    "print_list = []\n",
    "_priorities = [[i+1, v] for i, v in enumerate(priorities)]\n",
    "\n",
    "print('# 비교 인쇄물', list_left)\n",
    "print('# 인쇄물 리스트: ',_priorities)\n",
    "print('# 최종 인쇄물 순서:', print_list)\n",
    "print('-----------------------------')\n",
    "\n",
    "\n",
    "# 이번에 확인할 인쇄물\n",
    "this_turn = _priorities.pop(0)\n",
    "list_left = [item[1] for item in _priorities]\n",
    "\n",
    "if this_turn[1] < max(list_left):\n",
    "    _priorities.append(this_turn)\n",
    "elif this_turn[1] >= max(list_left):\n",
    "    print_list.append(this_turn)\n",
    "\n",
    "print('# 이번 인쇄물', this_turn)\n",
    "print('# 비교 인쇄물', list_left)\n",
    "print('# 인쇄물 리스트: ',_priorities)\n",
    "print('# 최종 인쇄물 순서:', print_list)\n",
    "print('-----------------------------')\n",
    "\n",
    "this_turn = _priorities.pop(0)\n",
    "list_left = [item[1] for item in _priorities]\n",
    "\n",
    "if this_turn[1] < max(list_left):\n",
    "    _priorities.append(this_turn)\n",
    "elif this_turn[1] >= max(list_left):\n",
    "    print_list.append(this_turn)\n",
    "\n",
    "print('# 이번 인쇄물', this_turn)\n",
    "print('# 비교 인쇄물', list_left)\n",
    "print('# 인쇄물 리스트: ',_priorities)\n",
    "print('# 최종 인쇄물 순서:', print_list)\n",
    "print('-----------------------------')\n",
    "\n",
    "this_turn = _priorities.pop(0)\n",
    "list_left = [item[1] for item in _priorities]\n",
    "\n",
    "if this_turn[1] < max(list_left):\n",
    "    _priorities.append(this_turn)\n",
    "elif this_turn[1] >= max(list_left):\n",
    "    print_list.append(this_turn)\n",
    "\n",
    "print('# 이번 인쇄물', this_turn)\n",
    "print('# 비교 인쇄물', list_left)\n",
    "print('# 인쇄물 리스트: ',_priorities)\n",
    "print('# 최종 인쇄물 순서:', print_list)\n",
    "print('-----------------------------')\n",
    "\n",
    "this_turn = _priorities.pop(0)\n",
    "list_left = [item[1] for item in _priorities]\n",
    "\n",
    "if this_turn[1] < max(list_left):\n",
    "    _priorities.append(this_turn)\n",
    "elif this_turn[1] >= max(list_left):\n",
    "    print_list.append(this_turn)\n",
    "\n",
    "print('# 이번 인쇄물', this_turn)\n",
    "print('# 비교 인쇄물', list_left)\n",
    "print('# 인쇄물 리스트: ',_priorities)\n",
    "print('# 최종 인쇄물 순서:', print_list)\n",
    "print('-----------------------------')\n",
    "\n",
    "this_turn = _priorities.pop(0)\n",
    "list_left = [item[1] for item in _priorities]\n",
    "\n",
    "if this_turn[1] < max(list_left):\n",
    "    _priorities.append(this_turn)\n",
    "elif this_turn[1] >= max(list_left):\n",
    "    print_list.append(this_turn)\n",
    "\n",
    "print('# 이번 인쇄물', this_turn)\n",
    "print('# 비교 인쇄물', list_left)\n",
    "print('# 인쇄물 리스트: ',_priorities)\n",
    "print('# 최종 인쇄물 순서:', print_list)\n",
    "print('-----------------------------')\n",
    "\n",
    "this_turn = _priorities.pop(0)\n",
    "print('# 이번 인쇄물', this_turn)\n",
    "print('# 비교 인쇄물', list_left)\n",
    "print('# 인쇄물 리스트: ',_priorities)\n",
    "print('# 최종 인쇄물 순서:', print_list)\n",
    "print('-----------------------------')\n",
    "\n",
    "list_left = [item[1] for item in _priorities]\n",
    "\n",
    "if not _priorities :\n",
    "        print_list.append(this_turn)\n",
    "\n",
    "print('# 이번 인쇄물', this_turn)\n",
    "print('# 비교 인쇄물', list_left)\n",
    "print('# 인쇄물 리스트: ',_priorities)\n",
    "print('# 최종 인쇄물 순서:', print_list)"
   ]
  },
  {
   "cell_type": "code",
   "execution_count": 121,
   "metadata": {
    "tags": []
   },
   "outputs": [
    {
     "output_type": "execute_result",
     "data": {
      "text/plain": "1"
     },
     "metadata": {},
     "execution_count": 121
    }
   ],
   "source": [
    "priorities = [2, 1, 3, 2]\n",
    "location = 2\n",
    "# return = 1\n",
    "\n",
    "def solution(priorities, location):\n",
    "    print_list = []\n",
    "    _priorities = [[i+1, v] for i, v in enumerate(priorities)]\n",
    "\n",
    "    while _priorities :\n",
    "        this_turn = _priorities.pop(0)\n",
    "        list_left = [item[1] for item in _priorities]\n",
    "\n",
    "        if len(list_left) > 0 :\n",
    "        \n",
    "            # 남은 \n",
    "            if this_turn[1] < max(list_left):\n",
    "                _priorities.append(this_turn)\n",
    "            else :\n",
    "                print_list.append(this_turn)\n",
    "        else :\n",
    "            print_list.append(this_turn)\n",
    "\n",
    "\n",
    "    answer = [[i+1, e][0] for i, e in enumerate(print_list) if e[0] == location + 1][0]\n",
    "\n",
    "    return answer\n",
    "\n",
    "# 테스트 1 〉\t통과 (0.52ms, 10.2MB)\n",
    "# 테스트 2 〉\t통과 (2.41ms, 10.2MB)\n",
    "# 테스트 3 〉\t통과 (1.68ms, 10.2MB)\n",
    "# 테스트 4 〉\t통과 (0.39ms, 10.2MB)\n",
    "# 테스트 5 〉\t통과 (0.01ms, 10.1MB)\n",
    "# 테스트 6 〉\t통과 (0.34ms, 10.2MB)\n",
    "# 테스트 7 〉\t통과 (0.68ms, 10.2MB)\n",
    "# 테스트 8 〉\t통과 (1.72ms, 10.2MB)\n",
    "# 테스트 9 〉\t통과 (0.06ms, 10.2MB)\n",
    "# 테스트 10 〉\t통과 (0.36ms, 10.2MB)\n",
    "# 테스트 11 〉\t통과 (1.40ms, 10.2MB)\n",
    "# 테스트 12 〉\t통과 (0.47ms, 10.2MB)\n",
    "# 테스트 13 〉\t통과 (1.27ms, 10.2MB)\n",
    "# 테스트 14 〉\t통과 (0.01ms, 10.3MB)\n",
    "# 테스트 15 〉\t통과 (0.18ms, 10.2MB)\n",
    "# 테스트 16 〉\t통과 (0.13ms, 10.2MB)\n",
    "# 테스트 17 〉\t통과 (2.04ms, 10.1MB)\n",
    "# 테스트 18 〉\t통과 (0.04ms, 10.2MB)\n",
    "# 테스트 19 〉\t통과 (1.76ms, 10.1MB)\n",
    "# 테스트 20 〉\t통과 (1.06ms, 10.2MB)\n"
   ]
  }
 ],
 "metadata": {
  "language_info": {
   "codemirror_mode": {
    "name": "ipython",
    "version": 3
   },
   "file_extension": ".py",
   "mimetype": "text/x-python",
   "name": "python",
   "nbconvert_exporter": "python",
   "pygments_lexer": "ipython3",
   "version": "3.8.5-final"
  },
  "orig_nbformat": 2,
  "kernelspec": {
   "name": "programmers_izik",
   "display_name": "[programmers_izik]"
  }
 },
 "nbformat": 4,
 "nbformat_minor": 2
}
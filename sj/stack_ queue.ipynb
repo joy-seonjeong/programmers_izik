{
 "cells": [
  {
   "cell_type": "markdown",
   "metadata": {},
   "source": [
    "#### Stack & Queue\n",
    "2020-11-31"
   ]
  },
  {
   "cell_type": "code",
   "execution_count": 50,
   "metadata": {
    "tags": []
   },
   "outputs": [
    {
     "output_type": "stream",
     "name": "stdout",
     "text": "[1, 2, 3]\n3\n2\n1\n"
    }
   ],
   "source": [
    "# stack: 마지막에 들어간 것부터 뽑아내기\n",
    "stack = []\n",
    "stack.append(1)\n",
    "stack.append(2)\n",
    "stack.append(3)\n",
    "print(stack)\n",
    "\n",
    "print(stack.pop())\n",
    "print(stack.pop())\n",
    "print(stack.pop()\n",
    ")"
   ]
  },
  {
   "cell_type": "code",
   "execution_count": 58,
   "metadata": {
    "tags": []
   },
   "outputs": [
    {
     "output_type": "stream",
     "name": "stdout",
     "text": "[1, 2, 3]\n1\n2\n3\n"
    }
   ],
   "source": [
    "# Queue : 들어간 순서대로 나오기\n",
    "queue = []\n",
    "queue.append(1)\n",
    "queue.append(2)\n",
    "queue.append(3)\n",
    "print(queue)\n",
    "\n",
    "print(queue.pop(0))\n",
    "print(queue.pop(0))\n",
    "print(queue.pop(0))"
   ]
  },
  {
   "cell_type": "code",
   "execution_count": 64,
   "metadata": {
    "tags": []
   },
   "outputs": [
    {
     "output_type": "stream",
     "name": "stdout",
     "text": "deque([1, 2])\n1\n2\n"
    }
   ],
   "source": [
    "# queue는 오래 걸려서 아래의 방법으로 사용\n",
    "from collections import deque\n",
    "queue = deque()\n",
    "queue.append(1)\n",
    "queue.append(2)\n",
    "print(queue)\n",
    "\n",
    "print(queue.popleft())\n",
    "print(queue.popleft())"
   ]
  },
  {
   "cell_type": "markdown",
   "metadata": {},
   "source": [
    "### 1. 주식 가격\n",
    "\n",
    "prices = [1, 2, 3, 2, 3]  \n",
    "answer = [4, 3, 1, 1, 0]"
   ]
  },
  {
   "cell_type": "code",
   "execution_count": 245,
   "metadata": {},
   "outputs": [
    {
     "output_type": "execute_result",
     "data": {
      "text/plain": "5"
     },
     "metadata": {},
     "execution_count": 245
    }
   ],
   "source": [
    "prices = [1, 2, 3, 2, 3]\n",
    "len(prices)"
   ]
  },
  {
   "cell_type": "code",
   "execution_count": 251,
   "metadata": {},
   "outputs": [],
   "source": [
    "def solution(prices):\n",
    "    answer = [0] * len(prices)\n",
    "    for i in range(1, len(prices)):\n",
    "        now = prices[i-1]\n",
    "        sec = 0\n",
    "        for j in range(i, len(prices)):\n",
    "            next = prices[j]\n",
    "            sec += 1\n",
    "            if now > next:\n",
    "                break\n",
    "        answer[i-1] = sec\n",
    "    return answer"
   ]
  },
  {
   "cell_type": "code",
   "execution_count": 254,
   "metadata": {},
   "outputs": [
    {
     "output_type": "execute_result",
     "data": {
      "text/plain": "[4, 3, 1, 1, 0]"
     },
     "metadata": {},
     "execution_count": 254
    }
   ],
   "source": [
    "prices = [1, 2, 3, 2, 3]\n",
    "solution(prices)"
   ]
  },
  {
   "cell_type": "markdown",
   "metadata": {},
   "source": [
    "stack 활용해서 해보기"
   ]
  },
  {
   "cell_type": "code",
   "execution_count": 280,
   "metadata": {
    "tags": []
   },
   "outputs": [
    {
     "output_type": "stream",
     "name": "stdout",
     "text": "[]\n첫번째\n[2]\n[3, 2, 3]\n두번째\n[2, 3]\n[2, 3]\n"
    }
   ],
   "source": [
    "prices = [1, 2, 3, 2, 3]\n",
    "time_stack = []\n",
    "now = prices.pop(0)\n",
    "print(time_stack)\n",
    "\n",
    "next = prices[0]\n",
    "if now < next :\n",
    "    time_stack.append(prices.pop(0))\n",
    "print('첫번째')\n",
    "print(time_stack)\n",
    "print(prices)\n",
    "\n",
    "next = prices[0]\n",
    "if now < next :\n",
    "    time_stack.append(prices.pop(0))\n",
    "print('두번째')\n",
    "print(time_stack)\n",
    "print(prices)"
   ]
  },
  {
   "cell_type": "code",
   "execution_count": 340,
   "metadata": {
    "tags": []
   },
   "outputs": [
    {
     "output_type": "stream",
     "name": "stdout",
     "text": "[2, 3, 2, 3]\n[3, 2, 3]\n[]\n"
    },
    {
     "output_type": "error",
     "ename": "IndexError",
     "evalue": "list index out of range",
     "traceback": [
      "\u001b[0;31m---------------------------------------------------------------------------\u001b[0m",
      "\u001b[0;31mIndexError\u001b[0m                                Traceback (most recent call last)",
      "\u001b[0;32m<ipython-input-340-abb277fb88b7>\u001b[0m in \u001b[0;36m<module>\u001b[0;34m\u001b[0m\n\u001b[1;32m      3\u001b[0m \u001b[0;34m\u001b[0m\u001b[0m\n\u001b[1;32m      4\u001b[0m \u001b[0;32mfor\u001b[0m \u001b[0mi\u001b[0m \u001b[0;32min\u001b[0m \u001b[0mrange\u001b[0m\u001b[0;34m(\u001b[0m\u001b[0;36m0\u001b[0m\u001b[0;34m,\u001b[0m\u001b[0;36m5\u001b[0m\u001b[0;34m)\u001b[0m\u001b[0;34m:\u001b[0m\u001b[0;34m\u001b[0m\u001b[0;34m\u001b[0m\u001b[0m\n\u001b[0;32m----> 5\u001b[0;31m     \u001b[0mnow\u001b[0m \u001b[0;34m=\u001b[0m \u001b[0mprices\u001b[0m\u001b[0;34m[\u001b[0m\u001b[0;36m0\u001b[0m\u001b[0;34m]\u001b[0m\u001b[0;34m\u001b[0m\u001b[0;34m\u001b[0m\u001b[0m\n\u001b[0m\u001b[1;32m      6\u001b[0m     \u001b[0mprices\u001b[0m\u001b[0;34m.\u001b[0m\u001b[0mpop\u001b[0m\u001b[0;34m(\u001b[0m\u001b[0;36m0\u001b[0m\u001b[0;34m)\u001b[0m\u001b[0;34m\u001b[0m\u001b[0;34m\u001b[0m\u001b[0m\n\u001b[1;32m      7\u001b[0m     \u001b[0mtime_stack\u001b[0m \u001b[0;34m=\u001b[0m \u001b[0;34m[\u001b[0m\u001b[0;34m]\u001b[0m\u001b[0;34m\u001b[0m\u001b[0;34m\u001b[0m\u001b[0m\n",
      "\u001b[0;31mIndexError\u001b[0m: list index out of range"
     ]
    }
   ],
   "source": [
    "prices = [1, 2, 3, 2, 3]\n",
    "answer = []\n",
    "\n",
    "for i in range(0,5):\n",
    "    now = prices[0]\n",
    "    prices.pop(0)\n",
    "    time_stack = []\n",
    "    while prices :\n",
    "        next = prices[0]\n",
    "        if now <= next :\n",
    "            time_stack.append(prices.pop(0))\n",
    "            prices = time_stack\n",
    "        else :\n",
    "            break\n",
    "            prices = \n",
    "    answer.append(len(time_stack))\n",
    "\n",
    "    print(prices)"
   ]
  },
  {
   "cell_type": "markdown",
   "metadata": {},
   "source": [
    "### 2. 기능 개발  \n",
    "progresses: [93, 30, 55]  \n",
    "speeds: [1, 30, 5]  \n",
    "return: [2, 1]  "
   ]
  },
  {
   "cell_type": "code",
   "execution_count": 95,
   "metadata": {},
   "outputs": [],
   "source": [
    "progresses=[93, 30, 55]  \n",
    "speeds=[1, 30, 5]"
   ]
  },
  {
   "cell_type": "code",
   "execution_count": 169,
   "metadata": {
    "tags": []
   },
   "outputs": [
    {
     "output_type": "stream",
     "name": "stdout",
     "text": "7\n3\n9\n"
    }
   ],
   "source": [
    "# 개발 일정 계산\n",
    "import math\n",
    "print(math.ceil(((100-93)/1)))\n",
    "print(math.ceil(((100-30)/30)))\n",
    "print(math.ceil(((100-55)/5)))"
   ]
  },
  {
   "cell_type": "code",
   "execution_count": 178,
   "metadata": {
    "tags": []
   },
   "outputs": [
    {
     "output_type": "stream",
     "name": "stdout",
     "text": "[7, 3, 9]\n"
    }
   ],
   "source": [
    "# 각 개발 일정\n",
    "day = [0] * len(progresses)\n",
    "for i in range(len(progresses)):\n",
    "    day[i-1] = math.ceil(((100-progresses[i-1])/speeds[i-1]))\n",
    "print(day)"
   ]
  },
  {
   "cell_type": "code",
   "execution_count": 179,
   "metadata": {
    "tags": []
   },
   "outputs": [
    {
     "output_type": "stream",
     "name": "stdout",
     "text": "[7]\n[3, 9]\n"
    }
   ],
   "source": [
    "stack = []\n",
    "answer = []\n",
    "stack.append(day.pop(0))\n",
    "print(stack)\n",
    "print(day)"
   ]
  },
  {
   "cell_type": "code",
   "execution_count": 180,
   "metadata": {
    "tags": []
   },
   "outputs": [
    {
     "output_type": "stream",
     "name": "stdout",
     "text": "[2, 1]\n"
    }
   ],
   "source": [
    "while day :\n",
    "    now = day.pop(0)\n",
    "    if stack[0] >= now:\n",
    "        stack.append(now)\n",
    "    else:\n",
    "        answer.append(len(stack))\n",
    "        stack = [now]\n",
    "    if not day:\n",
    "        answer.append(len(stack))\n",
    "print(answer)"
   ]
  },
  {
   "cell_type": "code",
   "execution_count": 188,
   "metadata": {},
   "outputs": [],
   "source": [
    "def solution(progresses, speeds):\n",
    "    \n",
    "    day = [0] * len(progresses)\n",
    "    for i in range(len(progresses)):\n",
    "        day[i-1] = math.ceil(((100-progresses[i-1])/speeds[i-1]))\n",
    "\n",
    "    stack = []\n",
    "    answer = []\n",
    "    stack.append(day.pop(0))\n",
    "\n",
    "    while day :\n",
    "        now = day.pop(0)\n",
    "        if stack[0] >= now:\n",
    "            stack.append(now)\n",
    "        else:\n",
    "            answer.append(len(stack))\n",
    "            stack = [now]\n",
    "        if not day:\n",
    "            answer.append(len(stack))\n",
    "\n",
    "    return answer\n",
    "\n",
    "\n"
   ]
  },
  {
   "cell_type": "code",
   "execution_count": 190,
   "metadata": {
    "tags": []
   },
   "outputs": [
    {
     "output_type": "stream",
     "name": "stdout",
     "text": "return: \n"
    },
    {
     "output_type": "execute_result",
     "data": {
      "text/plain": "[2, 1]"
     },
     "metadata": {},
     "execution_count": 190
    }
   ],
   "source": [
    "print('return: ')\n",
    "solution(progresses, speeds)"
   ]
  },
  {
   "cell_type": "markdown",
   "metadata": {},
   "source": [
    "### 3. 다리를 지나는 트럭"
   ]
  },
  {
   "cell_type": "code",
   "execution_count": 192,
   "metadata": {},
   "outputs": [],
   "source": [
    "bridge_length = 2\n",
    "weight = 10\n",
    "truck_weights = [7,4,5,6]\n",
    "#return = 8"
   ]
  },
  {
   "cell_type": "code",
   "execution_count": 243,
   "metadata": {
    "tags": []
   },
   "outputs": [
    {
     "output_type": "stream",
     "name": "stdout",
     "text": "cross: [[7, 2]]\nleft: [4, 5, 6]\n경과시간: 2\n"
    }
   ],
   "source": [
    "bridge_length = 2\n",
    "weight = 10\n",
    "truck_weights = [7,4,5,6]\n",
    "\n",
    "# 1초 돌때마다 다리 위에 트럭 올리기\n",
    "sec=0\n",
    "place=1\n",
    "cross = []\n",
    "cross.append([truck_weights.pop(0),place])\n",
    "sec+=1\n",
    "cross[0] = [cross[0][0], cross[0][1]+1]\n",
    "sec+=1\n",
    "print('cross:',cross)\n",
    "print('left:', truck_weights)\n",
    "print('경과시간:', sec)\n"
   ]
  },
  {
   "cell_type": "code",
   "execution_count": 219,
   "metadata": {},
   "outputs": [
    {
     "output_type": "error",
     "ename": "TypeError",
     "evalue": "list indices must be integers or slices, not tuple",
     "traceback": [
      "\u001b[0;31m---------------------------------------------------------------------------\u001b[0m",
      "\u001b[0;31mTypeError\u001b[0m                                 Traceback (most recent call last)",
      "\u001b[0;32m<ipython-input-219-fedd636bb301>\u001b[0m in \u001b[0;36m<module>\u001b[0;34m\u001b[0m\n\u001b[0;32m----> 1\u001b[0;31m \u001b[0mcross\u001b[0m\u001b[0;34m[\u001b[0m\u001b[0;36m0\u001b[0m\u001b[0;34m,\u001b[0m\u001b[0;36m1\u001b[0m\u001b[0;34m]\u001b[0m\u001b[0;34m\u001b[0m\u001b[0;34m\u001b[0m\u001b[0m\n\u001b[0m",
      "\u001b[0;31mTypeError\u001b[0m: list indices must be integers or slices, not tuple"
     ]
    }
   ],
   "source": [
    "cross"
   ]
  },
  {
   "cell_type": "code",
   "execution_count": 211,
   "metadata": {
    "tags": []
   },
   "outputs": [
    {
     "output_type": "stream",
     "name": "stdout",
     "text": "cross: [7]\nleft: [4, 5, 6]\n경과시간: 2\n"
    }
   ],
   "source": [
    "bridge_length = 2\n",
    "weight = 10\n",
    "truck_weights = [7,4,5,6]\n",
    "\n",
    "sec=0\n",
    "cross = []\n",
    "cross.append(truck_weights.pop(0))\n",
    "for i in range(1, len(truck_weights)):\n",
    "    # cross에 있는 무게가 10이 넘지 않는다는 조건 넣기\n",
    "    if cross[0] + truck_weights[0] < 10 :\n",
    "        cross.append(truck_weights.pop(0))\n",
    "        sec += 1\n",
    "    else :\n",
    "        sec += 1\n",
    "print('cross:',cross)\n",
    "print('left:', truck_weights)\n",
    "print('경과시간:', sec)\n"
   ]
  },
  {
   "cell_type": "code",
   "execution_count": null,
   "metadata": {},
   "outputs": [],
   "source": [
    "# 다리에서 내려간 트럭이 원래 트럭 수보다 작을때까지 진행\n",
    "done = []\n",
    "while len(done) < len(truck_weights):\n",
    "    \n"
   ]
  },
  {
   "cell_type": "code",
   "execution_count": null,
   "metadata": {},
   "outputs": [],
   "source": []
  }
 ],
 "metadata": {
  "language_info": {
   "codemirror_mode": {
    "name": "ipython",
    "version": 3
   },
   "file_extension": ".py",
   "mimetype": "text/x-python",
   "name": "python",
   "nbconvert_exporter": "python",
   "pygments_lexer": "ipython3",
   "version": "3.8.5-final"
  },
  "orig_nbformat": 2,
  "kernelspec": {
   "name": "programmers_izik",
   "display_name": "[programmers_izik]"
  }
 },
 "nbformat": 4,
 "nbformat_minor": 2
}